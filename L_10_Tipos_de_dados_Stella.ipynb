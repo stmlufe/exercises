{
  "cells": [
    {
      "cell_type": "markdown",
      "metadata": {
        "id": "view-in-github",
        "colab_type": "text"
      },
      "source": [
        "<a href=\"https://colab.research.google.com/github/stmlufe/exercises/blob/master/L_10_Tipos_de_dados_Stella.ipynb\" target=\"_parent\"><img src=\"https://colab.research.google.com/assets/colab-badge.svg\" alt=\"Open In Colab\"/></a>"
      ]
    },
    {
      "cell_type": "markdown",
      "metadata": {
        "id": "llUcpfuL6kQR"
      },
      "source": [
        "## Tipos de dados\n",
        "\n",
        "### Python como uma calculadora\n",
        "\n",
        "Considere as seguintes variáveis:"
      ]
    },
    {
      "cell_type": "code",
      "execution_count": null,
      "metadata": {
        "id": "wp0lamhy6kQY"
      },
      "outputs": [],
      "source": [
        "a = 123\n",
        "b = 456"
      ]
    },
    {
      "cell_type": "markdown",
      "metadata": {
        "id": "-OruAFD76kQc"
      },
      "source": [
        "Calcule:\n",
        "\n",
        "1. $a + b$"
      ]
    },
    {
      "cell_type": "code",
      "execution_count": null,
      "metadata": {
        "id": "4L6abLUo6kQd",
        "outputId": "3b192088-7e5b-4074-f12a-f8f8a2c6d071",
        "colab": {
          "base_uri": "https://localhost:8080/"
        }
      },
      "outputs": [
        {
          "output_type": "execute_result",
          "data": {
            "text/plain": [
              "579"
            ]
          },
          "metadata": {},
          "execution_count": 17
        }
      ],
      "source": [
        "#Resposta\n",
        "a+b"
      ]
    },
    {
      "cell_type": "markdown",
      "metadata": {
        "id": "-fH6MEJG6kQe"
      },
      "source": [
        "2. $a - b$"
      ]
    },
    {
      "cell_type": "code",
      "execution_count": null,
      "metadata": {
        "id": "ZdfqoxEW6kQf",
        "colab": {
          "base_uri": "https://localhost:8080/"
        },
        "outputId": "5a53adaa-2882-401f-e5ea-23e174b97fd7"
      },
      "outputs": [
        {
          "output_type": "execute_result",
          "data": {
            "text/plain": [
              "-333"
            ]
          },
          "metadata": {},
          "execution_count": 18
        }
      ],
      "source": [
        "#Resposta\n",
        "a-b"
      ]
    },
    {
      "cell_type": "markdown",
      "metadata": {
        "id": "ySVi57Vb6kQg"
      },
      "source": [
        "3. $a \\cdot b$"
      ]
    },
    {
      "cell_type": "code",
      "execution_count": null,
      "metadata": {
        "id": "cAqz6_pE6kQh",
        "colab": {
          "base_uri": "https://localhost:8080/"
        },
        "outputId": "96d65d21-e4a2-48db-d323-3ed622a4b3e4"
      },
      "outputs": [
        {
          "output_type": "execute_result",
          "data": {
            "text/plain": [
              "56088"
            ]
          },
          "metadata": {},
          "execution_count": 19
        }
      ],
      "source": [
        "#Resposta\n",
        "a*b"
      ]
    },
    {
      "cell_type": "markdown",
      "metadata": {
        "id": "J6gMB21L6kQj"
      },
      "source": [
        "4. $a^b$"
      ]
    },
    {
      "cell_type": "code",
      "execution_count": null,
      "metadata": {
        "id": "ZMun54fD6kQk",
        "colab": {
          "base_uri": "https://localhost:8080/"
        },
        "outputId": "1815c80a-332d-4061-c8e6-e7a31416cfdb"
      },
      "outputs": [
        {
          "output_type": "execute_result",
          "data": {
            "text/plain": [
              "99250068772098856700831462057469632637295940819886900519816298881382867104749399077921128661426144638055424236936271872492800352741649902118143819672601569998100120790496759517636465445895625741609866209900500198407153244604778968016963028050310261417615914468729918240685487878617645976939063464357986165711730976399478507649228686341466967167910126653342134942744851463899927487092486610977146112763567101672645953132196481439339873017088140414661271198500333255713096142335151414630651683065518784081203678487703002802082091236603519026256880624499681781387227574035484831271515683123742149095569260463609655977700938844580611931246495166208695540313698140011638027322566252689780838136351828795314272162111222231170901715612355701347552371530013693855379834865667060014643302459100429783653966913783002290784283455628283355470529932956051484477129333881159930212758687602795088579230431661696010232187390436601614145603241902386663442520160735566561"
            ]
          },
          "metadata": {},
          "execution_count": 20
        }
      ],
      "source": [
        "#Resposta\n",
        "a**b"
      ]
    },
    {
      "cell_type": "markdown",
      "metadata": {
        "id": "_wCupUad6kQl"
      },
      "source": [
        "5. \n",
        "$\\frac{a}{b}$"
      ]
    },
    {
      "cell_type": "code",
      "execution_count": null,
      "metadata": {
        "id": "AdEWjT6S6kQm",
        "colab": {
          "base_uri": "https://localhost:8080/"
        },
        "outputId": "c9aeb75a-ac01-4932-83b2-64410749b8ab"
      },
      "outputs": [
        {
          "output_type": "execute_result",
          "data": {
            "text/plain": [
              "0.26973684210526316"
            ]
          },
          "metadata": {},
          "execution_count": 21
        }
      ],
      "source": [
        "#Resposta\n",
        "a/b"
      ]
    },
    {
      "cell_type": "markdown",
      "metadata": {
        "id": "CcShnvLP6kQo"
      },
      "source": [
        "6. O resto da divisão de b por a"
      ]
    },
    {
      "cell_type": "code",
      "execution_count": null,
      "metadata": {
        "id": "XWYDxU0c6kQo",
        "colab": {
          "base_uri": "https://localhost:8080/"
        },
        "outputId": "36c5c7ff-ee08-48b8-f9db-7d22eafa4b06"
      },
      "outputs": [
        {
          "output_type": "execute_result",
          "data": {
            "text/plain": [
              "87"
            ]
          },
          "metadata": {},
          "execution_count": 22
        }
      ],
      "source": [
        "#Resposta\n",
        "b%a"
      ]
    },
    {
      "cell_type": "markdown",
      "metadata": {
        "id": "V0Nmz3Wt6kQp"
      },
      "source": [
        "7. A parte inteira da divisão de b por a"
      ]
    },
    {
      "cell_type": "code",
      "execution_count": null,
      "metadata": {
        "id": "MwQz_xqz6kQq",
        "colab": {
          "base_uri": "https://localhost:8080/"
        },
        "outputId": "64212099-4767-43c7-974c-8e279b074dcd"
      },
      "outputs": [
        {
          "output_type": "execute_result",
          "data": {
            "text/plain": [
              "3"
            ]
          },
          "metadata": {},
          "execution_count": 23
        }
      ],
      "source": [
        "#Resposta\n",
        "b//a"
      ]
    },
    {
      "cell_type": "markdown",
      "metadata": {
        "id": "1I9TQSvp6kQs"
      },
      "source": [
        "8. Verdadeiro ou falso? $a^b > b^a$"
      ]
    },
    {
      "cell_type": "code",
      "execution_count": null,
      "metadata": {
        "id": "flA4WwsQ6kQt",
        "colab": {
          "base_uri": "https://localhost:8080/"
        },
        "outputId": "1e39fee4-0b38-4199-c68c-d004be6ddded"
      },
      "outputs": [
        {
          "output_type": "execute_result",
          "data": {
            "text/plain": [
              "True"
            ]
          },
          "metadata": {},
          "execution_count": 24
        }
      ],
      "source": [
        "#Resposta\n",
        "a**b > b**a"
      ]
    },
    {
      "cell_type": "markdown",
      "metadata": {
        "id": "oQykwRGd6kQu"
      },
      "source": [
        "### A rose by any other name would smell as sweet\n",
        "\n",
        "1. Crie uma variável _a_ que contenha um integer 1. Use o comando `type` para mostrar que _a_ é um integer."
      ]
    },
    {
      "cell_type": "code",
      "execution_count": null,
      "metadata": {
        "id": "9ZZWxgF16kQv",
        "colab": {
          "base_uri": "https://localhost:8080/"
        },
        "outputId": "a5e724d3-3a35-46e4-9777-451a5a23d84b"
      },
      "outputs": [
        {
          "output_type": "execute_result",
          "data": {
            "text/plain": [
              "int"
            ]
          },
          "metadata": {},
          "execution_count": 26
        }
      ],
      "source": [
        "#Resposta\n",
        "type(a)"
      ]
    },
    {
      "cell_type": "markdown",
      "metadata": {
        "id": "YnRlC4676kQw"
      },
      "source": [
        "2. Crie uma variável _b_ que contenha um float 1. Use o comando `type` para mostrar que _a_ é um float."
      ]
    },
    {
      "cell_type": "code",
      "execution_count": null,
      "metadata": {
        "id": "Q4FN7wId6kQx",
        "colab": {
          "base_uri": "https://localhost:8080/"
        },
        "outputId": "7b965364-d4c1-4499-f9c9-e96c61c86458"
      },
      "outputs": [
        {
          "output_type": "execute_result",
          "data": {
            "text/plain": [
              "float"
            ]
          },
          "metadata": {},
          "execution_count": 27
        }
      ],
      "source": [
        "#Resposta\n",
        "b = 45.2\n",
        "type(b)"
      ]
    },
    {
      "cell_type": "markdown",
      "metadata": {
        "id": "vPK6MFxi6kQy"
      },
      "source": [
        "3. Crie uma variável _c_ que contenha um string 1. Use o comando `type` para mostrar que _a_ é um string."
      ]
    },
    {
      "cell_type": "code",
      "execution_count": null,
      "metadata": {
        "id": "yFd_tEbC6kQ0",
        "colab": {
          "base_uri": "https://localhost:8080/"
        },
        "outputId": "d7fe6bcc-9929-4bed-cca5-d4d000688f40"
      },
      "outputs": [
        {
          "output_type": "execute_result",
          "data": {
            "text/plain": [
              "str"
            ]
          },
          "metadata": {},
          "execution_count": 29
        }
      ],
      "source": [
        "#Resposta\n",
        "c = 'numero'\n",
        "type(c)"
      ]
    },
    {
      "cell_type": "markdown",
      "metadata": {
        "id": "lJsk5czU6kQ1"
      },
      "source": [
        "### Operações com strings\n",
        "\n",
        "1. Use as variáveis abaixo e uma operação matemática para fazer o nome de uma cantora."
      ]
    },
    {
      "cell_type": "code",
      "execution_count": null,
      "metadata": {
        "id": "xDMpk4_56kQ1"
      },
      "outputs": [],
      "source": [
        "a = 'Lady'\n",
        "b = ' '\n",
        "c = 'Gaga'"
      ]
    },
    {
      "cell_type": "code",
      "execution_count": null,
      "metadata": {
        "id": "HOrvTHnc6kQ2",
        "colab": {
          "base_uri": "https://localhost:8080/",
          "height": 35
        },
        "outputId": "1aa15152-a82d-44a0-f3dc-cab27546fd45"
      },
      "outputs": [
        {
          "output_type": "execute_result",
          "data": {
            "text/plain": [
              "'Lady Gaga'"
            ],
            "application/vnd.google.colaboratory.intrinsic+json": {
              "type": "string"
            }
          },
          "metadata": {},
          "execution_count": 31
        }
      ],
      "source": [
        "#Resposta\n",
        "a+b+c"
      ]
    },
    {
      "cell_type": "markdown",
      "metadata": {
        "id": "QczFI1hB6kQ3"
      },
      "source": [
        "2.Use as variáveis abaixo para escrever a frase: \"in the shalalalalalalow\""
      ]
    },
    {
      "cell_type": "code",
      "execution_count": null,
      "metadata": {
        "id": "sU5KCElB6kQ4"
      },
      "outputs": [],
      "source": [
        "a = 'in the sha'\n",
        "b = 'la'\n",
        "c = 'low'"
      ]
    },
    {
      "cell_type": "code",
      "execution_count": null,
      "metadata": {
        "id": "WDcCqKTs6kQ4",
        "colab": {
          "base_uri": "https://localhost:8080/",
          "height": 35
        },
        "outputId": "a69716be-e76e-4c16-eddb-836ccd19c107"
      },
      "outputs": [
        {
          "output_type": "execute_result",
          "data": {
            "text/plain": [
              "'in the shalalalalalalow'"
            ],
            "application/vnd.google.colaboratory.intrinsic+json": {
              "type": "string"
            }
          },
          "metadata": {},
          "execution_count": 33
        }
      ],
      "source": [
        "#Resposta\n",
        "a+5*b+c "
      ]
    },
    {
      "cell_type": "markdown",
      "metadata": {
        "id": "Cmw3UrwF6kQ5"
      },
      "source": [
        "3. A variável `letra` é um string que contém a letra de _Shallow_. Use a função `len` para contar quantos caracteres a letra tem"
      ]
    },
    {
      "cell_type": "code",
      "execution_count": null,
      "metadata": {
        "id": "bo5Zuy876kQ6"
      },
      "outputs": [],
      "source": [
        "letra = '''Tell me somethin', girl\n",
        "Are you happy in this modern world?\n",
        "Or do you need more?\n",
        "Is there somethin' else you're searchin' for?\n",
        "\n",
        "I'm fallin'\n",
        "In all the good times I find myself longin' for change\n",
        "And in the bad times, I fear myself\n",
        "\n",
        "Tell me something, boy\n",
        "Aren't you tired tryin' to fill that void?\n",
        "Or do you need more?\n",
        "Ain't it hard keepin' it so hardcore?\n",
        "\n",
        "I'm falling\n",
        "In all the good times I find myself longing for change\n",
        "And in the bad times, I fear myself\n",
        "\n",
        "I'm off the deep end, watch as I dive in\n",
        "I'll never meet the ground\n",
        "Crash through the surface, where they can't hurt us\n",
        "We're far from the shallow now\n",
        "\n",
        "In the sha-ha-sha-ha-llow\n",
        "In the sha-ha-sha-la-la-la-llow\n",
        "In the sha-ha-sha-ha-llow\n",
        "We're far from the shallow now\n",
        "\n",
        "Oh, ha-ah-ah\n",
        "Ah, ha-ah-ah, oh, ah\n",
        "Ha-ah-ah-ah\n",
        "\n",
        "I'm off the deep end, watch as I dive in\n",
        "I'll never meet the ground\n",
        "Crash through the surface, where they can't hurt us\n",
        "We're far from the shallow now\n",
        "\n",
        "In the sha-ha-sha-ha-llow\n",
        "In the sha-ha-sha-la-la-la-llow\n",
        "In the sha-ha-sha-ha-llow\n",
        "We're far from the shallow now'''"
      ]
    },
    {
      "cell_type": "code",
      "execution_count": null,
      "metadata": {
        "id": "zOaxuMf16kQ8",
        "colab": {
          "base_uri": "https://localhost:8080/"
        },
        "outputId": "06db1d97-c99b-4f4a-a1ae-f34da9cf578a"
      },
      "outputs": [
        {
          "output_type": "execute_result",
          "data": {
            "text/plain": [
              "1043"
            ]
          },
          "metadata": {},
          "execution_count": 35
        }
      ],
      "source": [
        "#Resposta\n",
        "len(letra)"
      ]
    },
    {
      "cell_type": "markdown",
      "metadata": {
        "id": "vmvl45Fi6kQ8"
      },
      "source": [
        "4. Selecione os últimos 30 caracteres da letra (isso é, do caracter 1013, até o final)."
      ]
    },
    {
      "cell_type": "code",
      "execution_count": null,
      "metadata": {
        "id": "PXceFfsG6kQ9",
        "colab": {
          "base_uri": "https://localhost:8080/",
          "height": 35
        },
        "outputId": "3c0c83a4-fe86-4eca-857d-fa6e933ec829"
      },
      "outputs": [
        {
          "output_type": "execute_result",
          "data": {
            "text/plain": [
              "\"We're far from the shallow now\""
            ],
            "application/vnd.google.colaboratory.intrinsic+json": {
              "type": "string"
            }
          },
          "metadata": {},
          "execution_count": 37
        }
      ],
      "source": [
        "#Resposta\n",
        "letra[1013:]"
      ]
    },
    {
      "cell_type": "markdown",
      "metadata": {
        "id": "hT4f9U6u6kQ-"
      },
      "source": [
        "### Formatação de strings\n",
        "\n",
        "Em Data Science, é comum querermos mostrar na tela um string com os resultados do modelo. Algo do tipo:\n",
        "\n",
        "> Modelo 1: Precisao = 91.3%. Acurácia = 90.1%\n",
        "\n",
        "Use as informações abaixo para construir um string como o acima. Use 1 casa decimal e exprima os resultados como porcentagens."
      ]
    },
    {
      "cell_type": "code",
      "execution_count": null,
      "metadata": {
        "id": "-_x3szEt6kRA"
      },
      "outputs": [],
      "source": [
        "modelo = 1\n",
        "precisao = 91.310579284\n",
        "acuracia = 90.102378192"
      ]
    },
    {
      "cell_type": "code",
      "execution_count": null,
      "metadata": {
        "id": "whGFX0U_6kRA",
        "colab": {
          "base_uri": "https://localhost:8080/",
          "height": 35
        },
        "outputId": "feb90c05-45bd-48ae-97b0-6934cd670e81"
      },
      "outputs": [
        {
          "output_type": "execute_result",
          "data": {
            "text/plain": [
              "'Modelo 1: Precisao = 91.3%. Acurácia = 90.1% '"
            ],
            "application/vnd.google.colaboratory.intrinsic+json": {
              "type": "string"
            }
          },
          "metadata": {},
          "execution_count": 40
        }
      ],
      "source": [
        "#Resposta\n",
        "\n",
        "string = f'Modelo {modelo}: Precisao = {precisao:.1f}%. Acurácia = {acuracia:.1f}% '\n",
        "string\n"
      ]
    }
  ],
  "metadata": {
    "kernelspec": {
      "display_name": "Python 3",
      "language": "python",
      "name": "python3"
    },
    "language_info": {
      "codemirror_mode": {
        "name": "ipython",
        "version": 3
      },
      "file_extension": ".py",
      "mimetype": "text/x-python",
      "name": "python",
      "nbconvert_exporter": "python",
      "pygments_lexer": "ipython3",
      "version": "3.8.3"
    },
    "colab": {
      "provenance": [],
      "include_colab_link": true
    }
  },
  "nbformat": 4,
  "nbformat_minor": 0
}