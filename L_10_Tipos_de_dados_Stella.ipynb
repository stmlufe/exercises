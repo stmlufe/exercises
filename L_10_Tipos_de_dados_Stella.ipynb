{
  "cells": [
    {
      "cell_type": "markdown",
      "metadata": {
        "id": "llUcpfuL6kQR"
      },
      "source": [
        "## Tipos de dados\n",
        "\n",
        "### Python como uma calculadora\n",
        "\n",
        "Considere as seguintes variáveis:"
      ]
    },
    {
      "cell_type": "code",
      "execution_count": 1,
      "metadata": {
        "id": "wp0lamhy6kQY"
      },
      "outputs": [],
      "source": [
        "a = 123\n",
        "b = 456"
      ]
    },
    {
      "cell_type": "markdown",
      "metadata": {
        "id": "-OruAFD76kQc"
      },
      "source": [
        "Calcule:\n",
        "\n",
        "1. $a + b$"
      ]
    },
    {
      "cell_type": "code",
      "execution_count": null,
      "metadata": {
        "id": "4L6abLUo6kQd",
        "outputId": "0ce3f010-68ac-4893-cb1e-093e8c8526ff",
        "colab": {
          "base_uri": "https://localhost:8080/"
        }
      },
      "outputs": [
        {
          "output_type": "execute_result",
          "data": {
            "text/plain": [
              "579"
            ]
          },
          "metadata": {},
          "execution_count": 2
        }
      ],
      "source": [
        "#Resposta\n",
        "a+b"
      ]
    },
    {
      "cell_type": "markdown",
      "metadata": {
        "id": "-fH6MEJG6kQe"
      },
      "source": [
        "2. $a - b$"
      ]
    },
    {
      "cell_type": "code",
      "execution_count": 2,
      "metadata": {
        "id": "ZdfqoxEW6kQf",
        "colab": {
          "base_uri": "https://localhost:8080/"
        },
        "outputId": "a65075ce-0642-4b6c-cbf8-9d93d288fe4e"
      },
      "outputs": [
        {
          "output_type": "execute_result",
          "data": {
            "text/plain": [
              "-333"
            ]
          },
          "metadata": {},
          "execution_count": 2
        }
      ],
      "source": [
        "#Resposta\n",
        "a-b"
      ]
    },
    {
      "cell_type": "markdown",
      "metadata": {
        "id": "ySVi57Vb6kQg"
      },
      "source": [
        "3. $a \\cdot b$"
      ]
    },
    {
      "cell_type": "code",
      "execution_count": 3,
      "metadata": {
        "id": "cAqz6_pE6kQh",
        "colab": {
          "base_uri": "https://localhost:8080/"
        },
        "outputId": "bcb6bce6-f824-4bde-c019-f2115a643f31"
      },
      "outputs": [
        {
          "output_type": "execute_result",
          "data": {
            "text/plain": [
              "56088"
            ]
          },
          "metadata": {},
          "execution_count": 3
        }
      ],
      "source": [
        "#Resposta\n",
        "a*b"
      ]
    },
    {
      "cell_type": "markdown",
      "metadata": {
        "id": "J6gMB21L6kQj"
      },
      "source": [
        "4. $a^b$"
      ]
    },
    {
      "cell_type": "code",
      "execution_count": 6,
      "metadata": {
        "id": "ZMun54fD6kQk",
        "colab": {
          "base_uri": "https://localhost:8080/"
        },
        "outputId": "949f4c75-4d14-4067-ef39-c19398cc8d45"
      },
      "outputs": [
        {
          "output_type": "execute_result",
          "data": {
            "text/plain": [
              "99250068772098856700831462057469632637295940819886900519816298881382867104749399077921128661426144638055424236936271872492800352741649902118143819672601569998100120790496759517636465445895625741609866209900500198407153244604778968016963028050310261417615914468729918240685487878617645976939063464357986165711730976399478507649228686341466967167910126653342134942744851463899927487092486610977146112763567101672645953132196481439339873017088140414661271198500333255713096142335151414630651683065518784081203678487703002802082091236603519026256880624499681781387227574035484831271515683123742149095569260463609655977700938844580611931246495166208695540313698140011638027322566252689780838136351828795314272162111222231170901715612355701347552371530013693855379834865667060014643302459100429783653966913783002290784283455628283355470529932956051484477129333881159930212758687602795088579230431661696010232187390436601614145603241902386663442520160735566561"
            ]
          },
          "metadata": {},
          "execution_count": 6
        }
      ],
      "source": [
        "#Resposta\n",
        "a**b"
      ]
    },
    {
      "cell_type": "markdown",
      "metadata": {
        "id": "_wCupUad6kQl"
      },
      "source": [
        "5. \n",
        "$\\frac{a}{b}$"
      ]
    },
    {
      "cell_type": "code",
      "execution_count": 10,
      "metadata": {
        "id": "AdEWjT6S6kQm",
        "colab": {
          "base_uri": "https://localhost:8080/"
        },
        "outputId": "76aa0876-a839-4ba7-b929-2ac9e255d85b"
      },
      "outputs": [
        {
          "output_type": "execute_result",
          "data": {
            "text/plain": [
              "0.26973684210526316"
            ]
          },
          "metadata": {},
          "execution_count": 10
        }
      ],
      "source": [
        "#Resposta\n",
        "a/b"
      ]
    },
    {
      "cell_type": "markdown",
      "metadata": {
        "id": "CcShnvLP6kQo"
      },
      "source": [
        "6. O resto da divisão de b por a"
      ]
    },
    {
      "cell_type": "code",
      "execution_count": 9,
      "metadata": {
        "id": "XWYDxU0c6kQo",
        "colab": {
          "base_uri": "https://localhost:8080/"
        },
        "outputId": "60dd52db-9522-4595-89c0-94d4db047e49"
      },
      "outputs": [
        {
          "output_type": "execute_result",
          "data": {
            "text/plain": [
              "87"
            ]
          },
          "metadata": {},
          "execution_count": 9
        }
      ],
      "source": [
        "#Resposta\n",
        "b%a"
      ]
    },
    {
      "cell_type": "markdown",
      "metadata": {
        "id": "V0Nmz3Wt6kQp"
      },
      "source": [
        "7. A parte inteira da divisão de b por a"
      ]
    },
    {
      "cell_type": "code",
      "execution_count": 11,
      "metadata": {
        "id": "MwQz_xqz6kQq",
        "colab": {
          "base_uri": "https://localhost:8080/"
        },
        "outputId": "d97907e4-6ff9-4871-eabc-368fe942e2b4"
      },
      "outputs": [
        {
          "output_type": "execute_result",
          "data": {
            "text/plain": [
              "3"
            ]
          },
          "metadata": {},
          "execution_count": 11
        }
      ],
      "source": [
        "#Resposta\n",
        "b//a"
      ]
    },
    {
      "cell_type": "markdown",
      "metadata": {
        "id": "1I9TQSvp6kQs"
      },
      "source": [
        "8. Verdadeiro ou falso? $a^b > b^a$"
      ]
    },
    {
      "cell_type": "code",
      "execution_count": 17,
      "metadata": {
        "id": "flA4WwsQ6kQt",
        "colab": {
          "base_uri": "https://localhost:8080/"
        },
        "outputId": "2da7616d-685c-4ead-e83c-9f1956fd0c76"
      },
      "outputs": [
        {
          "output_type": "execute_result",
          "data": {
            "text/plain": [
              "True"
            ]
          },
          "metadata": {},
          "execution_count": 17
        }
      ],
      "source": [
        "#Resposta\n",
        "a**b > b**a"
      ]
    },
    {
      "cell_type": "markdown",
      "metadata": {
        "id": "oQykwRGd6kQu"
      },
      "source": [
        "### A rose by any other name would smell as sweet\n",
        "\n",
        "1. Crie uma variável _a_ que contenha um integer 1. Use o comando `type` para mostrar que _a_ é um integer."
      ]
    },
    {
      "cell_type": "code",
      "execution_count": 27,
      "metadata": {
        "id": "9ZZWxgF16kQv",
        "colab": {
          "base_uri": "https://localhost:8080/"
        },
        "outputId": "930e87c4-eff5-4f0d-a06a-c0395e8ec564"
      },
      "outputs": [
        {
          "output_type": "execute_result",
          "data": {
            "text/plain": [
              "int"
            ]
          },
          "metadata": {},
          "execution_count": 27
        }
      ],
      "source": [
        "#Resposta\n",
        "a = 15\n",
        "type(a)"
      ]
    },
    {
      "cell_type": "markdown",
      "metadata": {
        "id": "YnRlC4676kQw"
      },
      "source": [
        "2. Crie uma variável _b_ que contenha um float 1. Use o comando `type` para mostrar que _a_ é um float."
      ]
    },
    {
      "cell_type": "code",
      "execution_count": 26,
      "metadata": {
        "id": "Q4FN7wId6kQx",
        "colab": {
          "base_uri": "https://localhost:8080/"
        },
        "outputId": "9c0ed6c2-3ae0-4c07-e4f3-2b5de2a98101"
      },
      "outputs": [
        {
          "output_type": "execute_result",
          "data": {
            "text/plain": [
              "float"
            ]
          },
          "metadata": {},
          "execution_count": 26
        }
      ],
      "source": [
        "#Resposta\n",
        "b = 23.8742\n",
        "type(b)"
      ]
    },
    {
      "cell_type": "markdown",
      "metadata": {
        "id": "vPK6MFxi6kQy"
      },
      "source": [
        "3. Crie uma variável _c_ que contenha um string 1. Use o comando `type` para mostrar que _a_ é um string."
      ]
    },
    {
      "cell_type": "code",
      "execution_count": 29,
      "metadata": {
        "id": "yFd_tEbC6kQ0",
        "colab": {
          "base_uri": "https://localhost:8080/"
        },
        "outputId": "ea292f9c-fd03-44c0-ed00-fbc66e99b750"
      },
      "outputs": [
        {
          "output_type": "execute_result",
          "data": {
            "text/plain": [
              "str"
            ]
          },
          "metadata": {},
          "execution_count": 29
        }
      ],
      "source": [
        "#Resposta\n",
        "c = 'domingo'\n",
        "type(c)"
      ]
    },
    {
      "cell_type": "markdown",
      "metadata": {
        "id": "lJsk5czU6kQ1"
      },
      "source": [
        "### Operações com strings\n",
        "\n",
        "1. Use as variáveis abaixo e uma operação matemática para fazer o nome de uma cantora."
      ]
    },
    {
      "cell_type": "code",
      "execution_count": 33,
      "metadata": {
        "id": "xDMpk4_56kQ1"
      },
      "outputs": [],
      "source": [
        "a = 'Lady'\n",
        "b = ' '\n",
        "c = 'Gaga'"
      ]
    },
    {
      "cell_type": "code",
      "execution_count": 34,
      "metadata": {
        "id": "HOrvTHnc6kQ2",
        "colab": {
          "base_uri": "https://localhost:8080/",
          "height": 35
        },
        "outputId": "81b53d30-ba25-46fc-ee45-99a6f5136b68"
      },
      "outputs": [
        {
          "output_type": "execute_result",
          "data": {
            "text/plain": [
              "'Lady Gaga'"
            ],
            "application/vnd.google.colaboratory.intrinsic+json": {
              "type": "string"
            }
          },
          "metadata": {},
          "execution_count": 34
        }
      ],
      "source": [
        "#Resposta\n",
        "a = str(a)\n",
        "b = str(b)\n",
        "c = str(c)\n",
        "\n",
        "a+b+c"
      ]
    },
    {
      "cell_type": "markdown",
      "metadata": {
        "id": "QczFI1hB6kQ3"
      },
      "source": [
        "2.Use as variáveis abaixo para escrever a frase: \"in the shalalalalalalow\""
      ]
    },
    {
      "cell_type": "code",
      "execution_count": 36,
      "metadata": {
        "id": "sU5KCElB6kQ4"
      },
      "outputs": [],
      "source": [
        "a = 'in the sha'\n",
        "b = 'la'\n",
        "c = 'low'"
      ]
    },
    {
      "cell_type": "code",
      "execution_count": 38,
      "metadata": {
        "id": "WDcCqKTs6kQ4",
        "colab": {
          "base_uri": "https://localhost:8080/",
          "height": 35
        },
        "outputId": "0f5c8bdf-afec-427b-b58b-b44ebaf90f7e"
      },
      "outputs": [
        {
          "output_type": "execute_result",
          "data": {
            "text/plain": [
              "'in the shalalalalalalow'"
            ],
            "application/vnd.google.colaboratory.intrinsic+json": {
              "type": "string"
            }
          },
          "metadata": {},
          "execution_count": 38
        }
      ],
      "source": [
        "#Resposta\n",
        "a+5*b+c"
      ]
    },
    {
      "cell_type": "markdown",
      "metadata": {
        "id": "Cmw3UrwF6kQ5"
      },
      "source": [
        "3. A variável `letra` é um string que contém a letra de _Shallow_. Use a função `len` para contar quantos caracteres a letra tem"
      ]
    },
    {
      "cell_type": "code",
      "execution_count": 39,
      "metadata": {
        "id": "bo5Zuy876kQ6"
      },
      "outputs": [],
      "source": [
        "letra = '''Tell me somethin', girl\n",
        "Are you happy in this modern world?\n",
        "Or do you need more?\n",
        "Is there somethin' else you're searchin' for?\n",
        "\n",
        "I'm fallin'\n",
        "In all the good times I find myself longin' for change\n",
        "And in the bad times, I fear myself\n",
        "\n",
        "Tell me something, boy\n",
        "Aren't you tired tryin' to fill that void?\n",
        "Or do you need more?\n",
        "Ain't it hard keepin' it so hardcore?\n",
        "\n",
        "I'm falling\n",
        "In all the good times I find myself longing for change\n",
        "And in the bad times, I fear myself\n",
        "\n",
        "I'm off the deep end, watch as I dive in\n",
        "I'll never meet the ground\n",
        "Crash through the surface, where they can't hurt us\n",
        "We're far from the shallow now\n",
        "\n",
        "In the sha-ha-sha-ha-llow\n",
        "In the sha-ha-sha-la-la-la-llow\n",
        "In the sha-ha-sha-ha-llow\n",
        "We're far from the shallow now\n",
        "\n",
        "Oh, ha-ah-ah\n",
        "Ah, ha-ah-ah, oh, ah\n",
        "Ha-ah-ah-ah\n",
        "\n",
        "I'm off the deep end, watch as I dive in\n",
        "I'll never meet the ground\n",
        "Crash through the surface, where they can't hurt us\n",
        "We're far from the shallow now\n",
        "\n",
        "In the sha-ha-sha-ha-llow\n",
        "In the sha-ha-sha-la-la-la-llow\n",
        "In the sha-ha-sha-ha-llow\n",
        "We're far from the shallow now'''"
      ]
    },
    {
      "cell_type": "code",
      "execution_count": 40,
      "metadata": {
        "id": "zOaxuMf16kQ8",
        "colab": {
          "base_uri": "https://localhost:8080/"
        },
        "outputId": "a679c1a0-ff23-490f-8424-fb04da8ce822"
      },
      "outputs": [
        {
          "output_type": "execute_result",
          "data": {
            "text/plain": [
              "1043"
            ]
          },
          "metadata": {},
          "execution_count": 40
        }
      ],
      "source": [
        "#Resposta\n",
        "len(letra)"
      ]
    },
    {
      "cell_type": "markdown",
      "metadata": {
        "id": "vmvl45Fi6kQ8"
      },
      "source": [
        "4. Selecione os últimos 30 caracteres da letra (isso é, do caracter 1013, até o final)."
      ]
    },
    {
      "cell_type": "code",
      "execution_count": 41,
      "metadata": {
        "id": "PXceFfsG6kQ9",
        "colab": {
          "base_uri": "https://localhost:8080/",
          "height": 35
        },
        "outputId": "1d04a9fb-1a83-416f-af57-682708a1af4b"
      },
      "outputs": [
        {
          "output_type": "execute_result",
          "data": {
            "text/plain": [
              "\"We're far from the shallow now\""
            ],
            "application/vnd.google.colaboratory.intrinsic+json": {
              "type": "string"
            }
          },
          "metadata": {},
          "execution_count": 41
        }
      ],
      "source": [
        "#Resposta\n",
        "letra[1013:]"
      ]
    },
    {
      "cell_type": "markdown",
      "metadata": {
        "id": "hT4f9U6u6kQ-"
      },
      "source": [
        "### Formatação de strings\n",
        "\n",
        "Em Data Science, é comum querermos mostrar na tela um string com os resultados do modelo. Algo do tipo:\n",
        "\n",
        "> Modelo 1: Precisao = 91.3%. Acurácia = 90.1%\n",
        "\n",
        "Use as informações abaixo para construir um string como o acima. Use 1 casa decimal e exprima os resultados como porcentagens."
      ]
    },
    {
      "cell_type": "code",
      "execution_count": 42,
      "metadata": {
        "id": "-_x3szEt6kRA"
      },
      "outputs": [],
      "source": [
        "modelo = 1\n",
        "precisao = 91.310579284\n",
        "acuracia = 90.102378192"
      ]
    },
    {
      "cell_type": "code",
      "execution_count": 43,
      "metadata": {
        "id": "whGFX0U_6kRA",
        "colab": {
          "base_uri": "https://localhost:8080/",
          "height": 35
        },
        "outputId": "27ce71fc-51df-47c7-8a40-6a7330b313a3"
      },
      "outputs": [
        {
          "output_type": "execute_result",
          "data": {
            "text/plain": [
              "'Modelo 1: Precisão = 91.3%. Acurácia = 90.1%'"
            ],
            "application/vnd.google.colaboratory.intrinsic+json": {
              "type": "string"
            }
          },
          "metadata": {},
          "execution_count": 43
        }
      ],
      "source": [
        "#Resposta\n",
        "\n",
        "f'Modelo {modelo}: Precisão = {precisao:.1f}%. Acurácia = {acuracia:.1f}%'"
      ]
    }
  ],
  "metadata": {
    "kernelspec": {
      "display_name": "Python 3",
      "language": "python",
      "name": "python3"
    },
    "language_info": {
      "codemirror_mode": {
        "name": "ipython",
        "version": 3
      },
      "file_extension": ".py",
      "mimetype": "text/x-python",
      "name": "python",
      "nbconvert_exporter": "python",
      "pygments_lexer": "ipython3",
      "version": "3.8.3"
    },
    "colab": {
      "name": "L_10_Tipos_de_dados - Stella.ipynb",
      "provenance": []
    }
  },
  "nbformat": 4,
  "nbformat_minor": 0
}