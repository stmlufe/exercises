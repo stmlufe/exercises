{
  "cells": [
    {
      "cell_type": "markdown",
      "metadata": {
        "id": "kGufCfJQsTys"
      },
      "source": [
        "## Superpotência\n",
        "\n",
        "1. Faça uma função chamada `superpot` que eleve um número a si próprio. Por exemplo, ao receber 2, ela retorne $2^2 = 4$. Ao receber $3$, ela retorne $3^3 = 27$. Ao receber $4$, ela retorne $4^4 = 256$. E assim por diante... Teste sua função com 2, 3 e 4, e veja se você realmente obtém esses valores."
      ]
    },
    {
      "cell_type": "code",
      "execution_count": 1,
      "metadata": {
        "id": "CoILTuFlsTyz"
      },
      "outputs": [],
      "source": [
        "#Resposta\n",
        "def superpot(s):\n",
        "    return(s**s) "
      ]
    },
    {
      "cell_type": "code",
      "source": [
        "superpot(2)"
      ],
      "metadata": {
        "colab": {
          "base_uri": "https://localhost:8080/"
        },
        "id": "mGCIRvHkv4dl",
        "outputId": "7b61c4a8-faf4-4b7f-8b70-4f35f40a97f6"
      },
      "execution_count": null,
      "outputs": [
        {
          "output_type": "execute_result",
          "data": {
            "text/plain": [
              "4"
            ]
          },
          "metadata": {},
          "execution_count": 21
        }
      ]
    },
    {
      "cell_type": "code",
      "source": [
        "superpot(3)"
      ],
      "metadata": {
        "colab": {
          "base_uri": "https://localhost:8080/"
        },
        "id": "JkD3dGPFv5kk",
        "outputId": "676675dd-d54b-4fc1-88e3-7a4755d76160"
      },
      "execution_count": null,
      "outputs": [
        {
          "output_type": "execute_result",
          "data": {
            "text/plain": [
              "27"
            ]
          },
          "metadata": {},
          "execution_count": 22
        }
      ]
    },
    {
      "cell_type": "code",
      "source": [
        "superpot(4)"
      ],
      "metadata": {
        "colab": {
          "base_uri": "https://localhost:8080/"
        },
        "id": "Jl7DYYYSwyTM",
        "outputId": "637e3980-92df-4c58-a1ce-8010d2266b5a"
      },
      "execution_count": null,
      "outputs": [
        {
          "output_type": "execute_result",
          "data": {
            "text/plain": [
              "256"
            ]
          },
          "metadata": {},
          "execution_count": 23
        }
      ]
    },
    {
      "cell_type": "markdown",
      "metadata": {
        "id": "NeyZ5S1DsTy1"
      },
      "source": [
        "2. Use sua função para descobrir quanto é $1000^{1000}$"
      ]
    },
    {
      "cell_type": "code",
      "execution_count": null,
      "metadata": {
        "colab": {
          "base_uri": "https://localhost:8080/"
        },
        "id": "kZViq8kJsTy3",
        "outputId": "002be844-3df1-479c-b5c6-f674286a96d0"
      },
      "outputs": [
        {
          "output_type": "execute_result",
          "data": {
            "text/plain": [
              "1000000000000000000000000000000000000000000000000000000000000000000000000000000000000000000000000000000000000000000000000000000000000000000000000000000000000000000000000000000000000000000000000000000000000000000000000000000000000000000000000000000000000000000000000000000000000000000000000000000000000000000000000000000000000000000000000000000000000000000000000000000000000000000000000000000000000000000000000000000000000000000000000000000000000000000000000000000000000000000000000000000000000000000000000000000000000000000000000000000000000000000000000000000000000000000000000000000000000000000000000000000000000000000000000000000000000000000000000000000000000000000000000000000000000000000000000000000000000000000000000000000000000000000000000000000000000000000000000000000000000000000000000000000000000000000000000000000000000000000000000000000000000000000000000000000000000000000000000000000000000000000000000000000000000000000000000000000000000000000000000000000000000000000000000000000000000000000000000000000000000000000000000000000000000000000000000000000000000000000000000000000000000000000000000000000000000000000000000000000000000000000000000000000000000000000000000000000000000000000000000000000000000000000000000000000000000000000000000000000000000000000000000000000000000000000000000000000000000000000000000000000000000000000000000000000000000000000000000000000000000000000000000000000000000000000000000000000000000000000000000000000000000000000000000000000000000000000000000000000000000000000000000000000000000000000000000000000000000000000000000000000000000000000000000000000000000000000000000000000000000000000000000000000000000000000000000000000000000000000000000000000000000000000000000000000000000000000000000000000000000000000000000000000000000000000000000000000000000000000000000000000000000000000000000000000000000000000000000000000000000000000000000000000000000000000000000000000000000000000000000000000000000000000000000000000000000000000000000000000000000000000000000000000000000000000000000000000000000000000000000000000000000000000000000000000000000000000000000000000000000000000000000000000000000000000000000000000000000000000000000000000000000000000000000000000000000000000000000000000000000000000000000000000000000000000000000000000000000000000000000000000000000000000000000000000000000000000000000000000000000000000000000000000000000000000000000000000000000000000000000000000000000000000000000000000000000000000000000000000000000000000000000000000000000000000000000000000000000000000000000000000000000000000000000000000000000000000000000000000000000000000000000000000000000000000000000000000000000000000000000000000000000000000000000000000000000000000000000000000000000000000000000000000000000000000000000000000000000000000000000000000000000000000000000000000000000000000000000000000000000000000000000000000000000000000000000000000000000000000000000000000000000000000000000000000000000000000000000000000000000000000000000000000000000000000000000000000000000000000000000"
            ]
          },
          "metadata": {},
          "execution_count": 24
        }
      ],
      "source": [
        "#Resposta\n",
        "superpot(1000)"
      ]
    },
    {
      "cell_type": "markdown",
      "metadata": {
        "id": "Uc6jabW6sTy3"
      },
      "source": [
        "3. A função a seguir conta quantos dígitos um número tem. Use essa função e a função que você definiu acima para contar quantos dígitos tem $1000^{1000}$"
      ]
    },
    {
      "cell_type": "code",
      "execution_count": null,
      "metadata": {
        "id": "IXu-3BXksTy4"
      },
      "outputs": [],
      "source": [
        "def n_digitos(x):\n",
        "    return(len(str(x)))"
      ]
    },
    {
      "cell_type": "code",
      "execution_count": null,
      "metadata": {
        "colab": {
          "base_uri": "https://localhost:8080/"
        },
        "id": "XOsgKpc3sTy4",
        "outputId": "4162e4b0-a301-4252-addd-068b84c8bcf9"
      },
      "outputs": [
        {
          "output_type": "execute_result",
          "data": {
            "text/plain": [
              "3001"
            ]
          },
          "metadata": {},
          "execution_count": 25
        }
      ],
      "source": [
        "#Resposta\n",
        "n_digitos(superpot(1000))"
      ]
    },
    {
      "cell_type": "markdown",
      "metadata": {
        "id": "kQrlCGjUsTy5"
      },
      "source": [
        "## Valor futuro\n",
        "\n",
        "Crie uma função que calcule o valor de um investimento de renda fixa após determinado tempo. A função deve receber 3 inputs:\n",
        "* $P$, o valor investido (chamado _principal_)\n",
        "* $i$, o rendimento da aplicação\n",
        "* $n$, o número de períodos de capitalização do investimento.\n",
        "\n",
        "O valor do investimento é dado por\n",
        "\n",
        "$$\n",
        "V = P \\cdot (1+i)^n\n",
        "$$\n"
      ]
    },
    {
      "cell_type": "code",
      "execution_count": null,
      "metadata": {
        "id": "Wq9tR9dGsTy6",
        "colab": {
          "base_uri": "https://localhost:8080/"
        },
        "outputId": "3f3bdc3b-2f9d-4ee1-f8a2-091bec7442c4"
      },
      "outputs": [
        {
          "output_type": "execute_result",
          "data": {
            "text/plain": [
              "6191.7364223999975"
            ]
          },
          "metadata": {},
          "execution_count": 21
        }
      ],
      "source": [
        "#Resposta\n",
        "def valor_futuro(p, i, n):\n",
        "  return(p*(1+i)**n)\n",
        "\n",
        "valor_futuro(1000,0.2,10)"
      ]
    },
    {
      "cell_type": "code",
      "source": [
        "type(valor_futuro)"
      ],
      "metadata": {
        "colab": {
          "base_uri": "https://localhost:8080/"
        },
        "id": "OW9qPiFcHY46",
        "outputId": "5cfc4930-7f00-4319-81dd-de1c96abe78f"
      },
      "execution_count": null,
      "outputs": [
        {
          "output_type": "execute_result",
          "data": {
            "text/plain": [
              "function"
            ]
          },
          "metadata": {},
          "execution_count": 26
        }
      ]
    },
    {
      "cell_type": "markdown",
      "metadata": {
        "id": "Bzu2P9X8sTy6"
      },
      "source": [
        "### Collatz \n",
        "\n",
        "A sequência de Collatz é muito bonitinha. Ela recebe um número $n$ inteiro e devolve outro, calculado da seguinte maneira:\n",
        "\n",
        "* se $n$ for par, ela devolve $\\frac{n}{2}$\n",
        "* se $n$ for impar, ela devolve $3n + 1$\n",
        "\n",
        "Aparentemente, se você ficar repetindo esses passos várias vezes, você sempre chega a 1, independente do número do qual você começou. Sim, isso é estranho. E ninguém sabe o porquê.\n",
        "\n",
        "Faça uma função chamada `collatz` que receba um número `n` e devolva o próximo termo da sequência de Collatz. Isso é, se $n$ for par, ela deve retornar $\\frac{n}{2}$, e se $n$ for ímpar, $3n + 1$."
      ]
    },
    {
      "cell_type": "code",
      "execution_count": 3,
      "metadata": {
        "id": "XS5tGkWCsTy7"
      },
      "outputs": [],
      "source": [
        "#Resposta\n",
        "def collatz(n):\n",
        "    if n % 2 == 0:\n",
        "      return(n/2)\n",
        "    else:\n",
        "      return(3*n+1)\n",
        "\n"
      ]
    },
    {
      "cell_type": "code",
      "source": [
        "collatz(3)"
      ],
      "metadata": {
        "id": "pEK897W8Ilq1",
        "outputId": "9bfdf8a3-c688-4cc6-eead-98de32513b13",
        "colab": {
          "base_uri": "https://localhost:8080/"
        }
      },
      "execution_count": 4,
      "outputs": [
        {
          "output_type": "execute_result",
          "data": {
            "text/plain": [
              "10"
            ]
          },
          "metadata": {},
          "execution_count": 4
        }
      ]
    },
    {
      "cell_type": "code",
      "source": [
        "collatz(5)"
      ],
      "metadata": {
        "id": "BMgbWn0VIn47",
        "outputId": "7a1d4d46-1a8c-4544-ae6a-efbd83c758cb",
        "colab": {
          "base_uri": "https://localhost:8080/"
        }
      },
      "execution_count": null,
      "outputs": [
        {
          "output_type": "execute_result",
          "data": {
            "text/plain": [
              "16"
            ]
          },
          "metadata": {},
          "execution_count": 38
        }
      ]
    },
    {
      "cell_type": "markdown",
      "metadata": {
        "id": "oAjlziTHsTy7"
      },
      "source": [
        "Nós voltaremos a falar sobre a sequência de Collatz em outra lista, mais à frente."
      ]
    },
    {
      "cell_type": "markdown",
      "metadata": {
        "id": "tmzmlDOjsTy7"
      },
      "source": [
        "### Máximo divisor comum (Recursão)"
      ]
    },
    {
      "cell_type": "markdown",
      "metadata": {
        "id": "CxTbIqHcsTy8"
      },
      "source": [
        "Euclides tinha um jeito muito esperto de calcular o máximo divisor comum entre dois números, $a$ e $b$:\n",
        "\n",
        "* Se $b = 0$, então o máximo divisor comum era $a$.\n",
        "* Se não, ele calculava o máximo divisor comum entre $b$ e o resto da divisão de $a$ por $b$.\n",
        "\n",
        "1. Pegue um papel e caneta e calcule o máximo divisor comum de 12 e 8, usando esse algoritmo. Não use Python. Você não precisa dar uma resposta formal a essa pergunta. Só faça, para você entender como uma recusão funciona.\n",
        "2. Crie uma função chamada `mdc` que implemente esse algoritmo:"
      ]
    },
    {
      "cell_type": "code",
      "execution_count": 5,
      "metadata": {
        "id": "RBGgFcyOsTy8"
      },
      "outputs": [],
      "source": [
        "#Resposta\n",
        "def mdc(a,b):\n",
        "    if a % b == 0:\n",
        "      return(b)\n",
        "    else:\n",
        "      return( a%b / (a//b))\n"
      ]
    },
    {
      "cell_type": "code",
      "source": [
        "mdc(12,8)"
      ],
      "metadata": {
        "colab": {
          "base_uri": "https://localhost:8080/"
        },
        "id": "rxdJsTnGRYp1",
        "outputId": "f1400e3a-23c7-4e2a-fa9c-ad7c9c3c00da"
      },
      "execution_count": 6,
      "outputs": [
        {
          "output_type": "execute_result",
          "data": {
            "text/plain": [
              "4.0"
            ]
          },
          "metadata": {},
          "execution_count": 6
        }
      ]
    },
    {
      "cell_type": "code",
      "source": [
        "mdc(49,21)"
      ],
      "metadata": {
        "colab": {
          "base_uri": "https://localhost:8080/"
        },
        "id": "yz2vAed4RcBb",
        "outputId": "66eb3ece-ca7f-4719-c500-5117593ecccf"
      },
      "execution_count": 7,
      "outputs": [
        {
          "output_type": "execute_result",
          "data": {
            "text/plain": [
              "3.5"
            ]
          },
          "metadata": {},
          "execution_count": 7
        }
      ]
    },
    {
      "cell_type": "code",
      "source": [
        "mdc(16,6)"
      ],
      "metadata": {
        "colab": {
          "base_uri": "https://localhost:8080/"
        },
        "id": "iq5tuwZBRikM",
        "outputId": "22fd0472-1682-43ec-bce7-90c37b202748"
      },
      "execution_count": 8,
      "outputs": [
        {
          "output_type": "execute_result",
          "data": {
            "text/plain": [
              "2.0"
            ]
          },
          "metadata": {},
          "execution_count": 8
        }
      ]
    },
    {
      "cell_type": "code",
      "source": [
        "mdc(4,2)"
      ],
      "metadata": {
        "colab": {
          "base_uri": "https://localhost:8080/"
        },
        "id": "XqFkrXL5RuE-",
        "outputId": "19f7dddd-c612-4b1b-a0ed-a6717aed1c83"
      },
      "execution_count": 9,
      "outputs": [
        {
          "output_type": "execute_result",
          "data": {
            "text/plain": [
              "2"
            ]
          },
          "metadata": {},
          "execution_count": 9
        }
      ]
    },
    {
      "cell_type": "code",
      "source": [
        "mdc(1000,100)"
      ],
      "metadata": {
        "colab": {
          "base_uri": "https://localhost:8080/"
        },
        "id": "KvrN6TzRR8he",
        "outputId": "f048b68b-a6ed-4b39-b0b3-4b1cae38a229"
      },
      "execution_count": 10,
      "outputs": [
        {
          "output_type": "execute_result",
          "data": {
            "text/plain": [
              "100"
            ]
          },
          "metadata": {},
          "execution_count": 10
        }
      ]
    },
    {
      "cell_type": "markdown",
      "metadata": {
        "id": "Eofaby_nsTy8"
      },
      "source": [
        "### Importando uma função de um pacote"
      ]
    },
    {
      "cell_type": "markdown",
      "metadata": {
        "id": "XEfG5eNNsTy9"
      },
      "source": [
        "Importe a função `log10` do pacote `math` e calcule o logaritmo de 1000 na base 10."
      ]
    },
    {
      "cell_type": "code",
      "execution_count": null,
      "metadata": {
        "id": "Krm_bA6hsTy_"
      },
      "outputs": [],
      "source": [
        "#Resposta\n",
        "from math import log10"
      ]
    },
    {
      "cell_type": "code",
      "source": [
        "log10(1000)"
      ],
      "metadata": {
        "colab": {
          "base_uri": "https://localhost:8080/"
        },
        "id": "XwflcRZ4CGuz",
        "outputId": "931f096d-5c91-4566-9d58-5cca3c946910"
      },
      "execution_count": null,
      "outputs": [
        {
          "output_type": "execute_result",
          "data": {
            "text/plain": [
              "3.0"
            ]
          },
          "metadata": {},
          "execution_count": 5
        }
      ]
    },
    {
      "cell_type": "code",
      "source": [
        ""
      ],
      "metadata": {
        "id": "WTg19ikpCZCI"
      },
      "execution_count": null,
      "outputs": []
    }
  ],
  "metadata": {
    "kernelspec": {
      "display_name": "Python 3",
      "language": "python",
      "name": "python3"
    },
    "language_info": {
      "codemirror_mode": {
        "name": "ipython",
        "version": 3
      },
      "file_extension": ".py",
      "mimetype": "text/x-python",
      "name": "python",
      "nbconvert_exporter": "python",
      "pygments_lexer": "ipython3",
      "version": "3.7.1"
    },
    "colab": {
      "name": "L_20_Funções e Condicionais - Stella.ipynb",
      "provenance": [],
      "collapsed_sections": []
    }
  },
  "nbformat": 4,
  "nbformat_minor": 0
}