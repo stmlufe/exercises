{
  "cells": [
    {
      "cell_type": "markdown",
      "metadata": {
        "id": "view-in-github",
        "colab_type": "text"
      },
      "source": [
        "<a href=\"https://colab.research.google.com/github/stmlufe/exercises/blob/master/L_20_Fun%C3%A7%C3%B5es_e_Condicionais_Stella.ipynb\" target=\"_parent\"><img src=\"https://colab.research.google.com/assets/colab-badge.svg\" alt=\"Open In Colab\"/></a>"
      ]
    },
    {
      "cell_type": "markdown",
      "metadata": {
        "id": "ciPyoMJjm9Ml"
      },
      "source": [
        "## Superpotência\n",
        "\n",
        "1. Faça uma função chamada `superpot` que eleve um número a si próprio. Por exemplo, ao receber 2, ela retorne $2^2 = 4$. Ao receber $3$, ela retorne $3^3 = 27$. Ao receber $4$, ela retorne $4^4 = 256$. E assim por diante... Teste sua função com 2, 3 e 4, e veja se você realmente obtém esses valores."
      ]
    },
    {
      "cell_type": "code",
      "execution_count": 11,
      "metadata": {
        "id": "Oo221w5Em9Mv"
      },
      "outputs": [],
      "source": [
        "#Resposta\n",
        "def superpot(s):\n",
        "  return(s**s)\n"
      ]
    },
    {
      "cell_type": "code",
      "source": [
        "superpot(2)"
      ],
      "metadata": {
        "colab": {
          "base_uri": "https://localhost:8080/"
        },
        "id": "wZDEqCcsnfhN",
        "outputId": "8b3aa759-15a4-4a6a-931d-ec4d1ae06e59"
      },
      "execution_count": 12,
      "outputs": [
        {
          "output_type": "execute_result",
          "data": {
            "text/plain": [
              "4"
            ]
          },
          "metadata": {},
          "execution_count": 12
        }
      ]
    },
    {
      "cell_type": "code",
      "source": [
        "superpot(3)"
      ],
      "metadata": {
        "colab": {
          "base_uri": "https://localhost:8080/"
        },
        "id": "ZyAObtWTnssi",
        "outputId": "8340059a-6ba0-4967-c1ed-474e7a171dde"
      },
      "execution_count": 13,
      "outputs": [
        {
          "output_type": "execute_result",
          "data": {
            "text/plain": [
              "27"
            ]
          },
          "metadata": {},
          "execution_count": 13
        }
      ]
    },
    {
      "cell_type": "code",
      "source": [
        "superpot(4)"
      ],
      "metadata": {
        "colab": {
          "base_uri": "https://localhost:8080/"
        },
        "id": "yOIyM-RPnu_8",
        "outputId": "d4f62187-556f-48b0-a956-7b08916bc3c3"
      },
      "execution_count": 14,
      "outputs": [
        {
          "output_type": "execute_result",
          "data": {
            "text/plain": [
              "256"
            ]
          },
          "metadata": {},
          "execution_count": 14
        }
      ]
    },
    {
      "cell_type": "markdown",
      "metadata": {
        "id": "KXXwFlsjm9M0"
      },
      "source": [
        "2. Use sua função para descobrir quanto é $1000^{1000}$"
      ]
    },
    {
      "cell_type": "code",
      "execution_count": 15,
      "metadata": {
        "id": "6RCJ_jQzm9M2",
        "colab": {
          "base_uri": "https://localhost:8080/"
        },
        "outputId": "1e4c79e3-0738-440c-fe93-a03367816ebf"
      },
      "outputs": [
        {
          "output_type": "execute_result",
          "data": {
            "text/plain": [
              "1000000000000000000000000000000000000000000000000000000000000000000000000000000000000000000000000000000000000000000000000000000000000000000000000000000000000000000000000000000000000000000000000000000000000000000000000000000000000000000000000000000000000000000000000000000000000000000000000000000000000000000000000000000000000000000000000000000000000000000000000000000000000000000000000000000000000000000000000000000000000000000000000000000000000000000000000000000000000000000000000000000000000000000000000000000000000000000000000000000000000000000000000000000000000000000000000000000000000000000000000000000000000000000000000000000000000000000000000000000000000000000000000000000000000000000000000000000000000000000000000000000000000000000000000000000000000000000000000000000000000000000000000000000000000000000000000000000000000000000000000000000000000000000000000000000000000000000000000000000000000000000000000000000000000000000000000000000000000000000000000000000000000000000000000000000000000000000000000000000000000000000000000000000000000000000000000000000000000000000000000000000000000000000000000000000000000000000000000000000000000000000000000000000000000000000000000000000000000000000000000000000000000000000000000000000000000000000000000000000000000000000000000000000000000000000000000000000000000000000000000000000000000000000000000000000000000000000000000000000000000000000000000000000000000000000000000000000000000000000000000000000000000000000000000000000000000000000000000000000000000000000000000000000000000000000000000000000000000000000000000000000000000000000000000000000000000000000000000000000000000000000000000000000000000000000000000000000000000000000000000000000000000000000000000000000000000000000000000000000000000000000000000000000000000000000000000000000000000000000000000000000000000000000000000000000000000000000000000000000000000000000000000000000000000000000000000000000000000000000000000000000000000000000000000000000000000000000000000000000000000000000000000000000000000000000000000000000000000000000000000000000000000000000000000000000000000000000000000000000000000000000000000000000000000000000000000000000000000000000000000000000000000000000000000000000000000000000000000000000000000000000000000000000000000000000000000000000000000000000000000000000000000000000000000000000000000000000000000000000000000000000000000000000000000000000000000000000000000000000000000000000000000000000000000000000000000000000000000000000000000000000000000000000000000000000000000000000000000000000000000000000000000000000000000000000000000000000000000000000000000000000000000000000000000000000000000000000000000000000000000000000000000000000000000000000000000000000000000000000000000000000000000000000000000000000000000000000000000000000000000000000000000000000000000000000000000000000000000000000000000000000000000000000000000000000000000000000000000000000000000000000000000000000000000000000000000000000000000000000000000000000000000000000000000000000000000000000000000000000000000"
            ]
          },
          "metadata": {},
          "execution_count": 15
        }
      ],
      "source": [
        "#Resposta\n",
        "superpot(1000)"
      ]
    },
    {
      "cell_type": "markdown",
      "metadata": {
        "id": "IGzxcBL1m9M3"
      },
      "source": [
        "3. A função a seguir conta quantos dígitos um número tem. Use essa função e a função que você definiu acima para contar quantos dígitos tem $1000^{1000}$"
      ]
    },
    {
      "cell_type": "code",
      "execution_count": 16,
      "metadata": {
        "id": "6Vsr7ryDm9M4"
      },
      "outputs": [],
      "source": [
        "def n_digitos(x):\n",
        "    return(len(str(x)))"
      ]
    },
    {
      "cell_type": "code",
      "execution_count": 19,
      "metadata": {
        "id": "VS55TPlem9M9",
        "colab": {
          "base_uri": "https://localhost:8080/"
        },
        "outputId": "734a2ab0-7719-4b6c-a343-d57c3388f0ee"
      },
      "outputs": [
        {
          "output_type": "execute_result",
          "data": {
            "text/plain": [
              "3001"
            ]
          },
          "metadata": {},
          "execution_count": 19
        }
      ],
      "source": [
        "#Resposta\n",
        "\n",
        "n_digitos(superpot(1000))\n"
      ]
    },
    {
      "cell_type": "markdown",
      "metadata": {
        "id": "_2WQXnE7m9M-"
      },
      "source": [
        "## Valor futuro\n",
        "\n",
        "Crie uma função que calcule o valor de um investimento de renda fixa após determinado tempo. A função deve receber 3 inputs:\n",
        "* $P$, o valor investido (chamado _principal_)\n",
        "* $i$, o rendimento da aplicação\n",
        "* $n$, o número de períodos de capitalização do investimento.\n",
        "\n",
        "O valor do investimento é dado por\n",
        "\n",
        "$$\n",
        "V = P \\cdot (1+i)^n\n",
        "$$\n"
      ]
    },
    {
      "cell_type": "code",
      "execution_count": 25,
      "metadata": {
        "id": "FP4q9Oc7m9NA"
      },
      "outputs": [],
      "source": [
        "#Resposta\n",
        "\n",
        "def val_fut (p, i, n):\n",
        "  v = p*(1+i)**n\n",
        "  v = round(v,2)\n",
        "  return(v)"
      ]
    },
    {
      "cell_type": "code",
      "source": [
        "val_fut(100,0.1,5)"
      ],
      "metadata": {
        "colab": {
          "base_uri": "https://localhost:8080/"
        },
        "id": "Qk3ntOZSqZ5S",
        "outputId": "31f5fe3e-a902-4a16-bf2d-debca8d049f7"
      },
      "execution_count": 26,
      "outputs": [
        {
          "output_type": "execute_result",
          "data": {
            "text/plain": [
              "161.05"
            ]
          },
          "metadata": {},
          "execution_count": 26
        }
      ]
    },
    {
      "cell_type": "markdown",
      "metadata": {
        "id": "apFzqVmEm9NB"
      },
      "source": [
        "### Collatz \n",
        "\n",
        "A sequência de Collatz é muito bonitinha. Ela recebe um número $n$ inteiro e devolve outro, calculado da seguinte maneira:\n",
        "\n",
        "* se $n$ for par, ela devolve $\\frac{n}{2}$\n",
        "* se $n$ for impar, ela devolve $3n + 1$\n",
        "\n",
        "Aparentemente, se você ficar repetindo esses passos várias vezes, você sempre chega a 1, independente do número do qual você começou. Sim, isso é estranho. E ninguém sabe o porquê.\n",
        "\n",
        "Faça uma função chamada `collatz` que receba um número `n` e devolva o próximo termo da sequência de Collatz. Isso é, se $n$ for par, ela deve retornar $\\frac{n}{2}$, e se $n$ for ímpar, $3n + 1$."
      ]
    },
    {
      "cell_type": "code",
      "execution_count": 5,
      "metadata": {
        "id": "XLs6c3Ztm9ND"
      },
      "outputs": [],
      "source": [
        "#Resposta\n",
        "def collatz(n):\n",
        "  if n%2 == 0:\n",
        "    return n/2\n",
        "\n",
        "  else:\n",
        "    return (3*n+1)\n"
      ]
    },
    {
      "cell_type": "code",
      "source": [
        "collatz(3)"
      ],
      "metadata": {
        "colab": {
          "base_uri": "https://localhost:8080/"
        },
        "id": "zaRSSiv4ALM5",
        "outputId": "c9314afb-4fc0-424c-8fed-002c8911de48"
      },
      "execution_count": 9,
      "outputs": [
        {
          "output_type": "execute_result",
          "data": {
            "text/plain": [
              "10"
            ]
          },
          "metadata": {},
          "execution_count": 9
        }
      ]
    },
    {
      "cell_type": "code",
      "source": [
        "collatz(4)"
      ],
      "metadata": {
        "colab": {
          "base_uri": "https://localhost:8080/"
        },
        "id": "B4AmJpN0AODp",
        "outputId": "42b4f028-d9ce-4f56-dabf-4959bf5eface"
      },
      "execution_count": 10,
      "outputs": [
        {
          "output_type": "execute_result",
          "data": {
            "text/plain": [
              "2.0"
            ]
          },
          "metadata": {},
          "execution_count": 10
        }
      ]
    },
    {
      "cell_type": "code",
      "source": [
        "collatz(5)"
      ],
      "metadata": {
        "colab": {
          "base_uri": "https://localhost:8080/"
        },
        "id": "PEmLTmw-APm7",
        "outputId": "e1c66577-d35f-4c64-ea24-bb96747068c7"
      },
      "execution_count": 11,
      "outputs": [
        {
          "output_type": "execute_result",
          "data": {
            "text/plain": [
              "16"
            ]
          },
          "metadata": {},
          "execution_count": 11
        }
      ]
    },
    {
      "cell_type": "markdown",
      "metadata": {
        "id": "A2_nE2wzm9NE"
      },
      "source": [
        "Nós voltaremos a falar sobre a sequência de Collatz em outra lista, mais à frente."
      ]
    },
    {
      "cell_type": "markdown",
      "metadata": {
        "id": "rHxsMK7gm9NF"
      },
      "source": [
        "### Máximo divisor comum (Recursão)"
      ]
    },
    {
      "cell_type": "markdown",
      "metadata": {
        "id": "d9SyHWrbm9NG"
      },
      "source": [
        "Euclides tinha um jeito muito esperto de calcular o máximo divisor comum entre dois números, $a$ e $b$:\n",
        "\n",
        "* Se $b = 0$, então o máximo divisor comum era $a$.\n",
        "* Se não, ele calculava o máximo divisor comum entre $b$ e o resto da divisão de $a$ por $b$.\n",
        "\n",
        "1. Pegue um papel e caneta e calcule o máximo divisor comum de 12 e 8, usando esse algoritmo. Não use Python. Você não precisa dar uma resposta formal a essa pergunta. Só faça, para você entender como uma recusão funciona.\n",
        "2. Crie uma função chamada `mdc` que implemente esse algoritmo:"
      ]
    },
    {
      "cell_type": "code",
      "execution_count": 23,
      "metadata": {
        "id": "vXvwoOahm9NH"
      },
      "outputs": [],
      "source": [
        "#Resposta\n",
        "def mdc(a,b):\n",
        "  if b == 0:\n",
        "   return (a)\n",
        "  else:\n",
        "    return mdc(b,a%b)        \n"
      ]
    },
    {
      "cell_type": "code",
      "source": [
        "mdc(12,8)"
      ],
      "metadata": {
        "colab": {
          "base_uri": "https://localhost:8080/"
        },
        "id": "JJReq5H7TEyN",
        "outputId": "97257ec7-072e-4e84-a04a-7fc07f7ab9f6"
      },
      "execution_count": 26,
      "outputs": [
        {
          "output_type": "execute_result",
          "data": {
            "text/plain": [
              "4"
            ]
          },
          "metadata": {},
          "execution_count": 26
        }
      ]
    },
    {
      "cell_type": "markdown",
      "metadata": {
        "id": "ZdmzCaAVm9NJ"
      },
      "source": [
        "### Importando uma função de um pacote"
      ]
    },
    {
      "cell_type": "markdown",
      "metadata": {
        "id": "bvCZCmDcm9NJ"
      },
      "source": [
        "Importe a função `log10` do pacote `math` e calcule o logaritmo de 1000 na base 10."
      ]
    },
    {
      "cell_type": "code",
      "execution_count": 12,
      "metadata": {
        "id": "1n0kgl9-m9NK"
      },
      "outputs": [],
      "source": [
        "#Resposta\n",
        "\n",
        "import math"
      ]
    },
    {
      "cell_type": "code",
      "source": [
        "from math import log10"
      ],
      "metadata": {
        "id": "h3OZ-SaCEnRB"
      },
      "execution_count": 13,
      "outputs": []
    },
    {
      "cell_type": "code",
      "source": [
        "log10(1000)"
      ],
      "metadata": {
        "colab": {
          "base_uri": "https://localhost:8080/"
        },
        "id": "gidu3orgErsh",
        "outputId": "a56226bf-ae20-469c-fe05-a2bb70526675"
      },
      "execution_count": 14,
      "outputs": [
        {
          "output_type": "execute_result",
          "data": {
            "text/plain": [
              "3.0"
            ]
          },
          "metadata": {},
          "execution_count": 14
        }
      ]
    },
    {
      "cell_type": "code",
      "source": [],
      "metadata": {
        "id": "u4nnMAmcEvhx"
      },
      "execution_count": null,
      "outputs": []
    }
  ],
  "metadata": {
    "kernelspec": {
      "display_name": "Python 3",
      "language": "python",
      "name": "python3"
    },
    "language_info": {
      "codemirror_mode": {
        "name": "ipython",
        "version": 3
      },
      "file_extension": ".py",
      "mimetype": "text/x-python",
      "name": "python",
      "nbconvert_exporter": "python",
      "pygments_lexer": "ipython3",
      "version": "3.7.1"
    },
    "colab": {
      "provenance": [],
      "include_colab_link": true
    }
  },
  "nbformat": 4,
  "nbformat_minor": 0
}