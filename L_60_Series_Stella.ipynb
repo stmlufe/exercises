{
  "cells": [
    {
      "cell_type": "markdown",
      "metadata": {
        "id": "view-in-github",
        "colab_type": "text"
      },
      "source": [
        "<a href=\"https://colab.research.google.com/github/stmlufe/exercises/blob/master/L_60_Series_Stella.ipynb\" target=\"_parent\"><img src=\"https://colab.research.google.com/assets/colab-badge.svg\" alt=\"Open In Colab\"/></a>"
      ]
    },
    {
      "cell_type": "markdown",
      "metadata": {
        "id": "RUdU_mVTKm7u"
      },
      "source": [
        "## Bitcoin\n",
        "\n",
        "Antes da gente começar, rode essas células. Elas vão criar as séries que vamos usar nesse exercício:"
      ]
    },
    {
      "cell_type": "code",
      "execution_count": 1,
      "metadata": {
        "id": "t5PdbX5aKm7w",
        "colab": {
          "base_uri": "https://localhost:8080/"
        },
        "outputId": "2c4cae86-3b87-4775-81ba-d7e75dfac3f0"
      },
      "outputs": [
        {
          "output_type": "stream",
          "name": "stdout",
          "text": [
            "Looking in indexes: https://pypi.org/simple, https://us-python.pkg.dev/colab-wheels/public/simple/\n",
            "Collecting yfinance\n",
            "  Downloading yfinance-0.2.12-py2.py3-none-any.whl (59 kB)\n",
            "\u001b[2K     \u001b[90m━━━━━━━━━━━━━━━━━━━━━━━━━━━━━━━━━━━━━━━━\u001b[0m \u001b[32m59.2/59.2 KB\u001b[0m \u001b[31m1.6 MB/s\u001b[0m eta \u001b[36m0:00:00\u001b[0m\n",
            "\u001b[?25hRequirement already satisfied: multitasking>=0.0.7 in /usr/local/lib/python3.8/dist-packages (from yfinance) (0.0.11)\n",
            "Requirement already satisfied: numpy>=1.16.5 in /usr/local/lib/python3.8/dist-packages (from yfinance) (1.22.4)\n",
            "Requirement already satisfied: pandas>=1.3.0 in /usr/local/lib/python3.8/dist-packages (from yfinance) (1.3.5)\n",
            "Requirement already satisfied: pytz>=2022.5 in /usr/local/lib/python3.8/dist-packages (from yfinance) (2022.7.1)\n",
            "Collecting cryptography>=3.3.2\n",
            "  Downloading cryptography-39.0.1-cp36-abi3-manylinux_2_28_x86_64.whl (4.2 MB)\n",
            "\u001b[2K     \u001b[90m━━━━━━━━━━━━━━━━━━━━━━━━━━━━━━━━━━━━━━━━\u001b[0m \u001b[32m4.2/4.2 MB\u001b[0m \u001b[31m35.4 MB/s\u001b[0m eta \u001b[36m0:00:00\u001b[0m\n",
            "\u001b[?25hRequirement already satisfied: appdirs>=1.4.4 in /usr/local/lib/python3.8/dist-packages (from yfinance) (1.4.4)\n",
            "Collecting beautifulsoup4>=4.11.1\n",
            "  Downloading beautifulsoup4-4.11.2-py3-none-any.whl (129 kB)\n",
            "\u001b[2K     \u001b[90m━━━━━━━━━━━━━━━━━━━━━━━━━━━━━━━━━━━━━━━\u001b[0m \u001b[32m129.4/129.4 KB\u001b[0m \u001b[31m8.0 MB/s\u001b[0m eta \u001b[36m0:00:00\u001b[0m\n",
            "\u001b[?25hRequirement already satisfied: lxml>=4.9.1 in /usr/local/lib/python3.8/dist-packages (from yfinance) (4.9.2)\n",
            "Collecting requests>=2.26\n",
            "  Downloading requests-2.28.2-py3-none-any.whl (62 kB)\n",
            "\u001b[2K     \u001b[90m━━━━━━━━━━━━━━━━━━━━━━━━━━━━━━━━━━━━━━━\u001b[0m \u001b[32m62.8/62.8 KB\u001b[0m \u001b[31m621.3 kB/s\u001b[0m eta \u001b[36m0:00:00\u001b[0m\n",
            "\u001b[?25hCollecting frozendict>=2.3.4\n",
            "  Downloading frozendict-2.3.5-cp38-cp38-manylinux_2_17_x86_64.manylinux2014_x86_64.whl (111 kB)\n",
            "\u001b[2K     \u001b[90m━━━━━━━━━━━━━━━━━━━━━━━━━━━━━━━━━━━━━━━\u001b[0m \u001b[32m111.2/111.2 KB\u001b[0m \u001b[31m8.1 MB/s\u001b[0m eta \u001b[36m0:00:00\u001b[0m\n",
            "\u001b[?25hCollecting html5lib>=1.1\n",
            "  Downloading html5lib-1.1-py2.py3-none-any.whl (112 kB)\n",
            "\u001b[2K     \u001b[90m━━━━━━━━━━━━━━━━━━━━━━━━━━━━━━━━━━━━━━━\u001b[0m \u001b[32m112.2/112.2 KB\u001b[0m \u001b[31m5.5 MB/s\u001b[0m eta \u001b[36m0:00:00\u001b[0m\n",
            "\u001b[?25hCollecting soupsieve>1.2\n",
            "  Downloading soupsieve-2.4-py3-none-any.whl (37 kB)\n",
            "Requirement already satisfied: cffi>=1.12 in /usr/local/lib/python3.8/dist-packages (from cryptography>=3.3.2->yfinance) (1.15.1)\n",
            "Requirement already satisfied: six>=1.9 in /usr/local/lib/python3.8/dist-packages (from html5lib>=1.1->yfinance) (1.15.0)\n",
            "Requirement already satisfied: webencodings in /usr/local/lib/python3.8/dist-packages (from html5lib>=1.1->yfinance) (0.5.1)\n",
            "Requirement already satisfied: python-dateutil>=2.7.3 in /usr/local/lib/python3.8/dist-packages (from pandas>=1.3.0->yfinance) (2.8.2)\n",
            "Requirement already satisfied: urllib3<1.27,>=1.21.1 in /usr/local/lib/python3.8/dist-packages (from requests>=2.26->yfinance) (1.24.3)\n",
            "Requirement already satisfied: charset-normalizer<4,>=2 in /usr/local/lib/python3.8/dist-packages (from requests>=2.26->yfinance) (3.0.1)\n",
            "Requirement already satisfied: certifi>=2017.4.17 in /usr/local/lib/python3.8/dist-packages (from requests>=2.26->yfinance) (2022.12.7)\n",
            "Requirement already satisfied: idna<4,>=2.5 in /usr/local/lib/python3.8/dist-packages (from requests>=2.26->yfinance) (2.10)\n",
            "Requirement already satisfied: pycparser in /usr/local/lib/python3.8/dist-packages (from cffi>=1.12->cryptography>=3.3.2->yfinance) (2.21)\n",
            "Installing collected packages: soupsieve, requests, html5lib, frozendict, cryptography, beautifulsoup4, yfinance\n",
            "  Attempting uninstall: requests\n",
            "    Found existing installation: requests 2.25.1\n",
            "    Uninstalling requests-2.25.1:\n",
            "      Successfully uninstalled requests-2.25.1\n",
            "  Attempting uninstall: html5lib\n",
            "    Found existing installation: html5lib 1.0.1\n",
            "    Uninstalling html5lib-1.0.1:\n",
            "      Successfully uninstalled html5lib-1.0.1\n",
            "  Attempting uninstall: beautifulsoup4\n",
            "    Found existing installation: beautifulsoup4 4.6.3\n",
            "    Uninstalling beautifulsoup4-4.6.3:\n",
            "      Successfully uninstalled beautifulsoup4-4.6.3\n",
            "Successfully installed beautifulsoup4-4.11.2 cryptography-39.0.1 frozendict-2.3.5 html5lib-1.1 requests-2.28.2 soupsieve-2.4 yfinance-0.2.12\n"
          ]
        }
      ],
      "source": [
        "!pip install yfinance"
      ]
    },
    {
      "cell_type": "code",
      "source": [
        "import yfinance as yf\n",
        "import pandas as pd"
      ],
      "metadata": {
        "id": "GJgjA8nsbj2x"
      },
      "execution_count": 2,
      "outputs": []
    },
    {
      "cell_type": "code",
      "execution_count": 3,
      "metadata": {
        "id": "-LmOedNVKm7x",
        "colab": {
          "base_uri": "https://localhost:8080/"
        },
        "outputId": "d1e051da-253e-42f6-b07c-a2445c9a094a"
      },
      "outputs": [
        {
          "output_type": "stream",
          "name": "stdout",
          "text": [
            "[*********************100%***********************]  1 of 1 completed\n",
            "[*********************100%***********************]  1 of 1 completed\n"
          ]
        }
      ],
      "source": [
        "bitcoin = yf.download(\"BTC-USD\", period='max')\n",
        "preco = bitcoin['Close']\n",
        "retorno = preco.pct_change()\n",
        "dolar = yf.download('USDBRL=X', period='max')['Close']"
      ]
    },
    {
      "cell_type": "markdown",
      "metadata": {
        "id": "Y5FuEjtSKm7y"
      },
      "source": [
        "As séries `preco`, `volume` e `retorno` trazem o preço, o volume negociado e o retorno diário do Bitcoin ao longo do último mês. A série `dolar` traz a série do valor diário do dólar."
      ]
    },
    {
      "cell_type": "markdown",
      "metadata": {
        "id": "KWb4wHnWKm7y"
      },
      "source": [
        "1. Quantos dias temos na série de retorno? Em quantos desses dias o retorno do Bitcoin foi positivo?"
      ]
    },
    {
      "cell_type": "code",
      "execution_count": 4,
      "metadata": {
        "id": "8tIEtWSZKm7y",
        "colab": {
          "base_uri": "https://localhost:8080/"
        },
        "outputId": "d4faf1c0-6bd8-4d85-cb6f-46080c62f140"
      },
      "outputs": [
        {
          "output_type": "execute_result",
          "data": {
            "text/plain": [
              "3081"
            ]
          },
          "metadata": {},
          "execution_count": 4
        }
      ],
      "source": [
        "#Resposta\n",
        "retorno.count()"
      ]
    },
    {
      "cell_type": "code",
      "source": [
        "positivo = retorno.loc[retorno>0]"
      ],
      "metadata": {
        "id": "AiEZCK6yrglA"
      },
      "execution_count": 5,
      "outputs": []
    },
    {
      "cell_type": "code",
      "execution_count": 6,
      "metadata": {
        "id": "b9GUNp7mKm7y",
        "colab": {
          "base_uri": "https://localhost:8080/"
        },
        "outputId": "f7e1db26-5822-43f4-9974-9e8e0889a582"
      },
      "outputs": [
        {
          "output_type": "execute_result",
          "data": {
            "text/plain": [
              "1644"
            ]
          },
          "metadata": {},
          "execution_count": 6
        }
      ],
      "source": [
        "#Resposta\n",
        "len(positivo)"
      ]
    },
    {
      "cell_type": "markdown",
      "metadata": {
        "id": "B1kBL37DKm7z"
      },
      "source": [
        "O preço do Bitcoin está em dólar. Queremos convertê-lo para reais usando o valor do dólar em cada dia.  \n",
        "\n",
        "Antes de fazermos isso...\n",
        "\n",
        "2. Qual o valor do dólar mais recente disponível na série `dolar`?"
      ]
    },
    {
      "cell_type": "code",
      "execution_count": 7,
      "metadata": {
        "id": "6AcDWA5qKm7z",
        "colab": {
          "base_uri": "https://localhost:8080/"
        },
        "outputId": "3b6c6310-305f-46a8-f82d-a837c9254fac"
      },
      "outputs": [
        {
          "output_type": "execute_result",
          "data": {
            "text/plain": [
              "5.204400062561035"
            ]
          },
          "metadata": {},
          "execution_count": 7
        }
      ],
      "source": [
        "#Resposta\n",
        "dolar.iloc[-1]"
      ]
    },
    {
      "cell_type": "markdown",
      "metadata": {
        "id": "Zj1nTjljKm7z"
      },
      "source": [
        "3. Converta a série `preço` do Bitcoin para o Real. Para isso, você deve _multiplicar_ o preço do Bitcoin em dólar pelo preço do dólar em cada dia. Chame a nova serie de `preco_real`"
      ]
    },
    {
      "cell_type": "code",
      "source": [
        "preco.count()"
      ],
      "metadata": {
        "colab": {
          "base_uri": "https://localhost:8080/"
        },
        "id": "JVYJFRsXwOOM",
        "outputId": "450798a5-731d-4983-f569-ef191a6b4ab9"
      },
      "execution_count": 8,
      "outputs": [
        {
          "output_type": "execute_result",
          "data": {
            "text/plain": [
              "3082"
            ]
          },
          "metadata": {},
          "execution_count": 8
        }
      ]
    },
    {
      "cell_type": "code",
      "source": [
        "preco.head()"
      ],
      "metadata": {
        "colab": {
          "base_uri": "https://localhost:8080/"
        },
        "id": "yvmp6w5Zwr4C",
        "outputId": "7633bbb4-802b-4eda-e171-f83649f5a99c"
      },
      "execution_count": 9,
      "outputs": [
        {
          "output_type": "execute_result",
          "data": {
            "text/plain": [
              "Date\n",
              "2014-09-17    457.334015\n",
              "2014-09-18    424.440002\n",
              "2014-09-19    394.795990\n",
              "2014-09-20    408.903992\n",
              "2014-09-21    398.821014\n",
              "Name: Close, dtype: float64"
            ]
          },
          "metadata": {},
          "execution_count": 9
        }
      ]
    },
    {
      "cell_type": "code",
      "source": [
        "dolar.count()"
      ],
      "metadata": {
        "colab": {
          "base_uri": "https://localhost:8080/"
        },
        "id": "Izw2u3r9wZTb",
        "outputId": "74321dbe-e947-4d45-e5c2-25ade95c5470"
      },
      "execution_count": 10,
      "outputs": [
        {
          "output_type": "execute_result",
          "data": {
            "text/plain": [
              "4573"
            ]
          },
          "metadata": {},
          "execution_count": 10
        }
      ]
    },
    {
      "cell_type": "code",
      "source": [
        "dolar.head()"
      ],
      "metadata": {
        "colab": {
          "base_uri": "https://localhost:8080/"
        },
        "id": "pSqPTkUMzQ0w",
        "outputId": "6d98efc9-055b-4cf6-81c0-5429848a98d4"
      },
      "execution_count": 11,
      "outputs": [
        {
          "output_type": "execute_result",
          "data": {
            "text/plain": [
              "Date\n",
              "2003-12-01    2.923\n",
              "2003-12-02    2.931\n",
              "2003-12-03    2.931\n",
              "2003-12-04    2.943\n",
              "2003-12-05    2.934\n",
              "Name: Close, dtype: float64"
            ]
          },
          "metadata": {},
          "execution_count": 11
        }
      ]
    },
    {
      "cell_type": "code",
      "source": [
        "dolar.index[-1]"
      ],
      "metadata": {
        "colab": {
          "base_uri": "https://localhost:8080/"
        },
        "id": "tauk1tEA0GQZ",
        "outputId": "a898147a-2428-47ee-d430-082d315c13ee"
      },
      "execution_count": 14,
      "outputs": [
        {
          "output_type": "execute_result",
          "data": {
            "text/plain": [
              "Timestamp('2023-02-24 00:00:00')"
            ]
          },
          "metadata": {},
          "execution_count": 14
        }
      ]
    },
    {
      "cell_type": "code",
      "source": [
        "p_dolar = dolar.loc['2014-09-17':'2023-02-24']\n",
        "p_dolar.head()"
      ],
      "metadata": {
        "id": "bh5zYwf00g2W",
        "colab": {
          "base_uri": "https://localhost:8080/"
        },
        "outputId": "a5906217-36b7-4123-9b68-ad383c72fc42"
      },
      "execution_count": 16,
      "outputs": [
        {
          "output_type": "execute_result",
          "data": {
            "text/plain": [
              "Date\n",
              "2014-09-17    2.3337\n",
              "2014-09-18    2.3553\n",
              "2014-09-19    2.3632\n",
              "2014-09-22    2.3650\n",
              "2014-09-23    2.3957\n",
              "Name: Close, dtype: float64"
            ]
          },
          "metadata": {},
          "execution_count": 16
        }
      ]
    },
    {
      "cell_type": "code",
      "source": [
        "# Resposta\n",
        "\n",
        "preco_real = p_dolar * preco\n",
        "preco_real"
      ],
      "metadata": {
        "colab": {
          "base_uri": "https://localhost:8080/"
        },
        "id": "Tp95gsJk1Pkx",
        "outputId": "e510b752-e271-4bfd-823c-6eb21eaf8b2e"
      },
      "execution_count": 17,
      "outputs": [
        {
          "output_type": "execute_result",
          "data": {
            "text/plain": [
              "Date\n",
              "2014-09-17      1067.280364\n",
              "2014-09-18       999.683516\n",
              "2014-09-19       932.981864\n",
              "2014-09-20              NaN\n",
              "2014-09-21              NaN\n",
              "                  ...      \n",
              "2023-02-20    128246.741902\n",
              "2023-02-21    126255.304931\n",
              "2023-02-22    124971.663449\n",
              "2023-02-23              NaN\n",
              "2023-02-24    120520.914778\n",
              "Name: Close, Length: 3083, dtype: float64"
            ]
          },
          "metadata": {},
          "execution_count": 17
        }
      ]
    },
    {
      "cell_type": "markdown",
      "metadata": {
        "id": "qN9hqj7NKm70"
      },
      "source": [
        "Ótimo! Agora eu vou calcular pra você o retorno diário do Bitcoin em reais:"
      ]
    },
    {
      "cell_type": "code",
      "source": [
        "retorno_diario = preco_real * retorno"
      ],
      "metadata": {
        "id": "yABBrXDBLHKY"
      },
      "execution_count": 19,
      "outputs": []
    },
    {
      "cell_type": "code",
      "execution_count": 20,
      "metadata": {
        "id": "gBiwDgmJKm70",
        "colab": {
          "base_uri": "https://localhost:8080/"
        },
        "outputId": "ce5893a1-8124-4fec-8122-507ead11d0b3"
      },
      "outputs": [
        {
          "output_type": "execute_result",
          "data": {
            "text/plain": [
              "Date\n",
              "2014-09-17            NaN\n",
              "2014-09-18     -71.902813\n",
              "2014-09-19     -65.161921\n",
              "2014-09-20            NaN\n",
              "2014-09-21            NaN\n",
              "                 ...     \n",
              "2023-02-20    2643.761816\n",
              "2023-02-21   -1997.347705\n",
              "2023-02-22   -1265.806992\n",
              "2023-02-23            NaN\n",
              "2023-02-24   -5138.650805\n",
              "Name: Close, Length: 3083, dtype: float64"
            ]
          },
          "metadata": {},
          "execution_count": 20
        }
      ],
      "source": [
        "#Resposta\n",
        "retorno_diario"
      ]
    },
    {
      "cell_type": "markdown",
      "metadata": {
        "id": "mLDKpEI5Km70"
      },
      "source": [
        "Você vai aprender a medir o risco de uma ação quando estudar Finanças. Por enquanto, vamos usar esta medida daqui:\n",
        "\n",
        "$$\n",
        "\\text{Risco} = \\left(\\frac{\\text{valor máximo do retorno} - \\text{valor mínimo do retorno}}{\\text{valor médio do retorno}} \\right)\\times 100\n",
        "$$\n",
        "\n",
        "4. Calcule esse valor para duas séries:\n",
        "* `retorno`, que mede o retorno diário do Bitcoin em dólar (ou seja, para o investidor americano)\n",
        "* `retorno_real`, que mede o retorno diário do Bitcoin em reais (ou seja, para o investidor brasileiro)\n",
        "\n",
        "Qual é maior?"
      ]
    },
    {
      "cell_type": "code",
      "execution_count": 22,
      "metadata": {
        "id": "cp7uiEwuKm71",
        "colab": {
          "base_uri": "https://localhost:8080/"
        },
        "outputId": "1a13fbc7-2ba4-4a0a-c1a9-894989098048"
      },
      "outputs": [
        {
          "output_type": "execute_result",
          "data": {
            "text/plain": [
              "31060.741799370557"
            ]
          },
          "metadata": {},
          "execution_count": 22
        }
      ],
      "source": [
        "#Para a série em dólar\n",
        "risco_dolar = ((retorno.max()-retorno.min())/retorno.mean())*100\n",
        "risco_dolar"
      ]
    },
    {
      "cell_type": "code",
      "execution_count": 23,
      "metadata": {
        "id": "bHr_0feMKm71",
        "colab": {
          "base_uri": "https://localhost:8080/"
        },
        "outputId": "5cc04270-860b-4edd-f89c-9db647252dd5"
      },
      "outputs": [
        {
          "output_type": "execute_result",
          "data": {
            "text/plain": [
              "53569.72889539668"
            ]
          },
          "metadata": {},
          "execution_count": 23
        }
      ],
      "source": [
        "#Para a série em reais\n",
        "risco_real = ((retorno_diario.max()-retorno_diario.min())/retorno_diario.mean())*100\n",
        "risco_real"
      ]
    },
    {
      "cell_type": "markdown",
      "metadata": {
        "id": "FY5F4eoOKm71"
      },
      "source": [
        "Por que o risco em real é maior do que o risco em dólar?\n",
        "\n",
        "Parabéns! Você acaba de aprender o que é **risco cambial** de um investimento! :)"
      ]
    }
  ],
  "metadata": {
    "kernelspec": {
      "display_name": "Python 3",
      "language": "python",
      "name": "python3"
    },
    "language_info": {
      "codemirror_mode": {
        "name": "ipython",
        "version": 3
      },
      "file_extension": ".py",
      "mimetype": "text/x-python",
      "name": "python",
      "nbconvert_exporter": "python",
      "pygments_lexer": "ipython3",
      "version": "3.8.3"
    },
    "colab": {
      "provenance": [],
      "include_colab_link": true
    }
  },
  "nbformat": 4,
  "nbformat_minor": 0
}