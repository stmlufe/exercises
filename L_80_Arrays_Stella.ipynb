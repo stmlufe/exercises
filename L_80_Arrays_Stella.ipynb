{
  "cells": [
    {
      "cell_type": "markdown",
      "metadata": {
        "id": "view-in-github",
        "colab_type": "text"
      },
      "source": [
        "<a href=\"https://colab.research.google.com/github/stmlufe/exercises/blob/master/L_80_Arrays_Stella.ipynb\" target=\"_parent\"><img src=\"https://colab.research.google.com/assets/colab-badge.svg\" alt=\"Open In Colab\"/></a>"
      ]
    },
    {
      "cell_type": "markdown",
      "metadata": {
        "id": "aSR4gQLe9KSM"
      },
      "source": [
        "### Importando o numpy\n",
        "\n",
        "Importe o numpy. Chame-o de np."
      ]
    },
    {
      "cell_type": "code",
      "execution_count": null,
      "metadata": {
        "id": "_x2SRtRN9KST"
      },
      "outputs": [],
      "source": [
        "#Resposta\n",
        "import numpy as np"
      ]
    },
    {
      "cell_type": "markdown",
      "metadata": {
        "id": "qpbn7scP9KSV"
      },
      "source": [
        "### De pandas a numpy\n",
        "\n",
        "Transforme o dataframe `df` em um array"
      ]
    },
    {
      "cell_type": "code",
      "execution_count": null,
      "metadata": {
        "id": "8o7LvqAo9KSW",
        "outputId": "bc99488f-9307-4de1-d863-a79a052320bf",
        "colab": {
          "base_uri": "https://localhost:8080/",
          "height": 143
        }
      },
      "outputs": [
        {
          "output_type": "execute_result",
          "data": {
            "text/plain": [
              "   A  B  C   D\n",
              "0  1  4  7  10\n",
              "1  2  5  8  11\n",
              "2  3  6  9  12"
            ],
            "text/html": [
              "\n",
              "  <div id=\"df-731a21ae-e228-46ba-b5ef-fff2c0341102\">\n",
              "    <div class=\"colab-df-container\">\n",
              "      <div>\n",
              "<style scoped>\n",
              "    .dataframe tbody tr th:only-of-type {\n",
              "        vertical-align: middle;\n",
              "    }\n",
              "\n",
              "    .dataframe tbody tr th {\n",
              "        vertical-align: top;\n",
              "    }\n",
              "\n",
              "    .dataframe thead th {\n",
              "        text-align: right;\n",
              "    }\n",
              "</style>\n",
              "<table border=\"1\" class=\"dataframe\">\n",
              "  <thead>\n",
              "    <tr style=\"text-align: right;\">\n",
              "      <th></th>\n",
              "      <th>A</th>\n",
              "      <th>B</th>\n",
              "      <th>C</th>\n",
              "      <th>D</th>\n",
              "    </tr>\n",
              "  </thead>\n",
              "  <tbody>\n",
              "    <tr>\n",
              "      <th>0</th>\n",
              "      <td>1</td>\n",
              "      <td>4</td>\n",
              "      <td>7</td>\n",
              "      <td>10</td>\n",
              "    </tr>\n",
              "    <tr>\n",
              "      <th>1</th>\n",
              "      <td>2</td>\n",
              "      <td>5</td>\n",
              "      <td>8</td>\n",
              "      <td>11</td>\n",
              "    </tr>\n",
              "    <tr>\n",
              "      <th>2</th>\n",
              "      <td>3</td>\n",
              "      <td>6</td>\n",
              "      <td>9</td>\n",
              "      <td>12</td>\n",
              "    </tr>\n",
              "  </tbody>\n",
              "</table>\n",
              "</div>\n",
              "      <button class=\"colab-df-convert\" onclick=\"convertToInteractive('df-731a21ae-e228-46ba-b5ef-fff2c0341102')\"\n",
              "              title=\"Convert this dataframe to an interactive table.\"\n",
              "              style=\"display:none;\">\n",
              "        \n",
              "  <svg xmlns=\"http://www.w3.org/2000/svg\" height=\"24px\"viewBox=\"0 0 24 24\"\n",
              "       width=\"24px\">\n",
              "    <path d=\"M0 0h24v24H0V0z\" fill=\"none\"/>\n",
              "    <path d=\"M18.56 5.44l.94 2.06.94-2.06 2.06-.94-2.06-.94-.94-2.06-.94 2.06-2.06.94zm-11 1L8.5 8.5l.94-2.06 2.06-.94-2.06-.94L8.5 2.5l-.94 2.06-2.06.94zm10 10l.94 2.06.94-2.06 2.06-.94-2.06-.94-.94-2.06-.94 2.06-2.06.94z\"/><path d=\"M17.41 7.96l-1.37-1.37c-.4-.4-.92-.59-1.43-.59-.52 0-1.04.2-1.43.59L10.3 9.45l-7.72 7.72c-.78.78-.78 2.05 0 2.83L4 21.41c.39.39.9.59 1.41.59.51 0 1.02-.2 1.41-.59l7.78-7.78 2.81-2.81c.8-.78.8-2.07 0-2.86zM5.41 20L4 18.59l7.72-7.72 1.47 1.35L5.41 20z\"/>\n",
              "  </svg>\n",
              "      </button>\n",
              "      \n",
              "  <style>\n",
              "    .colab-df-container {\n",
              "      display:flex;\n",
              "      flex-wrap:wrap;\n",
              "      gap: 12px;\n",
              "    }\n",
              "\n",
              "    .colab-df-convert {\n",
              "      background-color: #E8F0FE;\n",
              "      border: none;\n",
              "      border-radius: 50%;\n",
              "      cursor: pointer;\n",
              "      display: none;\n",
              "      fill: #1967D2;\n",
              "      height: 32px;\n",
              "      padding: 0 0 0 0;\n",
              "      width: 32px;\n",
              "    }\n",
              "\n",
              "    .colab-df-convert:hover {\n",
              "      background-color: #E2EBFA;\n",
              "      box-shadow: 0px 1px 2px rgba(60, 64, 67, 0.3), 0px 1px 3px 1px rgba(60, 64, 67, 0.15);\n",
              "      fill: #174EA6;\n",
              "    }\n",
              "\n",
              "    [theme=dark] .colab-df-convert {\n",
              "      background-color: #3B4455;\n",
              "      fill: #D2E3FC;\n",
              "    }\n",
              "\n",
              "    [theme=dark] .colab-df-convert:hover {\n",
              "      background-color: #434B5C;\n",
              "      box-shadow: 0px 1px 3px 1px rgba(0, 0, 0, 0.15);\n",
              "      filter: drop-shadow(0px 1px 2px rgba(0, 0, 0, 0.3));\n",
              "      fill: #FFFFFF;\n",
              "    }\n",
              "  </style>\n",
              "\n",
              "      <script>\n",
              "        const buttonEl =\n",
              "          document.querySelector('#df-731a21ae-e228-46ba-b5ef-fff2c0341102 button.colab-df-convert');\n",
              "        buttonEl.style.display =\n",
              "          google.colab.kernel.accessAllowed ? 'block' : 'none';\n",
              "\n",
              "        async function convertToInteractive(key) {\n",
              "          const element = document.querySelector('#df-731a21ae-e228-46ba-b5ef-fff2c0341102');\n",
              "          const dataTable =\n",
              "            await google.colab.kernel.invokeFunction('convertToInteractive',\n",
              "                                                     [key], {});\n",
              "          if (!dataTable) return;\n",
              "\n",
              "          const docLinkHtml = 'Like what you see? Visit the ' +\n",
              "            '<a target=\"_blank\" href=https://colab.research.google.com/notebooks/data_table.ipynb>data table notebook</a>'\n",
              "            + ' to learn more about interactive tables.';\n",
              "          element.innerHTML = '';\n",
              "          dataTable['output_type'] = 'display_data';\n",
              "          await google.colab.output.renderOutput(dataTable, element);\n",
              "          const docLink = document.createElement('div');\n",
              "          docLink.innerHTML = docLinkHtml;\n",
              "          element.appendChild(docLink);\n",
              "        }\n",
              "      </script>\n",
              "    </div>\n",
              "  </div>\n",
              "  "
            ]
          },
          "metadata": {},
          "execution_count": 2
        }
      ],
      "source": [
        "import pandas as pd\n",
        "\n",
        "df = pd.DataFrame({'A': [1,2,3], 'B': [4,5,6], 'C': [7,8,9], 'D':[10, 11, 12]})\n",
        "df"
      ]
    },
    {
      "cell_type": "code",
      "execution_count": null,
      "metadata": {
        "id": "05Q-RpnQ9KSY",
        "colab": {
          "base_uri": "https://localhost:8080/"
        },
        "outputId": "8935eb29-a1eb-4eff-e651-a2e2e27267ed"
      },
      "outputs": [
        {
          "output_type": "execute_result",
          "data": {
            "text/plain": [
              "array([[ 1,  4,  7, 10],\n",
              "       [ 2,  5,  8, 11],\n",
              "       [ 3,  6,  9, 12]])"
            ]
          },
          "metadata": {},
          "execution_count": 3
        }
      ],
      "source": [
        "#Resposta\n",
        "df.to_numpy()"
      ]
    },
    {
      "cell_type": "markdown",
      "metadata": {
        "id": "TT2h_A--9KSZ"
      },
      "source": [
        "## Operações ao longo dos eixos de um array\n",
        "\n",
        "Rode esse comando:"
      ]
    },
    {
      "cell_type": "code",
      "execution_count": null,
      "metadata": {
        "id": "vij8YwI59KSa"
      },
      "outputs": [],
      "source": [
        "np.random.seed(0)"
      ]
    },
    {
      "cell_type": "markdown",
      "metadata": {
        "id": "MPfUSPuF9KSa"
      },
      "source": [
        "1. Crie um array `A` com 10000 números aleatórios, dispostos na forma de uma matriz com 2000 linhas."
      ]
    },
    {
      "cell_type": "code",
      "execution_count": null,
      "metadata": {
        "id": "nOtaN4Cp9KSc",
        "colab": {
          "base_uri": "https://localhost:8080/"
        },
        "outputId": "69b3126c-41c0-4669-bc6c-8436a770d84f"
      },
      "outputs": [
        {
          "output_type": "execute_result",
          "data": {
            "text/plain": [
              "array([0.75812542, 0.50331851, 0.17701666, ..., 0.58822388, 0.42461491,\n",
              "       0.9016327 ])"
            ]
          },
          "metadata": {},
          "execution_count": 18
        }
      ],
      "source": [
        "#Resposta\n",
        "A = np.random.random(10000)\n",
        "A"
      ]
    },
    {
      "cell_type": "code",
      "execution_count": null,
      "metadata": {
        "id": "f8TPi1dS9KSd",
        "colab": {
          "base_uri": "https://localhost:8080/"
        },
        "outputId": "f2f2a282-ba23-450a-dede-e8785a9da9bd"
      },
      "outputs": [
        {
          "output_type": "execute_result",
          "data": {
            "text/plain": [
              "array([[0.75812542, 0.50331851, 0.17701666, 0.83253651, 0.51682478],\n",
              "       [0.92691954, 0.97180655, 0.67512985, 0.31210011, 0.57568377],\n",
              "       [0.37128647, 0.26900403, 0.45417978, 0.41377712, 0.61058927],\n",
              "       ...,\n",
              "       [0.69034521, 0.21751853, 0.86180008, 0.73934453, 0.47862616],\n",
              "       [0.46643005, 0.77038955, 0.90442889, 0.31774153, 0.54089517],\n",
              "       [0.6683831 , 0.99491147, 0.58822388, 0.42461491, 0.9016327 ]])"
            ]
          },
          "metadata": {},
          "execution_count": 19
        }
      ],
      "source": [
        "A = A.reshape(2000,-1)\n",
        "A"
      ]
    },
    {
      "cell_type": "markdown",
      "metadata": {
        "id": "KdUp0ELM9KSe"
      },
      "source": [
        "2. Usando o comando `.shape`, verifique as dimensões desse array"
      ]
    },
    {
      "cell_type": "code",
      "execution_count": null,
      "metadata": {
        "id": "RWe18cgi9KSe",
        "colab": {
          "base_uri": "https://localhost:8080/"
        },
        "outputId": "987ec7ad-1228-4111-e313-532d48eb0a4a"
      },
      "outputs": [
        {
          "output_type": "execute_result",
          "data": {
            "text/plain": [
              "(2000, 5)"
            ]
          },
          "metadata": {},
          "execution_count": 20
        }
      ],
      "source": [
        "#Resposta\n",
        "A.shape"
      ]
    },
    {
      "cell_type": "markdown",
      "metadata": {
        "id": "2pnLCeNQ9KSf"
      },
      "source": [
        "3. Encontre a soma de todas as colunas de `A`"
      ]
    },
    {
      "cell_type": "code",
      "execution_count": null,
      "metadata": {
        "id": "RC7aHV-89KSg",
        "colab": {
          "base_uri": "https://localhost:8080/"
        },
        "outputId": "c3d8d11d-4a4f-427e-f744-e648dddb194c"
      },
      "outputs": [
        {
          "output_type": "execute_result",
          "data": {
            "text/plain": [
              "array([ 988.00571635,  990.47668653, 1002.36606977,  992.57921403,\n",
              "       1008.78018786])"
            ]
          },
          "metadata": {},
          "execution_count": 21
        }
      ],
      "source": [
        "#Resposta\n",
        "A.sum(axis = 0)"
      ]
    },
    {
      "cell_type": "markdown",
      "metadata": {
        "id": "sGVbkTYJ9KSg"
      },
      "source": [
        "4. Encontre a média de todas as linhas de `A`"
      ]
    },
    {
      "cell_type": "code",
      "execution_count": null,
      "metadata": {
        "id": "bvd3-zOO9KSg",
        "colab": {
          "base_uri": "https://localhost:8080/"
        },
        "outputId": "639ec6ec-4239-435f-9fdf-f501fb34660e"
      },
      "outputs": [
        {
          "output_type": "execute_result",
          "data": {
            "text/plain": [
              "array([0.55756438, 0.69232796, 0.42376733, ..., 0.5975269 , 0.59997704,\n",
              "       0.71555321])"
            ]
          },
          "metadata": {},
          "execution_count": 22
        }
      ],
      "source": [
        "#Resposta\n",
        "A.mean(axis = 1)"
      ]
    },
    {
      "cell_type": "markdown",
      "metadata": {
        "id": "dkGZGM9E9KSg"
      },
      "source": [
        "### Vetorização\n",
        "\n",
        "Vocë não precisa fazer nada nessa questão. Só leia, rode o código, e aproveite a viagem!\n",
        "\n",
        "Em cálculo, você vai aprender que\n",
        "\n",
        "$$\n",
        "\\lim_{x \\to +\\infty} \\left( 1 + \\frac{1}{x} \\right)^x = e \\approx 2.718\n",
        "$$\n",
        "\n",
        "Vamos usar um computador para testar isso.\n",
        "\n",
        "Primeiro, vamos criar um vetor com vários valores para x, desde 1 até 100 mil:"
      ]
    },
    {
      "cell_type": "code",
      "execution_count": null,
      "metadata": {
        "id": "UxvXtOJn9KSh"
      },
      "outputs": [],
      "source": [
        "x = np.array(range(1,100000))"
      ]
    },
    {
      "cell_type": "markdown",
      "metadata": {
        "id": "Iv7PkKLG9KSh"
      },
      "source": [
        "Agora, vamos criar a função\n",
        "\n",
        "$$\n",
        "f(x) = \\left(1 + \\frac{1}{x} \\right)^x\n",
        "$$"
      ]
    },
    {
      "cell_type": "code",
      "execution_count": null,
      "metadata": {
        "id": "enLNsWnm9KSh"
      },
      "outputs": [],
      "source": [
        "def f(x):\n",
        "    return((1 + 1/x)**x)"
      ]
    },
    {
      "cell_type": "markdown",
      "metadata": {
        "id": "uSgYKz1l9KSi"
      },
      "source": [
        "Agora calcular essa função para todos os valores de $x$, de 1 até 1000. Veja como é simples e intuitivo fazer isso em numpy. Basta rodar o comando abaixo:"
      ]
    },
    {
      "cell_type": "code",
      "execution_count": null,
      "metadata": {
        "id": "al23qrPK9KSi"
      },
      "outputs": [],
      "source": [
        "#### Essa é a linha mais importante dessa questão \n",
        "#### Você não precisa fazer nada. Só veja como é simples. Natural. Intuitivo.\n",
        "### Rode o código e contemple a beleza da Vetorização\n",
        "\n",
        "y = f(x)\n"
      ]
    },
    {
      "cell_type": "markdown",
      "metadata": {
        "id": "YEnHguTg9KSi"
      },
      "source": [
        "O último valor de $y$ é o valor correspondente ao maior valor de $x$. Será que esse valor é parecido com o valor de $e \\approx 2.71828$?"
      ]
    },
    {
      "cell_type": "code",
      "execution_count": null,
      "metadata": {
        "id": "P4AKPHJv9KSi",
        "colab": {
          "base_uri": "https://localhost:8080/"
        },
        "outputId": "978ce874-b739-445d-a1b3-8b586d675eb3"
      },
      "outputs": [
        {
          "output_type": "execute_result",
          "data": {
            "text/plain": [
              "2.718268237028235"
            ]
          },
          "metadata": {},
          "execution_count": 27
        }
      ],
      "source": [
        "y[-1]"
      ]
    },
    {
      "cell_type": "markdown",
      "metadata": {
        "id": "VXAR_nPI9KSj"
      },
      "source": [
        "Deixa agora eu te mostrar um gráfico para você ver o que acontece com $f(x)$ quando $x$ tende a infinito:"
      ]
    },
    {
      "cell_type": "code",
      "execution_count": null,
      "metadata": {
        "id": "9umOqwFA9KSj",
        "colab": {
          "base_uri": "https://localhost:8080/",
          "height": 528
        },
        "outputId": "97166ada-10b0-4f1b-99b5-12590c09008a"
      },
      "outputs": [
        {
          "output_type": "display_data",
          "data": {
            "text/plain": [
              "<Figure size 1000x600 with 1 Axes>"
            ],
            "image/png": "[encoded data removed]"
          },
          "metadata": {}
        }
      ],
      "source": [
        "import matplotlib.pyplot as plt\n",
        "plt.figure(figsize=(10,6))\n",
        "plt.scatter(x[:100],y[:100])\n",
        "plt.axhline(y = 2.718, c = 'red')\n",
        "plt.annotate('e = 2.71828', xy=(0, np.exp(1) + 0.05), c='red')\n",
        "plt.ylim(0, 3);"
      ]
    }
  ],
  "metadata": {
    "kernelspec": {
      "display_name": "Python 3",
      "language": "python",
      "name": "python3"
    },
    "language_info": {
      "codemirror_mode": {
        "name": "ipython",
        "version": 3
      },
      "file_extension": ".py",
      "mimetype": "text/x-python",
      "name": "python",
      "nbconvert_exporter": "python",
      "pygments_lexer": "ipython3",
      "version": "3.8.3"
    },
    "colab": {
      "provenance": [],
      "include_colab_link": true
    }
  },
  "nbformat": 4,
  "nbformat_minor": 0
}