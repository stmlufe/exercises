{
  "cells": [
    {
      "cell_type": "markdown",
      "metadata": {
        "id": "view-in-github",
        "colab_type": "text"
      },
      "source": [
        "<a href=\"https://colab.research.google.com/github/stmlufe/exercises/blob/master/L_50_Dicionarios_Stella.ipynb\" target=\"_parent\"><img src=\"https://colab.research.google.com/assets/colab-badge.svg\" alt=\"Open In Colab\"/></a>"
      ]
    },
    {
      "cell_type": "markdown",
      "metadata": {
        "id": "O0F6UGjNC_bE"
      },
      "source": [
        "### Lista telefonica\n",
        "\n",
        "1. Construa um dicionario com o telefone de Sam, Alex e Clover:\n",
        "\n",
        "Sam: 91111111 \\\n",
        "Alex: 92222222 \\\n",
        "Clover: 93333333 "
      ]
    },
    {
      "cell_type": "code",
      "execution_count": 71,
      "metadata": {
        "id": "TsXQ6l_XC_bK"
      },
      "outputs": [],
      "source": [
        "#Resposta\n",
        "lista = {'Sam': '91111111', 'Alex': '92222222', 'Clover': '9333333'}\n"
      ]
    },
    {
      "cell_type": "markdown",
      "metadata": {
        "id": "QA-U2MfWC_bM"
      },
      "source": [
        "2. Busque o telefone da Alex"
      ]
    },
    {
      "cell_type": "code",
      "execution_count": 72,
      "metadata": {
        "id": "Vx8atVcuC_bN",
        "colab": {
          "base_uri": "https://localhost:8080/",
          "height": 35
        },
        "outputId": "4d8812f1-ee01-4abc-b308-94c05abd9822"
      },
      "outputs": [
        {
          "output_type": "execute_result",
          "data": {
            "text/plain": [
              "'92222222'"
            ],
            "application/vnd.google.colaboratory.intrinsic+json": {
              "type": "string"
            }
          },
          "metadata": {},
          "execution_count": 72
        }
      ],
      "source": [
        "#Resposta\n",
        "lista['Alex']"
      ]
    },
    {
      "cell_type": "markdown",
      "metadata": {
        "id": "nft1hNIsC_bN"
      },
      "source": [
        "3. Acrescente a Mandy no dicionario. O numero dela? 94444444"
      ]
    },
    {
      "cell_type": "code",
      "execution_count": 73,
      "metadata": {
        "id": "YlkSbqRvC_bO"
      },
      "outputs": [],
      "source": [
        "#Resposta\n",
        "lista['Mandy'] = '94444444'"
      ]
    },
    {
      "cell_type": "code",
      "source": [
        "lista"
      ],
      "metadata": {
        "colab": {
          "base_uri": "https://localhost:8080/"
        },
        "id": "GE_CvHXq0A8C",
        "outputId": "055dd3fc-7369-4514-f6f2-04f30599809b"
      },
      "execution_count": null,
      "outputs": [
        {
          "output_type": "execute_result",
          "data": {
            "text/plain": [
              "{'Sam': '91111111',\n",
              " 'Alex': '92222222',\n",
              " 'Clover': '9333333',\n",
              " 'Mandy': '94444444'}"
            ]
          },
          "metadata": {},
          "execution_count": 9
        }
      ]
    },
    {
      "cell_type": "markdown",
      "metadata": {
        "id": "3xtPkMv2C_bO"
      },
      "source": [
        "4. Usando um `for`, mostre todos os nomes que aparecem no dicionario"
      ]
    },
    {
      "cell_type": "code",
      "source": [
        "lista.keys()"
      ],
      "metadata": {
        "colab": {
          "base_uri": "https://localhost:8080/"
        },
        "id": "snCt9zxD0xc4",
        "outputId": "8b1a30d1-24b5-438f-e4a1-ee02c2775763"
      },
      "execution_count": 74,
      "outputs": [
        {
          "output_type": "execute_result",
          "data": {
            "text/plain": [
              "dict_keys(['Sam', 'Alex', 'Clover', 'Mandy'])"
            ]
          },
          "metadata": {},
          "execution_count": 74
        }
      ]
    },
    {
      "cell_type": "code",
      "execution_count": 75,
      "metadata": {
        "id": "tYvieX9SC_bP",
        "colab": {
          "base_uri": "https://localhost:8080/"
        },
        "outputId": "8451b44e-d197-45c4-86ba-c43cc4d530ea"
      },
      "outputs": [
        {
          "output_type": "stream",
          "name": "stdout",
          "text": [
            "Nome na lista Sam\n",
            "Nome na lista Alex\n",
            "Nome na lista Clover\n",
            "Nome na lista Mandy\n"
          ]
        }
      ],
      "source": [
        "#Resposta\n",
        "for i in lista.keys():\n",
        "  print(f'Nome na lista {i}')"
      ]
    },
    {
      "cell_type": "markdown",
      "metadata": {
        "id": "Kuf6kq4sC_bQ"
      },
      "source": [
        "5. Usando um `for`, mostre todos os numeros de telefone que aparecem no dicionario"
      ]
    },
    {
      "cell_type": "code",
      "execution_count": null,
      "metadata": {
        "id": "3ihuEuwVC_bR",
        "colab": {
          "base_uri": "https://localhost:8080/"
        },
        "outputId": "b0f15f18-f271-4e97-aafc-b4fa33221cb5"
      },
      "outputs": [
        {
          "output_type": "stream",
          "name": "stdout",
          "text": [
            "Número de telefone 91111111\n",
            "Número de telefone 92222222\n",
            "Número de telefone 9333333\n",
            "Número de telefone 94444444\n"
          ]
        }
      ],
      "source": [
        "#Resposta\n",
        "for i in lista.values():\n",
        "  print(f'Número de telefone {i}')"
      ]
    },
    {
      "cell_type": "markdown",
      "metadata": {
        "id": "pKR1fuDvC_bR"
      },
      "source": [
        "6. Escreva o dicionário por extenso, assim:\n",
        "\n",
        "O telefone dá Sam é 91111111  \n",
        "O telefone dá Alex é 92222222  \n",
        "etc."
      ]
    },
    {
      "cell_type": "code",
      "execution_count": null,
      "metadata": {
        "id": "NbJ5lLedC_bS",
        "colab": {
          "base_uri": "https://localhost:8080/"
        },
        "outputId": "4798a586-efb4-4f79-d900-8caf8dbd1225"
      },
      "outputs": [
        {
          "output_type": "stream",
          "name": "stdout",
          "text": [
            "O telefone da Sam é 91111111.\n",
            "O telefone da Alex é 92222222.\n",
            "O telefone da Clover é 9333333.\n",
            "O telefone da Mandy é 94444444.\n"
          ]
        }
      ],
      "source": [
        "#Resposta\n",
        "for (k,v) in lista.items():\n",
        "  print(f'O telefone da {k} é {v}.')"
      ]
    },
    {
      "cell_type": "markdown",
      "metadata": {
        "id": "1xqXp9teC_bS"
      },
      "source": [
        "### Data Science\n",
        "\n",
        "Um banco deseja construir um modelo para prever se um cliente vai ou nao pagar um emprestimo. O banco quer usar esse modelo para decidir se vai ou nao conceder o emprestimo quando um cliente vier pedir. Para tal, o banco constroi 4 modelos e testa os quatro em 3 criterios: acuracia, precisao e recall (voce vai aprender o que sao essas coisas no curso de Data Science). Os resultados dos modelos sao guardados em um dicionario como o que vemos abaixo:"
      ]
    },
    {
      "cell_type": "code",
      "execution_count": 82,
      "metadata": {
        "id": "aUpiqCJmC_bT"
      },
      "outputs": [],
      "source": [
        "resultados = {'modelo_1': {'acuracia': 0.98, 'precisao': 0.96, 'recall': 0.95},\n",
        "              'modelo_2': {'acuracia': 0.85, 'precisao': 0.86, 'recall': 0.82},\n",
        "              'modelo_3': {'acuracia': 0.90, 'precisao': 0.87, 'recall': 0.91},\n",
        "              'modelo_4': {'acuracia': 0.95, 'precisao': 0.97, 'recall': 0.92}\n",
        "             }"
      ]
    },
    {
      "cell_type": "markdown",
      "metadata": {
        "id": "DtEpsF7mC_bT"
      },
      "source": [
        "1. Usando um comando em Python, mostre na tela a precisao do modelo 4."
      ]
    },
    {
      "cell_type": "code",
      "execution_count": 83,
      "metadata": {
        "id": "stePnas1C_bU",
        "colab": {
          "base_uri": "https://localhost:8080/"
        },
        "outputId": "4a589526-fe44-44a4-e2b7-3dc58e103b85"
      },
      "outputs": [
        {
          "output_type": "execute_result",
          "data": {
            "text/plain": [
              "0.97"
            ]
          },
          "metadata": {},
          "execution_count": 83
        }
      ],
      "source": [
        "#Resposta\n",
        "resultados['modelo_4']['precisao']"
      ]
    },
    {
      "cell_type": "code",
      "source": [
        "resultados.keys()"
      ],
      "metadata": {
        "colab": {
          "base_uri": "https://localhost:8080/"
        },
        "id": "8ChN065tmcwy",
        "outputId": "09165baf-64d2-4b1e-8652-874f5aa19eb6"
      },
      "execution_count": 88,
      "outputs": [
        {
          "output_type": "execute_result",
          "data": {
            "text/plain": [
              "dict_keys(['modelo_1', 'modelo_2', 'modelo_3', 'modelo_4'])"
            ]
          },
          "metadata": {},
          "execution_count": 88
        }
      ]
    },
    {
      "cell_type": "code",
      "source": [
        "resultados.values()"
      ],
      "metadata": {
        "colab": {
          "base_uri": "https://localhost:8080/"
        },
        "id": "Rwg8W1WgmfK3",
        "outputId": "a844008b-237f-4993-a4e8-07a1e94457bd"
      },
      "execution_count": 89,
      "outputs": [
        {
          "output_type": "execute_result",
          "data": {
            "text/plain": [
              "dict_values([{'acuracia': 0.98, 'precisao': 0.96, 'recall': 0.95}, {'acuracia': 0.85, 'precisao': 0.86, 'recall': 0.82}, {'acuracia': 0.9, 'precisao': 0.87, 'recall': 0.91}, {'acuracia': 0.95, 'precisao': 0.97, 'recall': 0.92, 'F': 0.9443386243386243}])"
            ]
          },
          "metadata": {},
          "execution_count": 89
        }
      ]
    },
    {
      "cell_type": "code",
      "source": [
        "resultados.items()"
      ],
      "metadata": {
        "colab": {
          "base_uri": "https://localhost:8080/"
        },
        "id": "CZgL4k1Emg4D",
        "outputId": "fd39d71d-2c9c-48af-f7f9-3da610838952"
      },
      "execution_count": 90,
      "outputs": [
        {
          "output_type": "execute_result",
          "data": {
            "text/plain": [
              "dict_items([('modelo_1', {'acuracia': 0.98, 'precisao': 0.96, 'recall': 0.95}), ('modelo_2', {'acuracia': 0.85, 'precisao': 0.86, 'recall': 0.82}), ('modelo_3', {'acuracia': 0.9, 'precisao': 0.87, 'recall': 0.91}), ('modelo_4', {'acuracia': 0.95, 'precisao': 0.97, 'recall': 0.92, 'F': 0.9443386243386243})])"
            ]
          },
          "metadata": {},
          "execution_count": 90
        }
      ]
    },
    {
      "cell_type": "markdown",
      "metadata": {
        "id": "ucQOTuP0C_bU"
      },
      "source": [
        "2. Calcule o score F para cada um dos modelos e coloque no dicionario do respectivo modelo. O score F se calcula assim:\n",
        "\n",
        "$$\n",
        "F = 2\\times\\frac{precisao \\times recall}{precisao + recall}\n",
        "$$\n",
        "\n",
        "Agora, mostre o dicionario contendo o score F em cada modelo."
      ]
    },
    {
      "cell_type": "code",
      "execution_count": 84,
      "metadata": {
        "id": "5TO6W3zSC_bU"
      },
      "outputs": [],
      "source": [
        "#Resposta\n",
        "def F (precisao, recall):\n",
        "  return(2*precisao*recall/ (precisao+recall))"
      ]
    },
    {
      "cell_type": "code",
      "source": [
        "for k, v in resultados.items():\n",
        "  precisao = v['precisao']  \n",
        "  recall = v['recall']\n",
        "  resultados [k]['F'] = F(precisao, recall)"
      ],
      "metadata": {
        "id": "2Cbp40b2dyTd"
      },
      "execution_count": 91,
      "outputs": []
    },
    {
      "cell_type": "code",
      "source": [
        "resultados"
      ],
      "metadata": {
        "colab": {
          "base_uri": "https://localhost:8080/"
        },
        "id": "s0DOqAHig1-v",
        "outputId": "93fb5d6a-2cb5-4069-92c8-1f851cd97270"
      },
      "execution_count": 92,
      "outputs": [
        {
          "output_type": "execute_result",
          "data": {
            "text/plain": [
              "{'modelo_1': {'acuracia': 0.98,\n",
              "  'precisao': 0.96,\n",
              "  'recall': 0.95,\n",
              "  'F': 0.9549738219895287},\n",
              " 'modelo_2': {'acuracia': 0.85,\n",
              "  'precisao': 0.86,\n",
              "  'recall': 0.82,\n",
              "  'F': 0.8395238095238095},\n",
              " 'modelo_3': {'acuracia': 0.9,\n",
              "  'precisao': 0.87,\n",
              "  'recall': 0.91,\n",
              "  'F': 0.8895505617977528},\n",
              " 'modelo_4': {'acuracia': 0.95,\n",
              "  'precisao': 0.97,\n",
              "  'recall': 0.92,\n",
              "  'F': 0.9443386243386243}}"
            ]
          },
          "metadata": {},
          "execution_count": 92
        }
      ]
    }
  ],
  "metadata": {
    "kernelspec": {
      "display_name": "Python 3",
      "language": "python",
      "name": "python3"
    },
    "language_info": {
      "codemirror_mode": {
        "name": "ipython",
        "version": 3
      },
      "file_extension": ".py",
      "mimetype": "text/x-python",
      "name": "python",
      "nbconvert_exporter": "python",
      "pygments_lexer": "ipython3",
      "version": "3.8.3"
    },
    "colab": {
      "provenance": [],
      "include_colab_link": true
    }
  },
  "nbformat": 4,
  "nbformat_minor": 0
}