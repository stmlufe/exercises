{
  "cells": [
    {
      "cell_type": "markdown",
      "metadata": {
        "id": "view-in-github",
        "colab_type": "text"
      },
      "source": [
        "<a href=\"https://colab.research.google.com/github/stmlufe/exercises/blob/master/L_40_Listas%2C_tuplas_e_conjuntos_Stella.ipynb\" target=\"_parent\"><img src=\"https://colab.research.google.com/assets/colab-badge.svg\" alt=\"Open In Colab\"/></a>"
      ]
    },
    {
      "cell_type": "markdown",
      "metadata": {
        "id": "Xy-EfvJ-MGdx"
      },
      "source": [
        "### Manipulação de listas\n",
        "\n",
        "1. Coloque o seu nome na lista de grandes pensadores da humanidade:"
      ]
    },
    {
      "cell_type": "code",
      "execution_count": null,
      "metadata": {
        "id": "xC8hDcPgMGd2"
      },
      "outputs": [],
      "source": [
        "grandes_pensadores = ['Socrates','Aristoteles','Platao']"
      ]
    },
    {
      "cell_type": "code",
      "execution_count": null,
      "metadata": {
        "id": "3WF5e4RnMGd3",
        "colab": {
          "base_uri": "https://localhost:8080/"
        },
        "outputId": "ab1d3b79-0fce-42f2-bd33-6ba86fe61bdf"
      },
      "outputs": [
        {
          "output_type": "execute_result",
          "data": {
            "text/plain": [
              "['Socrates', 'Aristoteles', 'Platao', 'Stella']"
            ]
          },
          "metadata": {},
          "execution_count": 7
        }
      ],
      "source": [
        "#Resposta\n",
        "grandes_pensadores.append('Stella')\n",
        "grandes_pensadores"
      ]
    },
    {
      "cell_type": "markdown",
      "metadata": {
        "id": "BDyyfIOdMGd4"
      },
      "source": [
        "2. Crie uma lista chamada `divisores_de_144` com os divisores de 144.\n",
        "Tome o cuidado de incluir o número 144, já que todo número divide a si próprio."
      ]
    },
    {
      "cell_type": "code",
      "execution_count": null,
      "metadata": {
        "id": "ARrlpvUUMGd4",
        "colab": {
          "base_uri": "https://localhost:8080/"
        },
        "outputId": "9344cae3-dda5-4c10-c947-ad54abb9afea"
      },
      "outputs": [
        {
          "output_type": "execute_result",
          "data": {
            "text/plain": [
              "[1, 2, 3, 4, 6, 8, 9, 12, 16, 18, 24, 36, 48, 72, 144]"
            ]
          },
          "metadata": {},
          "execution_count": 8
        }
      ],
      "source": [
        "#Resposta\n",
        "divisores_de_144 = []\n",
        "for i in range(1, 145):\n",
        "    if 144 % i == 0:\n",
        "        divisores_de_144.append(i)\n",
        "\n",
        "divisores_de_144"
      ]
    },
    {
      "cell_type": "markdown",
      "metadata": {
        "id": "og586uz9MGd4"
      },
      "source": [
        "3. Quantos divisores tem o número 144?"
      ]
    },
    {
      "cell_type": "code",
      "execution_count": null,
      "metadata": {
        "id": "ELiW0s6SMGd5",
        "colab": {
          "base_uri": "https://localhost:8080/"
        },
        "outputId": "f0513c20-252c-41d8-a8ba-c73a2742a60e"
      },
      "outputs": [
        {
          "output_type": "execute_result",
          "data": {
            "text/plain": [
              "15"
            ]
          },
          "metadata": {},
          "execution_count": 9
        }
      ],
      "source": [
        "#Resposta\n",
        "len(divisores_de_144)"
      ]
    },
    {
      "cell_type": "markdown",
      "metadata": {
        "id": "y53SCwPRMGd5"
      },
      "source": [
        "4. Crie uma lista (`divisores_favoritos`) com os terceiro, quarto e quinto divisores de 144."
      ]
    },
    {
      "cell_type": "code",
      "execution_count": null,
      "metadata": {
        "id": "9yV2642kMGd6",
        "colab": {
          "base_uri": "https://localhost:8080/"
        },
        "outputId": "c46a8d0a-248a-426b-cef4-8f68724d2951"
      },
      "outputs": [
        {
          "output_type": "execute_result",
          "data": {
            "text/plain": [
              "[[3, 4, 6]]"
            ]
          },
          "metadata": {},
          "execution_count": 12
        }
      ],
      "source": [
        "#Resposta\n",
        "divisores_favoritos = []\n",
        "divisores_favoritos.append(divisores_de_144[2:5])\n",
        "\n",
        "divisores_favoritos"
      ]
    },
    {
      "cell_type": "markdown",
      "metadata": {
        "id": "IIUlPFF3MGd6"
      },
      "source": [
        "5. Ordene a lista `divisores_de_144` em ordem decrescente"
      ]
    },
    {
      "cell_type": "code",
      "execution_count": null,
      "metadata": {
        "id": "oMh7mRXvMGd7",
        "colab": {
          "base_uri": "https://localhost:8080/"
        },
        "outputId": "7d9e0112-cb4a-4757-8134-41b6833b40fd"
      },
      "outputs": [
        {
          "output_type": "execute_result",
          "data": {
            "text/plain": [
              "[144, 72, 48, 36, 24, 18, 16, 12, 9, 8, 6, 4, 3, 2, 1]"
            ]
          },
          "metadata": {},
          "execution_count": 14
        }
      ],
      "source": [
        "#Resposta\n",
        "sorted(divisores_de_144, reverse = True)"
      ]
    },
    {
      "cell_type": "markdown",
      "metadata": {
        "id": "4H0TeI9hMGd7"
      },
      "source": [
        "6. Calcule a soma de todos os divisores de 144"
      ]
    },
    {
      "cell_type": "code",
      "execution_count": null,
      "metadata": {
        "id": "Msa6y-WGMGd8",
        "colab": {
          "base_uri": "https://localhost:8080/"
        },
        "outputId": "c738739a-412d-4e56-be9e-cd04854ff789"
      },
      "outputs": [
        {
          "output_type": "execute_result",
          "data": {
            "text/plain": [
              "403"
            ]
          },
          "metadata": {},
          "execution_count": 15
        }
      ],
      "source": [
        "#Resposta\n",
        "sum(divisores_de_144)"
      ]
    },
    {
      "cell_type": "markdown",
      "metadata": {
        "id": "a68A3ZtYMGd8"
      },
      "source": [
        "7. Calcule a média de todos os divisores de 144"
      ]
    },
    {
      "cell_type": "code",
      "execution_count": null,
      "metadata": {
        "id": "-X1xA5beMGd8",
        "colab": {
          "base_uri": "https://localhost:8080/"
        },
        "outputId": "bfcf1297-8483-4d0d-a9df-ac9e4d1e89f9"
      },
      "outputs": [
        {
          "output_type": "execute_result",
          "data": {
            "text/plain": [
              "26.866666666666667"
            ]
          },
          "metadata": {},
          "execution_count": 19
        }
      ],
      "source": [
        "#Resposta\n",
        "from numpy import mean\n",
        "\n",
        "mean(divisores_de_144)"
      ]
    },
    {
      "cell_type": "markdown",
      "metadata": {
        "id": "LgaYRUhTMGd8"
      },
      "source": [
        "8. Aplique a função $f(x) = 2x + 1$ a todos os divisores de 144"
      ]
    },
    {
      "cell_type": "code",
      "execution_count": null,
      "metadata": {
        "id": "5owEm8ugMGd9",
        "colab": {
          "base_uri": "https://localhost:8080/"
        },
        "outputId": "a02b47aa-3514-42c6-8d8c-d89d06ccc447"
      },
      "outputs": [
        {
          "output_type": "execute_result",
          "data": {
            "text/plain": [
              "[3, 5, 7, 9, 13, 17, 19, 25, 33, 37, 49, 73, 97, 145, 289]"
            ]
          },
          "metadata": {},
          "execution_count": 24
        }
      ],
      "source": [
        "#Resposta\n",
        "list(map(lambda x: 2*x+1, divisores_de_144))\n"
      ]
    },
    {
      "cell_type": "markdown",
      "metadata": {
        "id": "qa5uK4JqMGd9"
      },
      "source": [
        "### Fibonacci\n",
        "\n",
        "A função a seguir dá o n-ésimo termo da série de Fibonacci:"
      ]
    },
    {
      "cell_type": "code",
      "execution_count": null,
      "metadata": {
        "id": "m0RdrjDiMGd9"
      },
      "outputs": [],
      "source": [
        "def fib(n):\n",
        "    if (n == 0) | (n == 1):\n",
        "        return(1)\n",
        "    else:\n",
        "        return(fib(n-1) + fib(n-2))"
      ]
    },
    {
      "cell_type": "markdown",
      "metadata": {
        "id": "7HQjqyIbMGd9"
      },
      "source": [
        "Crie uma função, `seq_fib`, que receba um número $n$ e retorne uma lista com os $n$ primeiros termos da sequência de Fibonacci. Por exemplo, seq_fib(6) deveria retornar [1, 1, 2, 3, 5, 8]."
      ]
    },
    {
      "cell_type": "code",
      "execution_count": null,
      "metadata": {
        "id": "GoduKVVUMGd-"
      },
      "outputs": [],
      "source": [
        "#Resposta\n",
        "def seq_fib(n):\n",
        "    listfib = []\n",
        "    for i in range(n):\n",
        "        listfib.append(fib(i))\n",
        "    return listfib\n",
        "        "
      ]
    },
    {
      "cell_type": "code",
      "execution_count": null,
      "metadata": {
        "id": "r_Bz0-qZMGd-",
        "colab": {
          "base_uri": "https://localhost:8080/"
        },
        "outputId": "992ffe59-ea3e-46fe-cced-1dec4012d441"
      },
      "outputs": [
        {
          "output_type": "execute_result",
          "data": {
            "text/plain": [
              "[1, 1, 2, 3, 5, 8]"
            ]
          },
          "metadata": {},
          "execution_count": 5
        }
      ],
      "source": [
        "#seq_fib(6) #isso deve retornar [1,1,2,3,5,8]\n",
        "\n",
        "seq_fib(6)"
      ]
    },
    {
      "cell_type": "markdown",
      "metadata": {
        "id": "z3Wp7VIXMGd-"
      },
      "source": [
        "### Collatz\n",
        "\n",
        "A sequência de Collatz é muito bonitinha. Ela recebe um número $n$ inteiro e devolve outro, calculado da seguinte maneira:\n",
        "\n",
        "* se $n$ for par, ela devolve $\\frac{n}{2}$\n",
        "* se $n$ for impar, ela devolve $3n + 1$\n",
        "\n",
        "Aparentemente, se você ficar repetindo esses passos várias vezes, você sempre chega a 1, independente do número do qual você começou. Sim, isso é estranho. E ninguém sabe o porquê.\n",
        "\n",
        "A função `collatz` recebe um número `n` e devolve o próximo termo da sequência de Collatz."
      ]
    },
    {
      "cell_type": "code",
      "execution_count": null,
      "metadata": {
        "id": "HCzuxG_nMGd_"
      },
      "outputs": [],
      "source": [
        "def collatz(n):\n",
        "    if n%2 == 0:\n",
        "        return(n/2)\n",
        "    else:\n",
        "        return(3*n + 1)"
      ]
    },
    {
      "cell_type": "markdown",
      "metadata": {
        "id": "ci27ld_iMGd_"
      },
      "source": [
        "1. Faça uma função chamada `seq_collatz` que, a partir de um número $n$, devolva uma lista com todos os termos da sequência de Collatz até que o número 1 seja atingido. O número 1 deve ser incluído na lista."
      ]
    },
    {
      "cell_type": "code",
      "execution_count": null,
      "metadata": {
        "id": "q7R-NdCgMGd_",
        "colab": {
          "base_uri": "https://localhost:8080/"
        },
        "outputId": "58b189a1-2d8d-4e63-a034-a86cc45f9011"
      },
      "outputs": [
        {
          "output_type": "execute_result",
          "data": {
            "text/plain": [
              "[6, 3.0, 10.0, 5.0, 16.0, 8.0, 4.0, 2.0, 1.0]"
            ]
          },
          "metadata": {},
          "execution_count": 7
        }
      ],
      "source": [
        "#Resposta\n",
        "def seq_collatz(n):\n",
        "    collatzlist = []\n",
        "    numcollatz = n \n",
        "    while numcollatz >1:\n",
        "        collatzlist.append(numcollatz)\n",
        "        numcollatz = collatz(numcollatz)\n",
        "    collatzlist.append(numcollatz)\n",
        "    return collatzlist\n",
        "    \n",
        "seq_collatz(6)"
      ]
    },
    {
      "cell_type": "code",
      "execution_count": null,
      "metadata": {
        "id": "Cx9_0BaxMGd_",
        "colab": {
          "base_uri": "https://localhost:8080/"
        },
        "outputId": "82807b0c-3e21-4c85-e239-bf5790a98eae"
      },
      "outputs": [
        {
          "output_type": "execute_result",
          "data": {
            "text/plain": [
              "[12, 6.0, 3.0, 10.0, 5.0, 16.0, 8.0, 4.0, 2.0, 1.0]"
            ]
          },
          "metadata": {},
          "execution_count": 8
        }
      ],
      "source": [
        "seq_collatz(12) #isso deve retornar [12, 6, 3, 10, 5, 16, 8, 4, 2, 1]\n"
      ]
    },
    {
      "cell_type": "markdown",
      "metadata": {
        "id": "p7i8m8mpMGd_"
      },
      "source": [
        "2. Crie uma função chamada `comprimento_collatz` que retorne o número de termos em sua sequencia de collatz (isso é, quantos termos demora até que a sequencia chegue em 1)."
      ]
    },
    {
      "cell_type": "code",
      "execution_count": null,
      "metadata": {
        "id": "wnoXcW_KMGeA",
        "colab": {
          "base_uri": "https://localhost:8080/"
        },
        "outputId": "0b129c59-6460-474d-827d-935ea1d76f2c"
      },
      "outputs": [
        {
          "output_type": "execute_result",
          "data": {
            "text/plain": [
              "8"
            ]
          },
          "metadata": {},
          "execution_count": 9
        }
      ],
      "source": [
        "#Resposta\n",
        "def comprimento_collatz(n):\n",
        "    return len(seq_collatz(n))-1\n",
        "    \n",
        "comprimento_collatz(6)"
      ]
    },
    {
      "cell_type": "markdown",
      "metadata": {
        "id": "fHkf4pdqMGeA"
      },
      "source": [
        "3. Construa uma lista chamada `comprimentos` com os comprimentos das sequencias de Collatz iniciando em 1, 2, 3, 4, etc, até 1000. Qual é o maior comprimento dessa lista?"
      ]
    },
    {
      "cell_type": "code",
      "execution_count": null,
      "metadata": {
        "id": "4e7HrJLjMGeA",
        "colab": {
          "base_uri": "https://localhost:8080/"
        },
        "outputId": "69a91abe-7892-4744-f298-634ddb29c1c3"
      },
      "outputs": [
        {
          "output_type": "stream",
          "name": "stdout",
          "text": [
            "178\n"
          ]
        }
      ],
      "source": [
        "#Resposta\n",
        "comprimentos = [comprimento_collatz (n) for n in range(1,1000)]\n",
        "print(max(comprimentos))"
      ]
    }
  ],
  "metadata": {
    "kernelspec": {
      "display_name": "Python 3 (ipykernel)",
      "language": "python",
      "name": "python3"
    },
    "language_info": {
      "codemirror_mode": {
        "name": "ipython",
        "version": 3
      },
      "file_extension": ".py",
      "mimetype": "text/x-python",
      "name": "python",
      "nbconvert_exporter": "python",
      "pygments_lexer": "ipython3",
      "version": "3.8.5"
    },
    "colab": {
      "provenance": [],
      "include_colab_link": true
    }
  },
  "nbformat": 4,
  "nbformat_minor": 0
}