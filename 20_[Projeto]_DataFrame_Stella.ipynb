{
  "cells": [
    {
      "cell_type": "markdown",
      "metadata": {
        "id": "view-in-github",
        "colab_type": "text"
      },
      "source": [
        "<a href=\"https://colab.research.google.com/github/stmlufe/exercises/blob/master/20_%5BProjeto%5D_DataFrame_Stella.ipynb\" target=\"_parent\"><img src=\"https://colab.research.google.com/assets/colab-badge.svg\" alt=\"Open In Colab\"/></a>"
      ]
    },
    {
      "cell_type": "markdown",
      "metadata": {
        "id": "b5EGZ-sNJ4MY"
      },
      "source": [
        "# DataFrames\n",
        "\n",
        "Nesse projeto, vamos utilizar dados da [_American Communities Survey (ACS)](https://usa.ipums.org/usa/acs.shtml)_ para estudar a relação entre educação e salário. A ACS é uma pesquisa realizada pelo _Unites States Census Bureau_ (embora ele não seja \"O Censo\", que é uma contagem de cada pessoa nos EUA e ocorre a cada 10 anos) que mede várias características da população americana. Os dados com os quais vamos trabalhar inclui cerca de 100 variáveis referentes à pesquisa de 2017, e é uma amostra de 10% dos dados totais da ACS (que, por sua vez, é uma amostra de 1% da população americana. Então, nós estaremos trabalhando com um amostra de 0.1% da população dos EUA).\n",
        "\n",
        "Esses dados são disponibilizados pela [IPUMS](https://usa.ipums.org/usa/), que provê uma interface muito útil para conseguir acesso a amostras de importantes bases de dados, não apenas do governo americano, mas também de [governos mundo afora](https://international.ipums.org/international-action/sample_details).\n",
        "\n",
        "Esta é uma base de dados _real_, o que significa que você vai receber os dados exatamente como eles são providenciados pelo _IPUMS_. A documentação explicando o que é cada variável pode ser encontrada [aqui](https://usa.ipums.org/usa-action/variables/group) (você pode pesquisar pelo nome da variável, para descobrir o que ela significa, ou pesquisar por algo que você deseje encontrar, para ver qual o nome da variável que contém o que você procura).\n",
        "\n",
        "Nessa base de dados, você vai encontrar informações sobre o nível de escolaridade e os salários de uma porção representativa da população americana. Nós vamos usar esses dados para estimar o valor que o mercado de trabalho atribui a se formar no Ensino Médio (_high school_) ou na Faculdade (_college_), e para aprender um pouco mais sobre o significado de um diploma educacional.\n",
        "\n",
        "Os dados para esse projeto podem ser encontrados [aqui](https://github.com/nickeubank/MIDS_Data/tree/master/US_AmericanCommunitySurvey). Primeiro, importe a base `US_ACS_2017_10pct_sample.dta`. \n",
        "\n",
        "Note que o formato desse arquivo é `.dta`, e não `.csv`. Por isso, ao invés de usarmos a função `read_csv`, precisamos usar a função `read_stata`.\n",
        "\n",
        "Eu já escrevi o comando para você:"
      ]
    },
    {
      "cell_type": "code",
      "execution_count": null,
      "metadata": {
        "id": "gtX86hHzJ4Mb"
      },
      "outputs": [],
      "source": [
        "import pandas as pd"
      ]
    },
    {
      "cell_type": "code",
      "execution_count": null,
      "metadata": {
        "id": "okjEn3PtJ4Mc"
      },
      "outputs": [],
      "source": [
        "data = pd.read_stata('https://github.com/nickeubank/MIDS_Data/blob/master/US_AmericanCommunitySurvey/US_ACS_2017_10pct_sample.dta?raw=true')"
      ]
    },
    {
      "cell_type": "markdown",
      "metadata": {
        "id": "-BZjpj3bJ4Mc"
      },
      "source": [
        "#### Quantas linhas têm essa base de dados? Quantas colunas?"
      ]
    },
    {
      "cell_type": "code",
      "execution_count": null,
      "metadata": {
        "id": "-D3o-BC7J4Mc",
        "colab": {
          "base_uri": "https://localhost:8080/"
        },
        "outputId": "34fff7a3-835f-4afc-d0f0-e88ac2aa498c"
      },
      "outputs": [
        {
          "output_type": "execute_result",
          "data": {
            "text/plain": [
              "319004"
            ]
          },
          "metadata": {},
          "execution_count": 3
        }
      ],
      "source": [
        "len(data.index)"
      ]
    },
    {
      "cell_type": "code",
      "source": [
        "len(data.columns)"
      ],
      "metadata": {
        "colab": {
          "base_uri": "https://localhost:8080/"
        },
        "id": "HU3kLlInMXgc",
        "outputId": "c03c66f3-9451-4259-bafe-30fa24f2ec2a"
      },
      "execution_count": null,
      "outputs": [
        {
          "output_type": "execute_result",
          "data": {
            "text/plain": [
              "104"
            ]
          },
          "metadata": {},
          "execution_count": 4
        }
      ]
    },
    {
      "cell_type": "markdown",
      "metadata": {
        "id": "4d6pjzuGJ4Mc"
      },
      "source": [
        "Vamos ver que variáveis temos na base. \n",
        "\n",
        "#### Primeiro, tente ver as variáveis usando `.columns`.\n"
      ]
    },
    {
      "cell_type": "code",
      "execution_count": null,
      "metadata": {
        "id": "neE_rd94J4Mc",
        "colab": {
          "base_uri": "https://localhost:8080/"
        },
        "outputId": "a87c42a0-36d3-4289-a145-91b9ae3ca4b6"
      },
      "outputs": [
        {
          "output_type": "execute_result",
          "data": {
            "text/plain": [
              "Index(['year', 'datanum', 'serial', 'cbserial', 'numprec', 'subsamp', 'hhwt',\n",
              "       'hhtype', 'cluster', 'adjust',\n",
              "       ...\n",
              "       'migcounty1', 'migmet131', 'vetdisab', 'diffrem', 'diffphys', 'diffmob',\n",
              "       'diffcare', 'diffsens', 'diffeye', 'diffhear'],\n",
              "      dtype='object', length=104)"
            ]
          },
          "metadata": {},
          "execution_count": 3
        }
      ],
      "source": [
        "data.columns"
      ]
    },
    {
      "cell_type": "markdown",
      "metadata": {
        "id": "6EiB1ErlJ4Md"
      },
      "source": [
        "Repare as reticências! O Python não está te mostrando todas as variáveis da base. Vamos tentar algo diferente. \n",
        "\n",
        "#### Copie o código abaixo e substitua a lacuna por algo que imprimirá o nome de todas as colunas.\n",
        "\n",
        "```python\n",
        "for coluna in ___________:\n",
        "    print(coluna)\n",
        "```"
      ]
    },
    {
      "cell_type": "code",
      "execution_count": null,
      "metadata": {
        "id": "CunE8-DhJ4Md",
        "colab": {
          "base_uri": "https://localhost:8080/"
        },
        "outputId": "16e80fd2-b196-4b91-992c-c8f1847a5512"
      },
      "outputs": [
        {
          "output_type": "stream",
          "name": "stdout",
          "text": [
            "year\n",
            "datanum\n",
            "serial\n",
            "cbserial\n",
            "numprec\n",
            "subsamp\n",
            "hhwt\n",
            "hhtype\n",
            "cluster\n",
            "adjust\n",
            "cpi99\n",
            "region\n",
            "stateicp\n",
            "statefip\n",
            "countyicp\n",
            "countyfip\n",
            "metro\n",
            "city\n",
            "citypop\n",
            "strata\n",
            "gq\n",
            "farm\n",
            "ownershp\n",
            "ownershpd\n",
            "mortgage\n",
            "mortgag2\n",
            "mortamt1\n",
            "mortamt2\n",
            "respmode\n",
            "pernum\n",
            "cbpernum\n",
            "perwt\n",
            "slwt\n",
            "famunit\n",
            "sex\n",
            "age\n",
            "marst\n",
            "birthyr\n",
            "race\n",
            "raced\n",
            "hispan\n",
            "hispand\n",
            "bpl\n",
            "bpld\n",
            "citizen\n",
            "yrnatur\n",
            "yrimmig\n",
            "language\n",
            "languaged\n",
            "speakeng\n",
            "hcovany\n",
            "hcovpriv\n",
            "hinsemp\n",
            "hinspur\n",
            "hinstri\n",
            "hcovpub\n",
            "hinscaid\n",
            "hinscare\n",
            "hinsva\n",
            "hinsihs\n",
            "school\n",
            "educ\n",
            "educd\n",
            "gradeatt\n",
            "gradeattd\n",
            "schltype\n",
            "degfield\n",
            "degfieldd\n",
            "degfield2\n",
            "degfield2d\n",
            "empstat\n",
            "empstatd\n",
            "labforce\n",
            "occ\n",
            "ind\n",
            "classwkr\n",
            "classwkrd\n",
            "looking\n",
            "availble\n",
            "inctot\n",
            "ftotinc\n",
            "incwage\n",
            "incbus00\n",
            "incss\n",
            "incwelfr\n",
            "incinvst\n",
            "incretir\n",
            "incsupp\n",
            "incother\n",
            "incearn\n",
            "poverty\n",
            "migrate1\n",
            "migrate1d\n",
            "migplac1\n",
            "migcounty1\n",
            "migmet131\n",
            "vetdisab\n",
            "diffrem\n",
            "diffphys\n",
            "diffmob\n",
            "diffcare\n",
            "diffsens\n",
            "diffeye\n",
            "diffhear\n"
          ]
        }
      ],
      "source": [
        "for coluna in data:\n",
        "    print(coluna)"
      ]
    },
    {
      "cell_type": "markdown",
      "metadata": {
        "id": "L73r-yxLJ4Md"
      },
      "source": [
        "Quantas colunas! A maior parte dessas colunas não nos interessa. A vida é mais simples quando trabalhamos apenas com o essencial. Nesse projeto, a gente está interessado na relação entre educação e salários. Por isso, vamos selecionar apenas variáveis referentes a:\n",
        "\n",
        "* Idade (`age`)\n",
        "* Remuneração (`inctot`)\n",
        "* Edudação (`educ`)\n",
        "* Situação empregatícia i.e. se a pessoa está trabalhando no momento (`empstat`)\n",
        "\n",
        "As variáveis correspondentes a essas grandezas estão em parêntesis.\n",
        "\n",
        "#### Reduza o dataframe para conter apenas essas variáveis"
      ]
    },
    {
      "cell_type": "code",
      "execution_count": null,
      "metadata": {
        "id": "0w5LBfucJ4Md"
      },
      "outputs": [],
      "source": [
        "data = data[['age','inctot','educ','empstat']]"
      ]
    },
    {
      "cell_type": "markdown",
      "metadata": {
        "id": "nns7RT9ZJ4Md"
      },
      "source": [
        "Até agora, eu não te pedi para olhar a base. Isso é perigoso. Sempre é bom olhar a base. Para ver o porquê, considere a seguinte pergunta:\n",
        "\n",
        "#### Qual é a renda média (`inctot`) das pessoas na base?"
      ]
    },
    {
      "cell_type": "code",
      "execution_count": null,
      "metadata": {
        "id": "chfsI_I8J4Me",
        "colab": {
          "base_uri": "https://localhost:8080/"
        },
        "outputId": "a2137b6d-b6a7-497e-865a-8f9cc833fb06"
      },
      "outputs": [
        {
          "output_type": "execute_result",
          "data": {
            "text/plain": [
              "1723646.2703978634"
            ]
          },
          "metadata": {},
          "execution_count": 18
        }
      ],
      "source": [
        "data['inctot'].mean()"
      ]
    },
    {
      "cell_type": "markdown",
      "metadata": {
        "id": "Dryn_LiJJ4Me"
      },
      "source": [
        "Nem brincando! Nem brincando! A renda média dos americanos certamente não é 1.7 milhão de dólares por ano!\n",
        "\n",
        "Isso mostra o perigo de sairmos fazendo conta sem olharmos a base de dados.\n",
        "\n",
        "SEMPRE olhe a base de dados!\n",
        "SEMPRE.\n",
        "\n",
        "A forma mais fácil de fazer isso é usando o método `.head()`, que mostra as primeiras 5 linhas da base, ou o método `.tail()`, que mostra as últimas 5.\n",
        "\n",
        "Mas para ter uma boa idéia da base, costuma ser melhor escolher linhas aleatórias. Se a base estiver ordenada por algum critério, as linhas do início ou do final podem não representar bem a base como um todo. É por isso que é melhor selecionar linhas aleatórias. Isso pode ser feito usando o método `.sample()`. \n",
        "\n",
        "#### Observe uma amostra aleatória de 20 linhas da base de dados"
      ]
    },
    {
      "cell_type": "code",
      "execution_count": null,
      "metadata": {
        "id": "woz45kHiJ4Me",
        "colab": {
          "base_uri": "https://localhost:8080/",
          "height": 206
        },
        "outputId": "45d73f6d-555f-432e-e6ab-96a95dd70ee9"
      },
      "outputs": [
        {
          "output_type": "execute_result",
          "data": {
            "text/plain": [
              "  age   inctot                       educ             empstat\n",
              "0   4  9999999  nursery school to grade 4                 n/a\n",
              "1  17     6000                   grade 11            employed\n",
              "2  63     6150         4 years of college            employed\n",
              "3  66    14000                   grade 12  not in labor force\n",
              "4   1  9999999        n/a or no schooling                 n/a"
            ],
            "text/html": [
              "\n",
              "  <div id=\"df-74e9d68c-434d-4765-bbf0-1e61ce9b6235\">\n",
              "    <div class=\"colab-df-container\">\n",
              "      <div>\n",
              "<style scoped>\n",
              "    .dataframe tbody tr th:only-of-type {\n",
              "        vertical-align: middle;\n",
              "    }\n",
              "\n",
              "    .dataframe tbody tr th {\n",
              "        vertical-align: top;\n",
              "    }\n",
              "\n",
              "    .dataframe thead th {\n",
              "        text-align: right;\n",
              "    }\n",
              "</style>\n",
              "<table border=\"1\" class=\"dataframe\">\n",
              "  <thead>\n",
              "    <tr style=\"text-align: right;\">\n",
              "      <th></th>\n",
              "      <th>age</th>\n",
              "      <th>inctot</th>\n",
              "      <th>educ</th>\n",
              "      <th>empstat</th>\n",
              "    </tr>\n",
              "  </thead>\n",
              "  <tbody>\n",
              "    <tr>\n",
              "      <th>0</th>\n",
              "      <td>4</td>\n",
              "      <td>9999999</td>\n",
              "      <td>nursery school to grade 4</td>\n",
              "      <td>n/a</td>\n",
              "    </tr>\n",
              "    <tr>\n",
              "      <th>1</th>\n",
              "      <td>17</td>\n",
              "      <td>6000</td>\n",
              "      <td>grade 11</td>\n",
              "      <td>employed</td>\n",
              "    </tr>\n",
              "    <tr>\n",
              "      <th>2</th>\n",
              "      <td>63</td>\n",
              "      <td>6150</td>\n",
              "      <td>4 years of college</td>\n",
              "      <td>employed</td>\n",
              "    </tr>\n",
              "    <tr>\n",
              "      <th>3</th>\n",
              "      <td>66</td>\n",
              "      <td>14000</td>\n",
              "      <td>grade 12</td>\n",
              "      <td>not in labor force</td>\n",
              "    </tr>\n",
              "    <tr>\n",
              "      <th>4</th>\n",
              "      <td>1</td>\n",
              "      <td>9999999</td>\n",
              "      <td>n/a or no schooling</td>\n",
              "      <td>n/a</td>\n",
              "    </tr>\n",
              "  </tbody>\n",
              "</table>\n",
              "</div>\n",
              "      <button class=\"colab-df-convert\" onclick=\"convertToInteractive('df-74e9d68c-434d-4765-bbf0-1e61ce9b6235')\"\n",
              "              title=\"Convert this dataframe to an interactive table.\"\n",
              "              style=\"display:none;\">\n",
              "        \n",
              "  <svg xmlns=\"http://www.w3.org/2000/svg\" height=\"24px\"viewBox=\"0 0 24 24\"\n",
              "       width=\"24px\">\n",
              "    <path d=\"M0 0h24v24H0V0z\" fill=\"none\"/>\n",
              "    <path d=\"M18.56 5.44l.94 2.06.94-2.06 2.06-.94-2.06-.94-.94-2.06-.94 2.06-2.06.94zm-11 1L8.5 8.5l.94-2.06 2.06-.94-2.06-.94L8.5 2.5l-.94 2.06-2.06.94zm10 10l.94 2.06.94-2.06 2.06-.94-2.06-.94-.94-2.06-.94 2.06-2.06.94z\"/><path d=\"M17.41 7.96l-1.37-1.37c-.4-.4-.92-.59-1.43-.59-.52 0-1.04.2-1.43.59L10.3 9.45l-7.72 7.72c-.78.78-.78 2.05 0 2.83L4 21.41c.39.39.9.59 1.41.59.51 0 1.02-.2 1.41-.59l7.78-7.78 2.81-2.81c.8-.78.8-2.07 0-2.86zM5.41 20L4 18.59l7.72-7.72 1.47 1.35L5.41 20z\"/>\n",
              "  </svg>\n",
              "      </button>\n",
              "      \n",
              "  <style>\n",
              "    .colab-df-container {\n",
              "      display:flex;\n",
              "      flex-wrap:wrap;\n",
              "      gap: 12px;\n",
              "    }\n",
              "\n",
              "    .colab-df-convert {\n",
              "      background-color: #E8F0FE;\n",
              "      border: none;\n",
              "      border-radius: 50%;\n",
              "      cursor: pointer;\n",
              "      display: none;\n",
              "      fill: #1967D2;\n",
              "      height: 32px;\n",
              "      padding: 0 0 0 0;\n",
              "      width: 32px;\n",
              "    }\n",
              "\n",
              "    .colab-df-convert:hover {\n",
              "      background-color: #E2EBFA;\n",
              "      box-shadow: 0px 1px 2px rgba(60, 64, 67, 0.3), 0px 1px 3px 1px rgba(60, 64, 67, 0.15);\n",
              "      fill: #174EA6;\n",
              "    }\n",
              "\n",
              "    [theme=dark] .colab-df-convert {\n",
              "      background-color: #3B4455;\n",
              "      fill: #D2E3FC;\n",
              "    }\n",
              "\n",
              "    [theme=dark] .colab-df-convert:hover {\n",
              "      background-color: #434B5C;\n",
              "      box-shadow: 0px 1px 3px 1px rgba(0, 0, 0, 0.15);\n",
              "      filter: drop-shadow(0px 1px 2px rgba(0, 0, 0, 0.3));\n",
              "      fill: #FFFFFF;\n",
              "    }\n",
              "  </style>\n",
              "\n",
              "      <script>\n",
              "        const buttonEl =\n",
              "          document.querySelector('#df-74e9d68c-434d-4765-bbf0-1e61ce9b6235 button.colab-df-convert');\n",
              "        buttonEl.style.display =\n",
              "          google.colab.kernel.accessAllowed ? 'block' : 'none';\n",
              "\n",
              "        async function convertToInteractive(key) {\n",
              "          const element = document.querySelector('#df-74e9d68c-434d-4765-bbf0-1e61ce9b6235');\n",
              "          const dataTable =\n",
              "            await google.colab.kernel.invokeFunction('convertToInteractive',\n",
              "                                                     [key], {});\n",
              "          if (!dataTable) return;\n",
              "\n",
              "          const docLinkHtml = 'Like what you see? Visit the ' +\n",
              "            '<a target=\"_blank\" href=https://colab.research.google.com/notebooks/data_table.ipynb>data table notebook</a>'\n",
              "            + ' to learn more about interactive tables.';\n",
              "          element.innerHTML = '';\n",
              "          dataTable['output_type'] = 'display_data';\n",
              "          await google.colab.output.renderOutput(dataTable, element);\n",
              "          const docLink = document.createElement('div');\n",
              "          docLink.innerHTML = docLinkHtml;\n",
              "          element.appendChild(docLink);\n",
              "        }\n",
              "      </script>\n",
              "    </div>\n",
              "  </div>\n",
              "  "
            ]
          },
          "metadata": {},
          "execution_count": 9
        }
      ],
      "source": [
        "data.head(5)"
      ]
    },
    {
      "cell_type": "code",
      "source": [
        "data.tail(5)"
      ],
      "metadata": {
        "colab": {
          "base_uri": "https://localhost:8080/",
          "height": 206
        },
        "id": "yC_px_krOMb6",
        "outputId": "59dbdd27-a731-48a8-d8b5-2d7ebf570051"
      },
      "execution_count": null,
      "outputs": [
        {
          "output_type": "execute_result",
          "data": {
            "text/plain": [
              "       age   inctot                       educ   empstat\n",
              "318999  33    22130         4 years of college  employed\n",
              "319000   4  9999999  nursery school to grade 4       n/a\n",
              "319001  20     5000                   grade 12  employed\n",
              "319002  47   240000        5+ years of college  employed\n",
              "319003  33    48000        5+ years of college  employed"
            ],
            "text/html": [
              "\n",
              "  <div id=\"df-c37d565e-ae4a-4956-86a7-863fb5104ceb\">\n",
              "    <div class=\"colab-df-container\">\n",
              "      <div>\n",
              "<style scoped>\n",
              "    .dataframe tbody tr th:only-of-type {\n",
              "        vertical-align: middle;\n",
              "    }\n",
              "\n",
              "    .dataframe tbody tr th {\n",
              "        vertical-align: top;\n",
              "    }\n",
              "\n",
              "    .dataframe thead th {\n",
              "        text-align: right;\n",
              "    }\n",
              "</style>\n",
              "<table border=\"1\" class=\"dataframe\">\n",
              "  <thead>\n",
              "    <tr style=\"text-align: right;\">\n",
              "      <th></th>\n",
              "      <th>age</th>\n",
              "      <th>inctot</th>\n",
              "      <th>educ</th>\n",
              "      <th>empstat</th>\n",
              "    </tr>\n",
              "  </thead>\n",
              "  <tbody>\n",
              "    <tr>\n",
              "      <th>318999</th>\n",
              "      <td>33</td>\n",
              "      <td>22130</td>\n",
              "      <td>4 years of college</td>\n",
              "      <td>employed</td>\n",
              "    </tr>\n",
              "    <tr>\n",
              "      <th>319000</th>\n",
              "      <td>4</td>\n",
              "      <td>9999999</td>\n",
              "      <td>nursery school to grade 4</td>\n",
              "      <td>n/a</td>\n",
              "    </tr>\n",
              "    <tr>\n",
              "      <th>319001</th>\n",
              "      <td>20</td>\n",
              "      <td>5000</td>\n",
              "      <td>grade 12</td>\n",
              "      <td>employed</td>\n",
              "    </tr>\n",
              "    <tr>\n",
              "      <th>319002</th>\n",
              "      <td>47</td>\n",
              "      <td>240000</td>\n",
              "      <td>5+ years of college</td>\n",
              "      <td>employed</td>\n",
              "    </tr>\n",
              "    <tr>\n",
              "      <th>319003</th>\n",
              "      <td>33</td>\n",
              "      <td>48000</td>\n",
              "      <td>5+ years of college</td>\n",
              "      <td>employed</td>\n",
              "    </tr>\n",
              "  </tbody>\n",
              "</table>\n",
              "</div>\n",
              "      <button class=\"colab-df-convert\" onclick=\"convertToInteractive('df-c37d565e-ae4a-4956-86a7-863fb5104ceb')\"\n",
              "              title=\"Convert this dataframe to an interactive table.\"\n",
              "              style=\"display:none;\">\n",
              "        \n",
              "  <svg xmlns=\"http://www.w3.org/2000/svg\" height=\"24px\"viewBox=\"0 0 24 24\"\n",
              "       width=\"24px\">\n",
              "    <path d=\"M0 0h24v24H0V0z\" fill=\"none\"/>\n",
              "    <path d=\"M18.56 5.44l.94 2.06.94-2.06 2.06-.94-2.06-.94-.94-2.06-.94 2.06-2.06.94zm-11 1L8.5 8.5l.94-2.06 2.06-.94-2.06-.94L8.5 2.5l-.94 2.06-2.06.94zm10 10l.94 2.06.94-2.06 2.06-.94-2.06-.94-.94-2.06-.94 2.06-2.06.94z\"/><path d=\"M17.41 7.96l-1.37-1.37c-.4-.4-.92-.59-1.43-.59-.52 0-1.04.2-1.43.59L10.3 9.45l-7.72 7.72c-.78.78-.78 2.05 0 2.83L4 21.41c.39.39.9.59 1.41.59.51 0 1.02-.2 1.41-.59l7.78-7.78 2.81-2.81c.8-.78.8-2.07 0-2.86zM5.41 20L4 18.59l7.72-7.72 1.47 1.35L5.41 20z\"/>\n",
              "  </svg>\n",
              "      </button>\n",
              "      \n",
              "  <style>\n",
              "    .colab-df-container {\n",
              "      display:flex;\n",
              "      flex-wrap:wrap;\n",
              "      gap: 12px;\n",
              "    }\n",
              "\n",
              "    .colab-df-convert {\n",
              "      background-color: #E8F0FE;\n",
              "      border: none;\n",
              "      border-radius: 50%;\n",
              "      cursor: pointer;\n",
              "      display: none;\n",
              "      fill: #1967D2;\n",
              "      height: 32px;\n",
              "      padding: 0 0 0 0;\n",
              "      width: 32px;\n",
              "    }\n",
              "\n",
              "    .colab-df-convert:hover {\n",
              "      background-color: #E2EBFA;\n",
              "      box-shadow: 0px 1px 2px rgba(60, 64, 67, 0.3), 0px 1px 3px 1px rgba(60, 64, 67, 0.15);\n",
              "      fill: #174EA6;\n",
              "    }\n",
              "\n",
              "    [theme=dark] .colab-df-convert {\n",
              "      background-color: #3B4455;\n",
              "      fill: #D2E3FC;\n",
              "    }\n",
              "\n",
              "    [theme=dark] .colab-df-convert:hover {\n",
              "      background-color: #434B5C;\n",
              "      box-shadow: 0px 1px 3px 1px rgba(0, 0, 0, 0.15);\n",
              "      filter: drop-shadow(0px 1px 2px rgba(0, 0, 0, 0.3));\n",
              "      fill: #FFFFFF;\n",
              "    }\n",
              "  </style>\n",
              "\n",
              "      <script>\n",
              "        const buttonEl =\n",
              "          document.querySelector('#df-c37d565e-ae4a-4956-86a7-863fb5104ceb button.colab-df-convert');\n",
              "        buttonEl.style.display =\n",
              "          google.colab.kernel.accessAllowed ? 'block' : 'none';\n",
              "\n",
              "        async function convertToInteractive(key) {\n",
              "          const element = document.querySelector('#df-c37d565e-ae4a-4956-86a7-863fb5104ceb');\n",
              "          const dataTable =\n",
              "            await google.colab.kernel.invokeFunction('convertToInteractive',\n",
              "                                                     [key], {});\n",
              "          if (!dataTable) return;\n",
              "\n",
              "          const docLinkHtml = 'Like what you see? Visit the ' +\n",
              "            '<a target=\"_blank\" href=https://colab.research.google.com/notebooks/data_table.ipynb>data table notebook</a>'\n",
              "            + ' to learn more about interactive tables.';\n",
              "          element.innerHTML = '';\n",
              "          dataTable['output_type'] = 'display_data';\n",
              "          await google.colab.output.renderOutput(dataTable, element);\n",
              "          const docLink = document.createElement('div');\n",
              "          docLink.innerHTML = docLinkHtml;\n",
              "          element.appendChild(docLink);\n",
              "        }\n",
              "      </script>\n",
              "    </div>\n",
              "  </div>\n",
              "  "
            ]
          },
          "metadata": {},
          "execution_count": 15
        }
      ]
    },
    {
      "cell_type": "code",
      "source": [
        "data.sample(5)"
      ],
      "metadata": {
        "colab": {
          "base_uri": "https://localhost:8080/",
          "height": 206
        },
        "id": "2JkJYVoIOQBu",
        "outputId": "981cf498-1761-4f63-9188-76355a019ea4"
      },
      "execution_count": null,
      "outputs": [
        {
          "output_type": "execute_result",
          "data": {
            "text/plain": [
              "       age  inctot                educ             empstat\n",
              "171709  15       0             grade 9                 n/a\n",
              "89487   24   23000            grade 12            employed\n",
              "171395  31    7600  4 years of college  not in labor force\n",
              "304395  29       0            grade 12  not in labor force\n",
              "249436  16       0            grade 10  not in labor force"
            ],
            "text/html": [
              "\n",
              "  <div id=\"df-abbcc09d-f208-42f3-a51c-adc5c22c4eb1\">\n",
              "    <div class=\"colab-df-container\">\n",
              "      <div>\n",
              "<style scoped>\n",
              "    .dataframe tbody tr th:only-of-type {\n",
              "        vertical-align: middle;\n",
              "    }\n",
              "\n",
              "    .dataframe tbody tr th {\n",
              "        vertical-align: top;\n",
              "    }\n",
              "\n",
              "    .dataframe thead th {\n",
              "        text-align: right;\n",
              "    }\n",
              "</style>\n",
              "<table border=\"1\" class=\"dataframe\">\n",
              "  <thead>\n",
              "    <tr style=\"text-align: right;\">\n",
              "      <th></th>\n",
              "      <th>age</th>\n",
              "      <th>inctot</th>\n",
              "      <th>educ</th>\n",
              "      <th>empstat</th>\n",
              "    </tr>\n",
              "  </thead>\n",
              "  <tbody>\n",
              "    <tr>\n",
              "      <th>171709</th>\n",
              "      <td>15</td>\n",
              "      <td>0</td>\n",
              "      <td>grade 9</td>\n",
              "      <td>n/a</td>\n",
              "    </tr>\n",
              "    <tr>\n",
              "      <th>89487</th>\n",
              "      <td>24</td>\n",
              "      <td>23000</td>\n",
              "      <td>grade 12</td>\n",
              "      <td>employed</td>\n",
              "    </tr>\n",
              "    <tr>\n",
              "      <th>171395</th>\n",
              "      <td>31</td>\n",
              "      <td>7600</td>\n",
              "      <td>4 years of college</td>\n",
              "      <td>not in labor force</td>\n",
              "    </tr>\n",
              "    <tr>\n",
              "      <th>304395</th>\n",
              "      <td>29</td>\n",
              "      <td>0</td>\n",
              "      <td>grade 12</td>\n",
              "      <td>not in labor force</td>\n",
              "    </tr>\n",
              "    <tr>\n",
              "      <th>249436</th>\n",
              "      <td>16</td>\n",
              "      <td>0</td>\n",
              "      <td>grade 10</td>\n",
              "      <td>not in labor force</td>\n",
              "    </tr>\n",
              "  </tbody>\n",
              "</table>\n",
              "</div>\n",
              "      <button class=\"colab-df-convert\" onclick=\"convertToInteractive('df-abbcc09d-f208-42f3-a51c-adc5c22c4eb1')\"\n",
              "              title=\"Convert this dataframe to an interactive table.\"\n",
              "              style=\"display:none;\">\n",
              "        \n",
              "  <svg xmlns=\"http://www.w3.org/2000/svg\" height=\"24px\"viewBox=\"0 0 24 24\"\n",
              "       width=\"24px\">\n",
              "    <path d=\"M0 0h24v24H0V0z\" fill=\"none\"/>\n",
              "    <path d=\"M18.56 5.44l.94 2.06.94-2.06 2.06-.94-2.06-.94-.94-2.06-.94 2.06-2.06.94zm-11 1L8.5 8.5l.94-2.06 2.06-.94-2.06-.94L8.5 2.5l-.94 2.06-2.06.94zm10 10l.94 2.06.94-2.06 2.06-.94-2.06-.94-.94-2.06-.94 2.06-2.06.94z\"/><path d=\"M17.41 7.96l-1.37-1.37c-.4-.4-.92-.59-1.43-.59-.52 0-1.04.2-1.43.59L10.3 9.45l-7.72 7.72c-.78.78-.78 2.05 0 2.83L4 21.41c.39.39.9.59 1.41.59.51 0 1.02-.2 1.41-.59l7.78-7.78 2.81-2.81c.8-.78.8-2.07 0-2.86zM5.41 20L4 18.59l7.72-7.72 1.47 1.35L5.41 20z\"/>\n",
              "  </svg>\n",
              "      </button>\n",
              "      \n",
              "  <style>\n",
              "    .colab-df-container {\n",
              "      display:flex;\n",
              "      flex-wrap:wrap;\n",
              "      gap: 12px;\n",
              "    }\n",
              "\n",
              "    .colab-df-convert {\n",
              "      background-color: #E8F0FE;\n",
              "      border: none;\n",
              "      border-radius: 50%;\n",
              "      cursor: pointer;\n",
              "      display: none;\n",
              "      fill: #1967D2;\n",
              "      height: 32px;\n",
              "      padding: 0 0 0 0;\n",
              "      width: 32px;\n",
              "    }\n",
              "\n",
              "    .colab-df-convert:hover {\n",
              "      background-color: #E2EBFA;\n",
              "      box-shadow: 0px 1px 2px rgba(60, 64, 67, 0.3), 0px 1px 3px 1px rgba(60, 64, 67, 0.15);\n",
              "      fill: #174EA6;\n",
              "    }\n",
              "\n",
              "    [theme=dark] .colab-df-convert {\n",
              "      background-color: #3B4455;\n",
              "      fill: #D2E3FC;\n",
              "    }\n",
              "\n",
              "    [theme=dark] .colab-df-convert:hover {\n",
              "      background-color: #434B5C;\n",
              "      box-shadow: 0px 1px 3px 1px rgba(0, 0, 0, 0.15);\n",
              "      filter: drop-shadow(0px 1px 2px rgba(0, 0, 0, 0.3));\n",
              "      fill: #FFFFFF;\n",
              "    }\n",
              "  </style>\n",
              "\n",
              "      <script>\n",
              "        const buttonEl =\n",
              "          document.querySelector('#df-abbcc09d-f208-42f3-a51c-adc5c22c4eb1 button.colab-df-convert');\n",
              "        buttonEl.style.display =\n",
              "          google.colab.kernel.accessAllowed ? 'block' : 'none';\n",
              "\n",
              "        async function convertToInteractive(key) {\n",
              "          const element = document.querySelector('#df-abbcc09d-f208-42f3-a51c-adc5c22c4eb1');\n",
              "          const dataTable =\n",
              "            await google.colab.kernel.invokeFunction('convertToInteractive',\n",
              "                                                     [key], {});\n",
              "          if (!dataTable) return;\n",
              "\n",
              "          const docLinkHtml = 'Like what you see? Visit the ' +\n",
              "            '<a target=\"_blank\" href=https://colab.research.google.com/notebooks/data_table.ipynb>data table notebook</a>'\n",
              "            + ' to learn more about interactive tables.';\n",
              "          element.innerHTML = '';\n",
              "          dataTable['output_type'] = 'display_data';\n",
              "          await google.colab.output.renderOutput(dataTable, element);\n",
              "          const docLink = document.createElement('div');\n",
              "          docLink.innerHTML = docLinkHtml;\n",
              "          element.appendChild(docLink);\n",
              "        }\n",
              "      </script>\n",
              "    </div>\n",
              "  </div>\n",
              "  "
            ]
          },
          "metadata": {},
          "execution_count": 16
        }
      ]
    },
    {
      "cell_type": "markdown",
      "metadata": {
        "id": "LuiteucEJ4Me"
      },
      "source": [
        "Você vê algum problema com a base? \n",
        "\n",
        "#### Escreva abaixo alguns problemas que você percebe nesta base\n"
      ]
    },
    {
      "cell_type": "markdown",
      "metadata": {
        "id": "Cg8x-sSgJ4Me"
      },
      "source": [
        "Resposta\n",
        "* A - em 'Remuneração' existem dados muito grandes\n",
        "* B - em 'Situação empregatícia' existem dados n/a, ou seja, em branco\n",
        "* C - há pessoas com pouca idade e alta remuneração\n",
        "* D - há criança na base de dados. não faz sentido, dado que não há remuneração nessa faixa etária"
      ]
    },
    {
      "cell_type": "markdown",
      "metadata": {
        "id": "RJpCXzNgJ4Me"
      },
      "source": [
        "Um problema é que muita gente parece ter uma remuneração de $9,999,999. Além disso, pessoas com essa remuneração parecem ser crianças.\n",
        "\n",
        "O que você está observando é um método (antiquado) de representar dados faltando. Neste caso, o valor 9999999 é usado para representar observações para as quais não se tem a informação (por exemplo, casos em que a pessoa é jovem demais para trabalhar e, portanto, não tem renda).\n",
        "\n",
        "Vamos começar retirando da base todas as pessoas cuja renda é igual a 9999999. "
      ]
    },
    {
      "cell_type": "markdown",
      "metadata": {
        "id": "20S1r6j_J4Me"
      },
      "source": [
        "#### Retire da base as pessoas cuja renda é igual a 9999999\n",
        "\n",
        "Depois, calcule a renda média das pessoas novamente. Você verá que esse valor é bem mais razoável (cerca de 40 mil dólares por ano).\n",
        "\n",
        "Finalmente, mostre novamente uma amostra de 20 linhas, para continuarmos explorando a base."
      ]
    },
    {
      "cell_type": "code",
      "execution_count": null,
      "metadata": {
        "id": "ZRgYey2IJ4Mf",
        "colab": {
          "base_uri": "https://localhost:8080/",
          "height": 424
        },
        "outputId": "39ba454a-5b19-4381-d71e-41b904a20d45"
      },
      "outputs": [
        {
          "output_type": "execute_result",
          "data": {
            "text/plain": [
              "       age  inctot                 educ             empstat\n",
              "1       17    6000             grade 11            employed\n",
              "2       63    6150   4 years of college            employed\n",
              "3       66   14000             grade 12  not in labor force\n",
              "5       50   50000             grade 12            employed\n",
              "6       82   27100    1 year of college  not in labor force\n",
              "...     ..     ...                  ...                 ...\n",
              "318998  31       0  5+ years of college  not in labor force\n",
              "318999  33   22130   4 years of college            employed\n",
              "319001  20    5000             grade 12            employed\n",
              "319002  47  240000  5+ years of college            employed\n",
              "319003  33   48000  5+ years of college            employed\n",
              "\n",
              "[265103 rows x 4 columns]"
            ],
            "text/html": [
              "\n",
              "  <div id=\"df-3d4771ef-993c-4a72-9487-8a6256d5ae6c\">\n",
              "    <div class=\"colab-df-container\">\n",
              "      <div>\n",
              "<style scoped>\n",
              "    .dataframe tbody tr th:only-of-type {\n",
              "        vertical-align: middle;\n",
              "    }\n",
              "\n",
              "    .dataframe tbody tr th {\n",
              "        vertical-align: top;\n",
              "    }\n",
              "\n",
              "    .dataframe thead th {\n",
              "        text-align: right;\n",
              "    }\n",
              "</style>\n",
              "<table border=\"1\" class=\"dataframe\">\n",
              "  <thead>\n",
              "    <tr style=\"text-align: right;\">\n",
              "      <th></th>\n",
              "      <th>age</th>\n",
              "      <th>inctot</th>\n",
              "      <th>educ</th>\n",
              "      <th>empstat</th>\n",
              "    </tr>\n",
              "  </thead>\n",
              "  <tbody>\n",
              "    <tr>\n",
              "      <th>1</th>\n",
              "      <td>17</td>\n",
              "      <td>6000</td>\n",
              "      <td>grade 11</td>\n",
              "      <td>employed</td>\n",
              "    </tr>\n",
              "    <tr>\n",
              "      <th>2</th>\n",
              "      <td>63</td>\n",
              "      <td>6150</td>\n",
              "      <td>4 years of college</td>\n",
              "      <td>employed</td>\n",
              "    </tr>\n",
              "    <tr>\n",
              "      <th>3</th>\n",
              "      <td>66</td>\n",
              "      <td>14000</td>\n",
              "      <td>grade 12</td>\n",
              "      <td>not in labor force</td>\n",
              "    </tr>\n",
              "    <tr>\n",
              "      <th>5</th>\n",
              "      <td>50</td>\n",
              "      <td>50000</td>\n",
              "      <td>grade 12</td>\n",
              "      <td>employed</td>\n",
              "    </tr>\n",
              "    <tr>\n",
              "      <th>6</th>\n",
              "      <td>82</td>\n",
              "      <td>27100</td>\n",
              "      <td>1 year of college</td>\n",
              "      <td>not in labor force</td>\n",
              "    </tr>\n",
              "    <tr>\n",
              "      <th>...</th>\n",
              "      <td>...</td>\n",
              "      <td>...</td>\n",
              "      <td>...</td>\n",
              "      <td>...</td>\n",
              "    </tr>\n",
              "    <tr>\n",
              "      <th>318998</th>\n",
              "      <td>31</td>\n",
              "      <td>0</td>\n",
              "      <td>5+ years of college</td>\n",
              "      <td>not in labor force</td>\n",
              "    </tr>\n",
              "    <tr>\n",
              "      <th>318999</th>\n",
              "      <td>33</td>\n",
              "      <td>22130</td>\n",
              "      <td>4 years of college</td>\n",
              "      <td>employed</td>\n",
              "    </tr>\n",
              "    <tr>\n",
              "      <th>319001</th>\n",
              "      <td>20</td>\n",
              "      <td>5000</td>\n",
              "      <td>grade 12</td>\n",
              "      <td>employed</td>\n",
              "    </tr>\n",
              "    <tr>\n",
              "      <th>319002</th>\n",
              "      <td>47</td>\n",
              "      <td>240000</td>\n",
              "      <td>5+ years of college</td>\n",
              "      <td>employed</td>\n",
              "    </tr>\n",
              "    <tr>\n",
              "      <th>319003</th>\n",
              "      <td>33</td>\n",
              "      <td>48000</td>\n",
              "      <td>5+ years of college</td>\n",
              "      <td>employed</td>\n",
              "    </tr>\n",
              "  </tbody>\n",
              "</table>\n",
              "<p>265103 rows × 4 columns</p>\n",
              "</div>\n",
              "      <button class=\"colab-df-convert\" onclick=\"convertToInteractive('df-3d4771ef-993c-4a72-9487-8a6256d5ae6c')\"\n",
              "              title=\"Convert this dataframe to an interactive table.\"\n",
              "              style=\"display:none;\">\n",
              "        \n",
              "  <svg xmlns=\"http://www.w3.org/2000/svg\" height=\"24px\"viewBox=\"0 0 24 24\"\n",
              "       width=\"24px\">\n",
              "    <path d=\"M0 0h24v24H0V0z\" fill=\"none\"/>\n",
              "    <path d=\"M18.56 5.44l.94 2.06.94-2.06 2.06-.94-2.06-.94-.94-2.06-.94 2.06-2.06.94zm-11 1L8.5 8.5l.94-2.06 2.06-.94-2.06-.94L8.5 2.5l-.94 2.06-2.06.94zm10 10l.94 2.06.94-2.06 2.06-.94-2.06-.94-.94-2.06-.94 2.06-2.06.94z\"/><path d=\"M17.41 7.96l-1.37-1.37c-.4-.4-.92-.59-1.43-.59-.52 0-1.04.2-1.43.59L10.3 9.45l-7.72 7.72c-.78.78-.78 2.05 0 2.83L4 21.41c.39.39.9.59 1.41.59.51 0 1.02-.2 1.41-.59l7.78-7.78 2.81-2.81c.8-.78.8-2.07 0-2.86zM5.41 20L4 18.59l7.72-7.72 1.47 1.35L5.41 20z\"/>\n",
              "  </svg>\n",
              "      </button>\n",
              "      \n",
              "  <style>\n",
              "    .colab-df-container {\n",
              "      display:flex;\n",
              "      flex-wrap:wrap;\n",
              "      gap: 12px;\n",
              "    }\n",
              "\n",
              "    .colab-df-convert {\n",
              "      background-color: #E8F0FE;\n",
              "      border: none;\n",
              "      border-radius: 50%;\n",
              "      cursor: pointer;\n",
              "      display: none;\n",
              "      fill: #1967D2;\n",
              "      height: 32px;\n",
              "      padding: 0 0 0 0;\n",
              "      width: 32px;\n",
              "    }\n",
              "\n",
              "    .colab-df-convert:hover {\n",
              "      background-color: #E2EBFA;\n",
              "      box-shadow: 0px 1px 2px rgba(60, 64, 67, 0.3), 0px 1px 3px 1px rgba(60, 64, 67, 0.15);\n",
              "      fill: #174EA6;\n",
              "    }\n",
              "\n",
              "    [theme=dark] .colab-df-convert {\n",
              "      background-color: #3B4455;\n",
              "      fill: #D2E3FC;\n",
              "    }\n",
              "\n",
              "    [theme=dark] .colab-df-convert:hover {\n",
              "      background-color: #434B5C;\n",
              "      box-shadow: 0px 1px 3px 1px rgba(0, 0, 0, 0.15);\n",
              "      filter: drop-shadow(0px 1px 2px rgba(0, 0, 0, 0.3));\n",
              "      fill: #FFFFFF;\n",
              "    }\n",
              "  </style>\n",
              "\n",
              "      <script>\n",
              "        const buttonEl =\n",
              "          document.querySelector('#df-3d4771ef-993c-4a72-9487-8a6256d5ae6c button.colab-df-convert');\n",
              "        buttonEl.style.display =\n",
              "          google.colab.kernel.accessAllowed ? 'block' : 'none';\n",
              "\n",
              "        async function convertToInteractive(key) {\n",
              "          const element = document.querySelector('#df-3d4771ef-993c-4a72-9487-8a6256d5ae6c');\n",
              "          const dataTable =\n",
              "            await google.colab.kernel.invokeFunction('convertToInteractive',\n",
              "                                                     [key], {});\n",
              "          if (!dataTable) return;\n",
              "\n",
              "          const docLinkHtml = 'Like what you see? Visit the ' +\n",
              "            '<a target=\"_blank\" href=https://colab.research.google.com/notebooks/data_table.ipynb>data table notebook</a>'\n",
              "            + ' to learn more about interactive tables.';\n",
              "          element.innerHTML = '';\n",
              "          dataTable['output_type'] = 'display_data';\n",
              "          await google.colab.output.renderOutput(dataTable, element);\n",
              "          const docLink = document.createElement('div');\n",
              "          docLink.innerHTML = docLinkHtml;\n",
              "          element.appendChild(docLink);\n",
              "        }\n",
              "      </script>\n",
              "    </div>\n",
              "  </div>\n",
              "  "
            ]
          },
          "metadata": {},
          "execution_count": 19
        }
      ],
      "source": [
        "data = data.loc[data['inctot']!= 9999999]\n",
        "data"
      ]
    },
    {
      "cell_type": "code",
      "execution_count": null,
      "metadata": {
        "id": "t2PJaTDQJ4Mf",
        "colab": {
          "base_uri": "https://localhost:8080/",
          "height": 677
        },
        "outputId": "8383c885-db2c-478e-f694-76aa7916dcc8"
      },
      "outputs": [
        {
          "output_type": "execute_result",
          "data": {
            "text/plain": [
              "   age  inctot                 educ             empstat\n",
              "1   17    6000             grade 11            employed\n",
              "2   63    6150   4 years of college            employed\n",
              "3   66   14000             grade 12  not in labor force\n",
              "5   50   50000             grade 12            employed\n",
              "6   82   27100    1 year of college  not in labor force\n",
              "9   17    2000             grade 12            employed\n",
              "10  47   18000  n/a or no schooling            employed\n",
              "12  27   24000    1 year of college            employed\n",
              "14  15       0  grade 5, 6, 7, or 8                 n/a\n",
              "15  66       0  n/a or no schooling  not in labor force\n",
              "16  67   75000   2 years of college            employed\n",
              "17  92   24400   4 years of college  not in labor force\n",
              "18  37    1500   4 years of college  not in labor force\n",
              "19  59   27600    1 year of college  not in labor force\n",
              "22  28   58000             grade 12            employed\n",
              "23  48   52000             grade 12            employed\n",
              "24  39       0             grade 12  not in labor force\n",
              "25  66  120080  5+ years of college            employed\n",
              "26  70   19800   4 years of college  not in labor force\n",
              "28  80  226000   4 years of college  not in labor force"
            ],
            "text/html": [
              "\n",
              "  <div id=\"df-ab89db89-3c48-4e10-b80d-0e26222f30a7\">\n",
              "    <div class=\"colab-df-container\">\n",
              "      <div>\n",
              "<style scoped>\n",
              "    .dataframe tbody tr th:only-of-type {\n",
              "        vertical-align: middle;\n",
              "    }\n",
              "\n",
              "    .dataframe tbody tr th {\n",
              "        vertical-align: top;\n",
              "    }\n",
              "\n",
              "    .dataframe thead th {\n",
              "        text-align: right;\n",
              "    }\n",
              "</style>\n",
              "<table border=\"1\" class=\"dataframe\">\n",
              "  <thead>\n",
              "    <tr style=\"text-align: right;\">\n",
              "      <th></th>\n",
              "      <th>age</th>\n",
              "      <th>inctot</th>\n",
              "      <th>educ</th>\n",
              "      <th>empstat</th>\n",
              "    </tr>\n",
              "  </thead>\n",
              "  <tbody>\n",
              "    <tr>\n",
              "      <th>1</th>\n",
              "      <td>17</td>\n",
              "      <td>6000</td>\n",
              "      <td>grade 11</td>\n",
              "      <td>employed</td>\n",
              "    </tr>\n",
              "    <tr>\n",
              "      <th>2</th>\n",
              "      <td>63</td>\n",
              "      <td>6150</td>\n",
              "      <td>4 years of college</td>\n",
              "      <td>employed</td>\n",
              "    </tr>\n",
              "    <tr>\n",
              "      <th>3</th>\n",
              "      <td>66</td>\n",
              "      <td>14000</td>\n",
              "      <td>grade 12</td>\n",
              "      <td>not in labor force</td>\n",
              "    </tr>\n",
              "    <tr>\n",
              "      <th>5</th>\n",
              "      <td>50</td>\n",
              "      <td>50000</td>\n",
              "      <td>grade 12</td>\n",
              "      <td>employed</td>\n",
              "    </tr>\n",
              "    <tr>\n",
              "      <th>6</th>\n",
              "      <td>82</td>\n",
              "      <td>27100</td>\n",
              "      <td>1 year of college</td>\n",
              "      <td>not in labor force</td>\n",
              "    </tr>\n",
              "    <tr>\n",
              "      <th>9</th>\n",
              "      <td>17</td>\n",
              "      <td>2000</td>\n",
              "      <td>grade 12</td>\n",
              "      <td>employed</td>\n",
              "    </tr>\n",
              "    <tr>\n",
              "      <th>10</th>\n",
              "      <td>47</td>\n",
              "      <td>18000</td>\n",
              "      <td>n/a or no schooling</td>\n",
              "      <td>employed</td>\n",
              "    </tr>\n",
              "    <tr>\n",
              "      <th>12</th>\n",
              "      <td>27</td>\n",
              "      <td>24000</td>\n",
              "      <td>1 year of college</td>\n",
              "      <td>employed</td>\n",
              "    </tr>\n",
              "    <tr>\n",
              "      <th>14</th>\n",
              "      <td>15</td>\n",
              "      <td>0</td>\n",
              "      <td>grade 5, 6, 7, or 8</td>\n",
              "      <td>n/a</td>\n",
              "    </tr>\n",
              "    <tr>\n",
              "      <th>15</th>\n",
              "      <td>66</td>\n",
              "      <td>0</td>\n",
              "      <td>n/a or no schooling</td>\n",
              "      <td>not in labor force</td>\n",
              "    </tr>\n",
              "    <tr>\n",
              "      <th>16</th>\n",
              "      <td>67</td>\n",
              "      <td>75000</td>\n",
              "      <td>2 years of college</td>\n",
              "      <td>employed</td>\n",
              "    </tr>\n",
              "    <tr>\n",
              "      <th>17</th>\n",
              "      <td>92</td>\n",
              "      <td>24400</td>\n",
              "      <td>4 years of college</td>\n",
              "      <td>not in labor force</td>\n",
              "    </tr>\n",
              "    <tr>\n",
              "      <th>18</th>\n",
              "      <td>37</td>\n",
              "      <td>1500</td>\n",
              "      <td>4 years of college</td>\n",
              "      <td>not in labor force</td>\n",
              "    </tr>\n",
              "    <tr>\n",
              "      <th>19</th>\n",
              "      <td>59</td>\n",
              "      <td>27600</td>\n",
              "      <td>1 year of college</td>\n",
              "      <td>not in labor force</td>\n",
              "    </tr>\n",
              "    <tr>\n",
              "      <th>22</th>\n",
              "      <td>28</td>\n",
              "      <td>58000</td>\n",
              "      <td>grade 12</td>\n",
              "      <td>employed</td>\n",
              "    </tr>\n",
              "    <tr>\n",
              "      <th>23</th>\n",
              "      <td>48</td>\n",
              "      <td>52000</td>\n",
              "      <td>grade 12</td>\n",
              "      <td>employed</td>\n",
              "    </tr>\n",
              "    <tr>\n",
              "      <th>24</th>\n",
              "      <td>39</td>\n",
              "      <td>0</td>\n",
              "      <td>grade 12</td>\n",
              "      <td>not in labor force</td>\n",
              "    </tr>\n",
              "    <tr>\n",
              "      <th>25</th>\n",
              "      <td>66</td>\n",
              "      <td>120080</td>\n",
              "      <td>5+ years of college</td>\n",
              "      <td>employed</td>\n",
              "    </tr>\n",
              "    <tr>\n",
              "      <th>26</th>\n",
              "      <td>70</td>\n",
              "      <td>19800</td>\n",
              "      <td>4 years of college</td>\n",
              "      <td>not in labor force</td>\n",
              "    </tr>\n",
              "    <tr>\n",
              "      <th>28</th>\n",
              "      <td>80</td>\n",
              "      <td>226000</td>\n",
              "      <td>4 years of college</td>\n",
              "      <td>not in labor force</td>\n",
              "    </tr>\n",
              "  </tbody>\n",
              "</table>\n",
              "</div>\n",
              "      <button class=\"colab-df-convert\" onclick=\"convertToInteractive('df-ab89db89-3c48-4e10-b80d-0e26222f30a7')\"\n",
              "              title=\"Convert this dataframe to an interactive table.\"\n",
              "              style=\"display:none;\">\n",
              "        \n",
              "  <svg xmlns=\"http://www.w3.org/2000/svg\" height=\"24px\"viewBox=\"0 0 24 24\"\n",
              "       width=\"24px\">\n",
              "    <path d=\"M0 0h24v24H0V0z\" fill=\"none\"/>\n",
              "    <path d=\"M18.56 5.44l.94 2.06.94-2.06 2.06-.94-2.06-.94-.94-2.06-.94 2.06-2.06.94zm-11 1L8.5 8.5l.94-2.06 2.06-.94-2.06-.94L8.5 2.5l-.94 2.06-2.06.94zm10 10l.94 2.06.94-2.06 2.06-.94-2.06-.94-.94-2.06-.94 2.06-2.06.94z\"/><path d=\"M17.41 7.96l-1.37-1.37c-.4-.4-.92-.59-1.43-.59-.52 0-1.04.2-1.43.59L10.3 9.45l-7.72 7.72c-.78.78-.78 2.05 0 2.83L4 21.41c.39.39.9.59 1.41.59.51 0 1.02-.2 1.41-.59l7.78-7.78 2.81-2.81c.8-.78.8-2.07 0-2.86zM5.41 20L4 18.59l7.72-7.72 1.47 1.35L5.41 20z\"/>\n",
              "  </svg>\n",
              "      </button>\n",
              "      \n",
              "  <style>\n",
              "    .colab-df-container {\n",
              "      display:flex;\n",
              "      flex-wrap:wrap;\n",
              "      gap: 12px;\n",
              "    }\n",
              "\n",
              "    .colab-df-convert {\n",
              "      background-color: #E8F0FE;\n",
              "      border: none;\n",
              "      border-radius: 50%;\n",
              "      cursor: pointer;\n",
              "      display: none;\n",
              "      fill: #1967D2;\n",
              "      height: 32px;\n",
              "      padding: 0 0 0 0;\n",
              "      width: 32px;\n",
              "    }\n",
              "\n",
              "    .colab-df-convert:hover {\n",
              "      background-color: #E2EBFA;\n",
              "      box-shadow: 0px 1px 2px rgba(60, 64, 67, 0.3), 0px 1px 3px 1px rgba(60, 64, 67, 0.15);\n",
              "      fill: #174EA6;\n",
              "    }\n",
              "\n",
              "    [theme=dark] .colab-df-convert {\n",
              "      background-color: #3B4455;\n",
              "      fill: #D2E3FC;\n",
              "    }\n",
              "\n",
              "    [theme=dark] .colab-df-convert:hover {\n",
              "      background-color: #434B5C;\n",
              "      box-shadow: 0px 1px 3px 1px rgba(0, 0, 0, 0.15);\n",
              "      filter: drop-shadow(0px 1px 2px rgba(0, 0, 0, 0.3));\n",
              "      fill: #FFFFFF;\n",
              "    }\n",
              "  </style>\n",
              "\n",
              "      <script>\n",
              "        const buttonEl =\n",
              "          document.querySelector('#df-ab89db89-3c48-4e10-b80d-0e26222f30a7 button.colab-df-convert');\n",
              "        buttonEl.style.display =\n",
              "          google.colab.kernel.accessAllowed ? 'block' : 'none';\n",
              "\n",
              "        async function convertToInteractive(key) {\n",
              "          const element = document.querySelector('#df-ab89db89-3c48-4e10-b80d-0e26222f30a7');\n",
              "          const dataTable =\n",
              "            await google.colab.kernel.invokeFunction('convertToInteractive',\n",
              "                                                     [key], {});\n",
              "          if (!dataTable) return;\n",
              "\n",
              "          const docLinkHtml = 'Like what you see? Visit the ' +\n",
              "            '<a target=\"_blank\" href=https://colab.research.google.com/notebooks/data_table.ipynb>data table notebook</a>'\n",
              "            + ' to learn more about interactive tables.';\n",
              "          element.innerHTML = '';\n",
              "          dataTable['output_type'] = 'display_data';\n",
              "          await google.colab.output.renderOutput(dataTable, element);\n",
              "          const docLink = document.createElement('div');\n",
              "          docLink.innerHTML = docLinkHtml;\n",
              "          element.appendChild(docLink);\n",
              "        }\n",
              "      </script>\n",
              "    </div>\n",
              "  </div>\n",
              "  "
            ]
          },
          "metadata": {},
          "execution_count": 7
        }
      ],
      "source": [
        "data.head(20)"
      ]
    },
    {
      "cell_type": "code",
      "execution_count": null,
      "metadata": {
        "id": "EHK0uToHJ4Mf",
        "colab": {
          "base_uri": "https://localhost:8080/",
          "height": 677
        },
        "outputId": "f4302247-1ef2-4984-cf9e-f1f0bd88f60d"
      },
      "outputs": [
        {
          "output_type": "execute_result",
          "data": {
            "text/plain": [
              "       age  inctot                       educ             empstat\n",
              "318978  66   38300        5+ years of college            employed\n",
              "318979  51    6500         4 years of college            employed\n",
              "318981  81  108600                   grade 12  not in labor force\n",
              "318982  26   45000         4 years of college            employed\n",
              "318983  64   45600                   grade 12            employed\n",
              "318984  52    6600        5+ years of college            employed\n",
              "318985  64   16000          1 year of college            employed\n",
              "318987  36   50000                   grade 12            employed\n",
              "318988  70   82700         2 years of college            employed\n",
              "318990  63  505400        5+ years of college            employed\n",
              "318992  56       0        grade 5, 6, 7, or 8  not in labor force\n",
              "318993  22   21700         2 years of college            employed\n",
              "318994  91   16400  nursery school to grade 4  not in labor force\n",
              "318995  67  125000                   grade 12            employed\n",
              "318996  15       0                    grade 9                 n/a\n",
              "318998  31       0        5+ years of college  not in labor force\n",
              "318999  33   22130         4 years of college            employed\n",
              "319001  20    5000                   grade 12            employed\n",
              "319002  47  240000        5+ years of college            employed\n",
              "319003  33   48000        5+ years of college            employed"
            ],
            "text/html": [
              "\n",
              "  <div id=\"df-79352d31-a524-4562-8e11-49f3a54bad79\">\n",
              "    <div class=\"colab-df-container\">\n",
              "      <div>\n",
              "<style scoped>\n",
              "    .dataframe tbody tr th:only-of-type {\n",
              "        vertical-align: middle;\n",
              "    }\n",
              "\n",
              "    .dataframe tbody tr th {\n",
              "        vertical-align: top;\n",
              "    }\n",
              "\n",
              "    .dataframe thead th {\n",
              "        text-align: right;\n",
              "    }\n",
              "</style>\n",
              "<table border=\"1\" class=\"dataframe\">\n",
              "  <thead>\n",
              "    <tr style=\"text-align: right;\">\n",
              "      <th></th>\n",
              "      <th>age</th>\n",
              "      <th>inctot</th>\n",
              "      <th>educ</th>\n",
              "      <th>empstat</th>\n",
              "    </tr>\n",
              "  </thead>\n",
              "  <tbody>\n",
              "    <tr>\n",
              "      <th>318978</th>\n",
              "      <td>66</td>\n",
              "      <td>38300</td>\n",
              "      <td>5+ years of college</td>\n",
              "      <td>employed</td>\n",
              "    </tr>\n",
              "    <tr>\n",
              "      <th>318979</th>\n",
              "      <td>51</td>\n",
              "      <td>6500</td>\n",
              "      <td>4 years of college</td>\n",
              "      <td>employed</td>\n",
              "    </tr>\n",
              "    <tr>\n",
              "      <th>318981</th>\n",
              "      <td>81</td>\n",
              "      <td>108600</td>\n",
              "      <td>grade 12</td>\n",
              "      <td>not in labor force</td>\n",
              "    </tr>\n",
              "    <tr>\n",
              "      <th>318982</th>\n",
              "      <td>26</td>\n",
              "      <td>45000</td>\n",
              "      <td>4 years of college</td>\n",
              "      <td>employed</td>\n",
              "    </tr>\n",
              "    <tr>\n",
              "      <th>318983</th>\n",
              "      <td>64</td>\n",
              "      <td>45600</td>\n",
              "      <td>grade 12</td>\n",
              "      <td>employed</td>\n",
              "    </tr>\n",
              "    <tr>\n",
              "      <th>318984</th>\n",
              "      <td>52</td>\n",
              "      <td>6600</td>\n",
              "      <td>5+ years of college</td>\n",
              "      <td>employed</td>\n",
              "    </tr>\n",
              "    <tr>\n",
              "      <th>318985</th>\n",
              "      <td>64</td>\n",
              "      <td>16000</td>\n",
              "      <td>1 year of college</td>\n",
              "      <td>employed</td>\n",
              "    </tr>\n",
              "    <tr>\n",
              "      <th>318987</th>\n",
              "      <td>36</td>\n",
              "      <td>50000</td>\n",
              "      <td>grade 12</td>\n",
              "      <td>employed</td>\n",
              "    </tr>\n",
              "    <tr>\n",
              "      <th>318988</th>\n",
              "      <td>70</td>\n",
              "      <td>82700</td>\n",
              "      <td>2 years of college</td>\n",
              "      <td>employed</td>\n",
              "    </tr>\n",
              "    <tr>\n",
              "      <th>318990</th>\n",
              "      <td>63</td>\n",
              "      <td>505400</td>\n",
              "      <td>5+ years of college</td>\n",
              "      <td>employed</td>\n",
              "    </tr>\n",
              "    <tr>\n",
              "      <th>318992</th>\n",
              "      <td>56</td>\n",
              "      <td>0</td>\n",
              "      <td>grade 5, 6, 7, or 8</td>\n",
              "      <td>not in labor force</td>\n",
              "    </tr>\n",
              "    <tr>\n",
              "      <th>318993</th>\n",
              "      <td>22</td>\n",
              "      <td>21700</td>\n",
              "      <td>2 years of college</td>\n",
              "      <td>employed</td>\n",
              "    </tr>\n",
              "    <tr>\n",
              "      <th>318994</th>\n",
              "      <td>91</td>\n",
              "      <td>16400</td>\n",
              "      <td>nursery school to grade 4</td>\n",
              "      <td>not in labor force</td>\n",
              "    </tr>\n",
              "    <tr>\n",
              "      <th>318995</th>\n",
              "      <td>67</td>\n",
              "      <td>125000</td>\n",
              "      <td>grade 12</td>\n",
              "      <td>employed</td>\n",
              "    </tr>\n",
              "    <tr>\n",
              "      <th>318996</th>\n",
              "      <td>15</td>\n",
              "      <td>0</td>\n",
              "      <td>grade 9</td>\n",
              "      <td>n/a</td>\n",
              "    </tr>\n",
              "    <tr>\n",
              "      <th>318998</th>\n",
              "      <td>31</td>\n",
              "      <td>0</td>\n",
              "      <td>5+ years of college</td>\n",
              "      <td>not in labor force</td>\n",
              "    </tr>\n",
              "    <tr>\n",
              "      <th>318999</th>\n",
              "      <td>33</td>\n",
              "      <td>22130</td>\n",
              "      <td>4 years of college</td>\n",
              "      <td>employed</td>\n",
              "    </tr>\n",
              "    <tr>\n",
              "      <th>319001</th>\n",
              "      <td>20</td>\n",
              "      <td>5000</td>\n",
              "      <td>grade 12</td>\n",
              "      <td>employed</td>\n",
              "    </tr>\n",
              "    <tr>\n",
              "      <th>319002</th>\n",
              "      <td>47</td>\n",
              "      <td>240000</td>\n",
              "      <td>5+ years of college</td>\n",
              "      <td>employed</td>\n",
              "    </tr>\n",
              "    <tr>\n",
              "      <th>319003</th>\n",
              "      <td>33</td>\n",
              "      <td>48000</td>\n",
              "      <td>5+ years of college</td>\n",
              "      <td>employed</td>\n",
              "    </tr>\n",
              "  </tbody>\n",
              "</table>\n",
              "</div>\n",
              "      <button class=\"colab-df-convert\" onclick=\"convertToInteractive('df-79352d31-a524-4562-8e11-49f3a54bad79')\"\n",
              "              title=\"Convert this dataframe to an interactive table.\"\n",
              "              style=\"display:none;\">\n",
              "        \n",
              "  <svg xmlns=\"http://www.w3.org/2000/svg\" height=\"24px\"viewBox=\"0 0 24 24\"\n",
              "       width=\"24px\">\n",
              "    <path d=\"M0 0h24v24H0V0z\" fill=\"none\"/>\n",
              "    <path d=\"M18.56 5.44l.94 2.06.94-2.06 2.06-.94-2.06-.94-.94-2.06-.94 2.06-2.06.94zm-11 1L8.5 8.5l.94-2.06 2.06-.94-2.06-.94L8.5 2.5l-.94 2.06-2.06.94zm10 10l.94 2.06.94-2.06 2.06-.94-2.06-.94-.94-2.06-.94 2.06-2.06.94z\"/><path d=\"M17.41 7.96l-1.37-1.37c-.4-.4-.92-.59-1.43-.59-.52 0-1.04.2-1.43.59L10.3 9.45l-7.72 7.72c-.78.78-.78 2.05 0 2.83L4 21.41c.39.39.9.59 1.41.59.51 0 1.02-.2 1.41-.59l7.78-7.78 2.81-2.81c.8-.78.8-2.07 0-2.86zM5.41 20L4 18.59l7.72-7.72 1.47 1.35L5.41 20z\"/>\n",
              "  </svg>\n",
              "      </button>\n",
              "      \n",
              "  <style>\n",
              "    .colab-df-container {\n",
              "      display:flex;\n",
              "      flex-wrap:wrap;\n",
              "      gap: 12px;\n",
              "    }\n",
              "\n",
              "    .colab-df-convert {\n",
              "      background-color: #E8F0FE;\n",
              "      border: none;\n",
              "      border-radius: 50%;\n",
              "      cursor: pointer;\n",
              "      display: none;\n",
              "      fill: #1967D2;\n",
              "      height: 32px;\n",
              "      padding: 0 0 0 0;\n",
              "      width: 32px;\n",
              "    }\n",
              "\n",
              "    .colab-df-convert:hover {\n",
              "      background-color: #E2EBFA;\n",
              "      box-shadow: 0px 1px 2px rgba(60, 64, 67, 0.3), 0px 1px 3px 1px rgba(60, 64, 67, 0.15);\n",
              "      fill: #174EA6;\n",
              "    }\n",
              "\n",
              "    [theme=dark] .colab-df-convert {\n",
              "      background-color: #3B4455;\n",
              "      fill: #D2E3FC;\n",
              "    }\n",
              "\n",
              "    [theme=dark] .colab-df-convert:hover {\n",
              "      background-color: #434B5C;\n",
              "      box-shadow: 0px 1px 3px 1px rgba(0, 0, 0, 0.15);\n",
              "      filter: drop-shadow(0px 1px 2px rgba(0, 0, 0, 0.3));\n",
              "      fill: #FFFFFF;\n",
              "    }\n",
              "  </style>\n",
              "\n",
              "      <script>\n",
              "        const buttonEl =\n",
              "          document.querySelector('#df-79352d31-a524-4562-8e11-49f3a54bad79 button.colab-df-convert');\n",
              "        buttonEl.style.display =\n",
              "          google.colab.kernel.accessAllowed ? 'block' : 'none';\n",
              "\n",
              "        async function convertToInteractive(key) {\n",
              "          const element = document.querySelector('#df-79352d31-a524-4562-8e11-49f3a54bad79');\n",
              "          const dataTable =\n",
              "            await google.colab.kernel.invokeFunction('convertToInteractive',\n",
              "                                                     [key], {});\n",
              "          if (!dataTable) return;\n",
              "\n",
              "          const docLinkHtml = 'Like what you see? Visit the ' +\n",
              "            '<a target=\"_blank\" href=https://colab.research.google.com/notebooks/data_table.ipynb>data table notebook</a>'\n",
              "            + ' to learn more about interactive tables.';\n",
              "          element.innerHTML = '';\n",
              "          dataTable['output_type'] = 'display_data';\n",
              "          await google.colab.output.renderOutput(dataTable, element);\n",
              "          const docLink = document.createElement('div');\n",
              "          docLink.innerHTML = docLinkHtml;\n",
              "          element.appendChild(docLink);\n",
              "        }\n",
              "      </script>\n",
              "    </div>\n",
              "  </div>\n",
              "  "
            ]
          },
          "metadata": {},
          "execution_count": 8
        }
      ],
      "source": [
        "data.tail(20)"
      ]
    },
    {
      "cell_type": "code",
      "source": [
        "data.sample(20)"
      ],
      "metadata": {
        "colab": {
          "base_uri": "https://localhost:8080/",
          "height": 677
        },
        "id": "FwKSzPOYc6Dv",
        "outputId": "29eff797-2129-4dd1-d901-01b0ebe304d5"
      },
      "execution_count": null,
      "outputs": [
        {
          "output_type": "execute_result",
          "data": {
            "text/plain": [
              "       age  inctot                 educ             empstat\n",
              "179076  67   44500  5+ years of college  not in labor force\n",
              "291898  57    9000             grade 11  not in labor force\n",
              "191204  44    6500  grade 5, 6, 7, or 8            employed\n",
              "118495  37   45000             grade 12            employed\n",
              "318311  31   47000             grade 12            employed\n",
              "87372   20    8900             grade 12            employed\n",
              "282872  94   16400             grade 12  not in labor force\n",
              "257275  27   35000   4 years of college            employed\n",
              "298865  74   21400             grade 12  not in labor force\n",
              "248580  42   78000             grade 12            employed\n",
              "10478   65   10700             grade 12  not in labor force\n",
              "139223  55   70000   4 years of college            employed\n",
              "25900   56   28000    1 year of college            employed\n",
              "221013  86   32200             grade 12  not in labor force\n",
              "257694  19    2000             grade 12          unemployed\n",
              "306561  86    2400             grade 12  not in labor force\n",
              "190843  22    2000   4 years of college            employed\n",
              "230691  18       0             grade 11  not in labor force\n",
              "221183  81   58000   2 years of college  not in labor force\n",
              "247680  20   25000   2 years of college            employed"
            ],
            "text/html": [
              "\n",
              "  <div id=\"df-781ba467-8155-4d53-aa88-37883b4d8420\">\n",
              "    <div class=\"colab-df-container\">\n",
              "      <div>\n",
              "<style scoped>\n",
              "    .dataframe tbody tr th:only-of-type {\n",
              "        vertical-align: middle;\n",
              "    }\n",
              "\n",
              "    .dataframe tbody tr th {\n",
              "        vertical-align: top;\n",
              "    }\n",
              "\n",
              "    .dataframe thead th {\n",
              "        text-align: right;\n",
              "    }\n",
              "</style>\n",
              "<table border=\"1\" class=\"dataframe\">\n",
              "  <thead>\n",
              "    <tr style=\"text-align: right;\">\n",
              "      <th></th>\n",
              "      <th>age</th>\n",
              "      <th>inctot</th>\n",
              "      <th>educ</th>\n",
              "      <th>empstat</th>\n",
              "    </tr>\n",
              "  </thead>\n",
              "  <tbody>\n",
              "    <tr>\n",
              "      <th>179076</th>\n",
              "      <td>67</td>\n",
              "      <td>44500</td>\n",
              "      <td>5+ years of college</td>\n",
              "      <td>not in labor force</td>\n",
              "    </tr>\n",
              "    <tr>\n",
              "      <th>291898</th>\n",
              "      <td>57</td>\n",
              "      <td>9000</td>\n",
              "      <td>grade 11</td>\n",
              "      <td>not in labor force</td>\n",
              "    </tr>\n",
              "    <tr>\n",
              "      <th>191204</th>\n",
              "      <td>44</td>\n",
              "      <td>6500</td>\n",
              "      <td>grade 5, 6, 7, or 8</td>\n",
              "      <td>employed</td>\n",
              "    </tr>\n",
              "    <tr>\n",
              "      <th>118495</th>\n",
              "      <td>37</td>\n",
              "      <td>45000</td>\n",
              "      <td>grade 12</td>\n",
              "      <td>employed</td>\n",
              "    </tr>\n",
              "    <tr>\n",
              "      <th>318311</th>\n",
              "      <td>31</td>\n",
              "      <td>47000</td>\n",
              "      <td>grade 12</td>\n",
              "      <td>employed</td>\n",
              "    </tr>\n",
              "    <tr>\n",
              "      <th>87372</th>\n",
              "      <td>20</td>\n",
              "      <td>8900</td>\n",
              "      <td>grade 12</td>\n",
              "      <td>employed</td>\n",
              "    </tr>\n",
              "    <tr>\n",
              "      <th>282872</th>\n",
              "      <td>94</td>\n",
              "      <td>16400</td>\n",
              "      <td>grade 12</td>\n",
              "      <td>not in labor force</td>\n",
              "    </tr>\n",
              "    <tr>\n",
              "      <th>257275</th>\n",
              "      <td>27</td>\n",
              "      <td>35000</td>\n",
              "      <td>4 years of college</td>\n",
              "      <td>employed</td>\n",
              "    </tr>\n",
              "    <tr>\n",
              "      <th>298865</th>\n",
              "      <td>74</td>\n",
              "      <td>21400</td>\n",
              "      <td>grade 12</td>\n",
              "      <td>not in labor force</td>\n",
              "    </tr>\n",
              "    <tr>\n",
              "      <th>248580</th>\n",
              "      <td>42</td>\n",
              "      <td>78000</td>\n",
              "      <td>grade 12</td>\n",
              "      <td>employed</td>\n",
              "    </tr>\n",
              "    <tr>\n",
              "      <th>10478</th>\n",
              "      <td>65</td>\n",
              "      <td>10700</td>\n",
              "      <td>grade 12</td>\n",
              "      <td>not in labor force</td>\n",
              "    </tr>\n",
              "    <tr>\n",
              "      <th>139223</th>\n",
              "      <td>55</td>\n",
              "      <td>70000</td>\n",
              "      <td>4 years of college</td>\n",
              "      <td>employed</td>\n",
              "    </tr>\n",
              "    <tr>\n",
              "      <th>25900</th>\n",
              "      <td>56</td>\n",
              "      <td>28000</td>\n",
              "      <td>1 year of college</td>\n",
              "      <td>employed</td>\n",
              "    </tr>\n",
              "    <tr>\n",
              "      <th>221013</th>\n",
              "      <td>86</td>\n",
              "      <td>32200</td>\n",
              "      <td>grade 12</td>\n",
              "      <td>not in labor force</td>\n",
              "    </tr>\n",
              "    <tr>\n",
              "      <th>257694</th>\n",
              "      <td>19</td>\n",
              "      <td>2000</td>\n",
              "      <td>grade 12</td>\n",
              "      <td>unemployed</td>\n",
              "    </tr>\n",
              "    <tr>\n",
              "      <th>306561</th>\n",
              "      <td>86</td>\n",
              "      <td>2400</td>\n",
              "      <td>grade 12</td>\n",
              "      <td>not in labor force</td>\n",
              "    </tr>\n",
              "    <tr>\n",
              "      <th>190843</th>\n",
              "      <td>22</td>\n",
              "      <td>2000</td>\n",
              "      <td>4 years of college</td>\n",
              "      <td>employed</td>\n",
              "    </tr>\n",
              "    <tr>\n",
              "      <th>230691</th>\n",
              "      <td>18</td>\n",
              "      <td>0</td>\n",
              "      <td>grade 11</td>\n",
              "      <td>not in labor force</td>\n",
              "    </tr>\n",
              "    <tr>\n",
              "      <th>221183</th>\n",
              "      <td>81</td>\n",
              "      <td>58000</td>\n",
              "      <td>2 years of college</td>\n",
              "      <td>not in labor force</td>\n",
              "    </tr>\n",
              "    <tr>\n",
              "      <th>247680</th>\n",
              "      <td>20</td>\n",
              "      <td>25000</td>\n",
              "      <td>2 years of college</td>\n",
              "      <td>employed</td>\n",
              "    </tr>\n",
              "  </tbody>\n",
              "</table>\n",
              "</div>\n",
              "      <button class=\"colab-df-convert\" onclick=\"convertToInteractive('df-781ba467-8155-4d53-aa88-37883b4d8420')\"\n",
              "              title=\"Convert this dataframe to an interactive table.\"\n",
              "              style=\"display:none;\">\n",
              "        \n",
              "  <svg xmlns=\"http://www.w3.org/2000/svg\" height=\"24px\"viewBox=\"0 0 24 24\"\n",
              "       width=\"24px\">\n",
              "    <path d=\"M0 0h24v24H0V0z\" fill=\"none\"/>\n",
              "    <path d=\"M18.56 5.44l.94 2.06.94-2.06 2.06-.94-2.06-.94-.94-2.06-.94 2.06-2.06.94zm-11 1L8.5 8.5l.94-2.06 2.06-.94-2.06-.94L8.5 2.5l-.94 2.06-2.06.94zm10 10l.94 2.06.94-2.06 2.06-.94-2.06-.94-.94-2.06-.94 2.06-2.06.94z\"/><path d=\"M17.41 7.96l-1.37-1.37c-.4-.4-.92-.59-1.43-.59-.52 0-1.04.2-1.43.59L10.3 9.45l-7.72 7.72c-.78.78-.78 2.05 0 2.83L4 21.41c.39.39.9.59 1.41.59.51 0 1.02-.2 1.41-.59l7.78-7.78 2.81-2.81c.8-.78.8-2.07 0-2.86zM5.41 20L4 18.59l7.72-7.72 1.47 1.35L5.41 20z\"/>\n",
              "  </svg>\n",
              "      </button>\n",
              "      \n",
              "  <style>\n",
              "    .colab-df-container {\n",
              "      display:flex;\n",
              "      flex-wrap:wrap;\n",
              "      gap: 12px;\n",
              "    }\n",
              "\n",
              "    .colab-df-convert {\n",
              "      background-color: #E8F0FE;\n",
              "      border: none;\n",
              "      border-radius: 50%;\n",
              "      cursor: pointer;\n",
              "      display: none;\n",
              "      fill: #1967D2;\n",
              "      height: 32px;\n",
              "      padding: 0 0 0 0;\n",
              "      width: 32px;\n",
              "    }\n",
              "\n",
              "    .colab-df-convert:hover {\n",
              "      background-color: #E2EBFA;\n",
              "      box-shadow: 0px 1px 2px rgba(60, 64, 67, 0.3), 0px 1px 3px 1px rgba(60, 64, 67, 0.15);\n",
              "      fill: #174EA6;\n",
              "    }\n",
              "\n",
              "    [theme=dark] .colab-df-convert {\n",
              "      background-color: #3B4455;\n",
              "      fill: #D2E3FC;\n",
              "    }\n",
              "\n",
              "    [theme=dark] .colab-df-convert:hover {\n",
              "      background-color: #434B5C;\n",
              "      box-shadow: 0px 1px 3px 1px rgba(0, 0, 0, 0.15);\n",
              "      filter: drop-shadow(0px 1px 2px rgba(0, 0, 0, 0.3));\n",
              "      fill: #FFFFFF;\n",
              "    }\n",
              "  </style>\n",
              "\n",
              "      <script>\n",
              "        const buttonEl =\n",
              "          document.querySelector('#df-781ba467-8155-4d53-aa88-37883b4d8420 button.colab-df-convert');\n",
              "        buttonEl.style.display =\n",
              "          google.colab.kernel.accessAllowed ? 'block' : 'none';\n",
              "\n",
              "        async function convertToInteractive(key) {\n",
              "          const element = document.querySelector('#df-781ba467-8155-4d53-aa88-37883b4d8420');\n",
              "          const dataTable =\n",
              "            await google.colab.kernel.invokeFunction('convertToInteractive',\n",
              "                                                     [key], {});\n",
              "          if (!dataTable) return;\n",
              "\n",
              "          const docLinkHtml = 'Like what you see? Visit the ' +\n",
              "            '<a target=\"_blank\" href=https://colab.research.google.com/notebooks/data_table.ipynb>data table notebook</a>'\n",
              "            + ' to learn more about interactive tables.';\n",
              "          element.innerHTML = '';\n",
              "          dataTable['output_type'] = 'display_data';\n",
              "          await google.colab.output.renderOutput(dataTable, element);\n",
              "          const docLink = document.createElement('div');\n",
              "          docLink.innerHTML = docLinkHtml;\n",
              "          element.appendChild(docLink);\n",
              "        }\n",
              "      </script>\n",
              "    </div>\n",
              "  </div>\n",
              "  "
            ]
          },
          "metadata": {},
          "execution_count": 23
        }
      ]
    },
    {
      "cell_type": "markdown",
      "metadata": {
        "id": "iLrnT2VeJ4Mf"
      },
      "source": [
        "OK, outro problema potencial é que nossos dados incluem várias pessoas que estão desempregadas e pessoas que não pertencem à força de trabalho (ou seja, pessoas que não tem um emprego mas também não estão procurando por um). Para esta análise, queremos focar em pessoas que _estão_ empregadas. Por isso, \n",
        "\n",
        "#### Selecione apenas as pessoas empregadas (i.e., pessoas cuja variável `empstat` é igual a _employed_)\n",
        "Mostre uma amostra aleatória de 5 linhas para comprovar que o filtro funcionou."
      ]
    },
    {
      "cell_type": "code",
      "execution_count": null,
      "metadata": {
        "id": "iMgkYNDrJ4Mf",
        "colab": {
          "base_uri": "https://localhost:8080/",
          "height": 424
        },
        "outputId": "89484787-4f39-4abe-a093-9a722e2e771a"
      },
      "outputs": [
        {
          "output_type": "execute_result",
          "data": {
            "text/plain": [
              "       age  inctot                 educ   empstat\n",
              "1       17    6000             grade 11  employed\n",
              "2       63    6150   4 years of college  employed\n",
              "5       50   50000             grade 12  employed\n",
              "9       17    2000             grade 12  employed\n",
              "10      47   18000  n/a or no schooling  employed\n",
              "...     ..     ...                  ...       ...\n",
              "318995  67  125000             grade 12  employed\n",
              "318999  33   22130   4 years of college  employed\n",
              "319001  20    5000             grade 12  employed\n",
              "319002  47  240000  5+ years of college  employed\n",
              "319003  33   48000  5+ years of college  employed\n",
              "\n",
              "[148758 rows x 4 columns]"
            ],
            "text/html": [
              "\n",
              "  <div id=\"df-43cb7da4-7f51-4c87-9aa2-eead18cb7df1\">\n",
              "    <div class=\"colab-df-container\">\n",
              "      <div>\n",
              "<style scoped>\n",
              "    .dataframe tbody tr th:only-of-type {\n",
              "        vertical-align: middle;\n",
              "    }\n",
              "\n",
              "    .dataframe tbody tr th {\n",
              "        vertical-align: top;\n",
              "    }\n",
              "\n",
              "    .dataframe thead th {\n",
              "        text-align: right;\n",
              "    }\n",
              "</style>\n",
              "<table border=\"1\" class=\"dataframe\">\n",
              "  <thead>\n",
              "    <tr style=\"text-align: right;\">\n",
              "      <th></th>\n",
              "      <th>age</th>\n",
              "      <th>inctot</th>\n",
              "      <th>educ</th>\n",
              "      <th>empstat</th>\n",
              "    </tr>\n",
              "  </thead>\n",
              "  <tbody>\n",
              "    <tr>\n",
              "      <th>1</th>\n",
              "      <td>17</td>\n",
              "      <td>6000</td>\n",
              "      <td>grade 11</td>\n",
              "      <td>employed</td>\n",
              "    </tr>\n",
              "    <tr>\n",
              "      <th>2</th>\n",
              "      <td>63</td>\n",
              "      <td>6150</td>\n",
              "      <td>4 years of college</td>\n",
              "      <td>employed</td>\n",
              "    </tr>\n",
              "    <tr>\n",
              "      <th>5</th>\n",
              "      <td>50</td>\n",
              "      <td>50000</td>\n",
              "      <td>grade 12</td>\n",
              "      <td>employed</td>\n",
              "    </tr>\n",
              "    <tr>\n",
              "      <th>9</th>\n",
              "      <td>17</td>\n",
              "      <td>2000</td>\n",
              "      <td>grade 12</td>\n",
              "      <td>employed</td>\n",
              "    </tr>\n",
              "    <tr>\n",
              "      <th>10</th>\n",
              "      <td>47</td>\n",
              "      <td>18000</td>\n",
              "      <td>n/a or no schooling</td>\n",
              "      <td>employed</td>\n",
              "    </tr>\n",
              "    <tr>\n",
              "      <th>...</th>\n",
              "      <td>...</td>\n",
              "      <td>...</td>\n",
              "      <td>...</td>\n",
              "      <td>...</td>\n",
              "    </tr>\n",
              "    <tr>\n",
              "      <th>318995</th>\n",
              "      <td>67</td>\n",
              "      <td>125000</td>\n",
              "      <td>grade 12</td>\n",
              "      <td>employed</td>\n",
              "    </tr>\n",
              "    <tr>\n",
              "      <th>318999</th>\n",
              "      <td>33</td>\n",
              "      <td>22130</td>\n",
              "      <td>4 years of college</td>\n",
              "      <td>employed</td>\n",
              "    </tr>\n",
              "    <tr>\n",
              "      <th>319001</th>\n",
              "      <td>20</td>\n",
              "      <td>5000</td>\n",
              "      <td>grade 12</td>\n",
              "      <td>employed</td>\n",
              "    </tr>\n",
              "    <tr>\n",
              "      <th>319002</th>\n",
              "      <td>47</td>\n",
              "      <td>240000</td>\n",
              "      <td>5+ years of college</td>\n",
              "      <td>employed</td>\n",
              "    </tr>\n",
              "    <tr>\n",
              "      <th>319003</th>\n",
              "      <td>33</td>\n",
              "      <td>48000</td>\n",
              "      <td>5+ years of college</td>\n",
              "      <td>employed</td>\n",
              "    </tr>\n",
              "  </tbody>\n",
              "</table>\n",
              "<p>148758 rows × 4 columns</p>\n",
              "</div>\n",
              "      <button class=\"colab-df-convert\" onclick=\"convertToInteractive('df-43cb7da4-7f51-4c87-9aa2-eead18cb7df1')\"\n",
              "              title=\"Convert this dataframe to an interactive table.\"\n",
              "              style=\"display:none;\">\n",
              "        \n",
              "  <svg xmlns=\"http://www.w3.org/2000/svg\" height=\"24px\"viewBox=\"0 0 24 24\"\n",
              "       width=\"24px\">\n",
              "    <path d=\"M0 0h24v24H0V0z\" fill=\"none\"/>\n",
              "    <path d=\"M18.56 5.44l.94 2.06.94-2.06 2.06-.94-2.06-.94-.94-2.06-.94 2.06-2.06.94zm-11 1L8.5 8.5l.94-2.06 2.06-.94-2.06-.94L8.5 2.5l-.94 2.06-2.06.94zm10 10l.94 2.06.94-2.06 2.06-.94-2.06-.94-.94-2.06-.94 2.06-2.06.94z\"/><path d=\"M17.41 7.96l-1.37-1.37c-.4-.4-.92-.59-1.43-.59-.52 0-1.04.2-1.43.59L10.3 9.45l-7.72 7.72c-.78.78-.78 2.05 0 2.83L4 21.41c.39.39.9.59 1.41.59.51 0 1.02-.2 1.41-.59l7.78-7.78 2.81-2.81c.8-.78.8-2.07 0-2.86zM5.41 20L4 18.59l7.72-7.72 1.47 1.35L5.41 20z\"/>\n",
              "  </svg>\n",
              "      </button>\n",
              "      \n",
              "  <style>\n",
              "    .colab-df-container {\n",
              "      display:flex;\n",
              "      flex-wrap:wrap;\n",
              "      gap: 12px;\n",
              "    }\n",
              "\n",
              "    .colab-df-convert {\n",
              "      background-color: #E8F0FE;\n",
              "      border: none;\n",
              "      border-radius: 50%;\n",
              "      cursor: pointer;\n",
              "      display: none;\n",
              "      fill: #1967D2;\n",
              "      height: 32px;\n",
              "      padding: 0 0 0 0;\n",
              "      width: 32px;\n",
              "    }\n",
              "\n",
              "    .colab-df-convert:hover {\n",
              "      background-color: #E2EBFA;\n",
              "      box-shadow: 0px 1px 2px rgba(60, 64, 67, 0.3), 0px 1px 3px 1px rgba(60, 64, 67, 0.15);\n",
              "      fill: #174EA6;\n",
              "    }\n",
              "\n",
              "    [theme=dark] .colab-df-convert {\n",
              "      background-color: #3B4455;\n",
              "      fill: #D2E3FC;\n",
              "    }\n",
              "\n",
              "    [theme=dark] .colab-df-convert:hover {\n",
              "      background-color: #434B5C;\n",
              "      box-shadow: 0px 1px 3px 1px rgba(0, 0, 0, 0.15);\n",
              "      filter: drop-shadow(0px 1px 2px rgba(0, 0, 0, 0.3));\n",
              "      fill: #FFFFFF;\n",
              "    }\n",
              "  </style>\n",
              "\n",
              "      <script>\n",
              "        const buttonEl =\n",
              "          document.querySelector('#df-43cb7da4-7f51-4c87-9aa2-eead18cb7df1 button.colab-df-convert');\n",
              "        buttonEl.style.display =\n",
              "          google.colab.kernel.accessAllowed ? 'block' : 'none';\n",
              "\n",
              "        async function convertToInteractive(key) {\n",
              "          const element = document.querySelector('#df-43cb7da4-7f51-4c87-9aa2-eead18cb7df1');\n",
              "          const dataTable =\n",
              "            await google.colab.kernel.invokeFunction('convertToInteractive',\n",
              "                                                     [key], {});\n",
              "          if (!dataTable) return;\n",
              "\n",
              "          const docLinkHtml = 'Like what you see? Visit the ' +\n",
              "            '<a target=\"_blank\" href=https://colab.research.google.com/notebooks/data_table.ipynb>data table notebook</a>'\n",
              "            + ' to learn more about interactive tables.';\n",
              "          element.innerHTML = '';\n",
              "          dataTable['output_type'] = 'display_data';\n",
              "          await google.colab.output.renderOutput(dataTable, element);\n",
              "          const docLink = document.createElement('div');\n",
              "          docLink.innerHTML = docLinkHtml;\n",
              "          element.appendChild(docLink);\n",
              "        }\n",
              "      </script>\n",
              "    </div>\n",
              "  </div>\n",
              "  "
            ]
          },
          "metadata": {},
          "execution_count": 20
        }
      ],
      "source": [
        "data = data.loc[data['empstat'] == 'employed']\n",
        "data"
      ]
    },
    {
      "cell_type": "code",
      "source": [
        "data.head(5)"
      ],
      "metadata": {
        "colab": {
          "base_uri": "https://localhost:8080/",
          "height": 206
        },
        "id": "KGE7h8pGdJLh",
        "outputId": "c53444f7-3c47-4339-af13-4904a6aa747c"
      },
      "execution_count": null,
      "outputs": [
        {
          "output_type": "execute_result",
          "data": {
            "text/plain": [
              "   age  inctot                 educ   empstat\n",
              "1   17    6000             grade 11  employed\n",
              "2   63    6150   4 years of college  employed\n",
              "5   50   50000             grade 12  employed\n",
              "9   17    2000             grade 12  employed\n",
              "10  47   18000  n/a or no schooling  employed"
            ],
            "text/html": [
              "\n",
              "  <div id=\"df-78edc54b-4326-40d0-839b-05ed0fad7b9a\">\n",
              "    <div class=\"colab-df-container\">\n",
              "      <div>\n",
              "<style scoped>\n",
              "    .dataframe tbody tr th:only-of-type {\n",
              "        vertical-align: middle;\n",
              "    }\n",
              "\n",
              "    .dataframe tbody tr th {\n",
              "        vertical-align: top;\n",
              "    }\n",
              "\n",
              "    .dataframe thead th {\n",
              "        text-align: right;\n",
              "    }\n",
              "</style>\n",
              "<table border=\"1\" class=\"dataframe\">\n",
              "  <thead>\n",
              "    <tr style=\"text-align: right;\">\n",
              "      <th></th>\n",
              "      <th>age</th>\n",
              "      <th>inctot</th>\n",
              "      <th>educ</th>\n",
              "      <th>empstat</th>\n",
              "    </tr>\n",
              "  </thead>\n",
              "  <tbody>\n",
              "    <tr>\n",
              "      <th>1</th>\n",
              "      <td>17</td>\n",
              "      <td>6000</td>\n",
              "      <td>grade 11</td>\n",
              "      <td>employed</td>\n",
              "    </tr>\n",
              "    <tr>\n",
              "      <th>2</th>\n",
              "      <td>63</td>\n",
              "      <td>6150</td>\n",
              "      <td>4 years of college</td>\n",
              "      <td>employed</td>\n",
              "    </tr>\n",
              "    <tr>\n",
              "      <th>5</th>\n",
              "      <td>50</td>\n",
              "      <td>50000</td>\n",
              "      <td>grade 12</td>\n",
              "      <td>employed</td>\n",
              "    </tr>\n",
              "    <tr>\n",
              "      <th>9</th>\n",
              "      <td>17</td>\n",
              "      <td>2000</td>\n",
              "      <td>grade 12</td>\n",
              "      <td>employed</td>\n",
              "    </tr>\n",
              "    <tr>\n",
              "      <th>10</th>\n",
              "      <td>47</td>\n",
              "      <td>18000</td>\n",
              "      <td>n/a or no schooling</td>\n",
              "      <td>employed</td>\n",
              "    </tr>\n",
              "  </tbody>\n",
              "</table>\n",
              "</div>\n",
              "      <button class=\"colab-df-convert\" onclick=\"convertToInteractive('df-78edc54b-4326-40d0-839b-05ed0fad7b9a')\"\n",
              "              title=\"Convert this dataframe to an interactive table.\"\n",
              "              style=\"display:none;\">\n",
              "        \n",
              "  <svg xmlns=\"http://www.w3.org/2000/svg\" height=\"24px\"viewBox=\"0 0 24 24\"\n",
              "       width=\"24px\">\n",
              "    <path d=\"M0 0h24v24H0V0z\" fill=\"none\"/>\n",
              "    <path d=\"M18.56 5.44l.94 2.06.94-2.06 2.06-.94-2.06-.94-.94-2.06-.94 2.06-2.06.94zm-11 1L8.5 8.5l.94-2.06 2.06-.94-2.06-.94L8.5 2.5l-.94 2.06-2.06.94zm10 10l.94 2.06.94-2.06 2.06-.94-2.06-.94-.94-2.06-.94 2.06-2.06.94z\"/><path d=\"M17.41 7.96l-1.37-1.37c-.4-.4-.92-.59-1.43-.59-.52 0-1.04.2-1.43.59L10.3 9.45l-7.72 7.72c-.78.78-.78 2.05 0 2.83L4 21.41c.39.39.9.59 1.41.59.51 0 1.02-.2 1.41-.59l7.78-7.78 2.81-2.81c.8-.78.8-2.07 0-2.86zM5.41 20L4 18.59l7.72-7.72 1.47 1.35L5.41 20z\"/>\n",
              "  </svg>\n",
              "      </button>\n",
              "      \n",
              "  <style>\n",
              "    .colab-df-container {\n",
              "      display:flex;\n",
              "      flex-wrap:wrap;\n",
              "      gap: 12px;\n",
              "    }\n",
              "\n",
              "    .colab-df-convert {\n",
              "      background-color: #E8F0FE;\n",
              "      border: none;\n",
              "      border-radius: 50%;\n",
              "      cursor: pointer;\n",
              "      display: none;\n",
              "      fill: #1967D2;\n",
              "      height: 32px;\n",
              "      padding: 0 0 0 0;\n",
              "      width: 32px;\n",
              "    }\n",
              "\n",
              "    .colab-df-convert:hover {\n",
              "      background-color: #E2EBFA;\n",
              "      box-shadow: 0px 1px 2px rgba(60, 64, 67, 0.3), 0px 1px 3px 1px rgba(60, 64, 67, 0.15);\n",
              "      fill: #174EA6;\n",
              "    }\n",
              "\n",
              "    [theme=dark] .colab-df-convert {\n",
              "      background-color: #3B4455;\n",
              "      fill: #D2E3FC;\n",
              "    }\n",
              "\n",
              "    [theme=dark] .colab-df-convert:hover {\n",
              "      background-color: #434B5C;\n",
              "      box-shadow: 0px 1px 3px 1px rgba(0, 0, 0, 0.15);\n",
              "      filter: drop-shadow(0px 1px 2px rgba(0, 0, 0, 0.3));\n",
              "      fill: #FFFFFF;\n",
              "    }\n",
              "  </style>\n",
              "\n",
              "      <script>\n",
              "        const buttonEl =\n",
              "          document.querySelector('#df-78edc54b-4326-40d0-839b-05ed0fad7b9a button.colab-df-convert');\n",
              "        buttonEl.style.display =\n",
              "          google.colab.kernel.accessAllowed ? 'block' : 'none';\n",
              "\n",
              "        async function convertToInteractive(key) {\n",
              "          const element = document.querySelector('#df-78edc54b-4326-40d0-839b-05ed0fad7b9a');\n",
              "          const dataTable =\n",
              "            await google.colab.kernel.invokeFunction('convertToInteractive',\n",
              "                                                     [key], {});\n",
              "          if (!dataTable) return;\n",
              "\n",
              "          const docLinkHtml = 'Like what you see? Visit the ' +\n",
              "            '<a target=\"_blank\" href=https://colab.research.google.com/notebooks/data_table.ipynb>data table notebook</a>'\n",
              "            + ' to learn more about interactive tables.';\n",
              "          element.innerHTML = '';\n",
              "          dataTable['output_type'] = 'display_data';\n",
              "          await google.colab.output.renderOutput(dataTable, element);\n",
              "          const docLink = document.createElement('div');\n",
              "          docLink.innerHTML = docLinkHtml;\n",
              "          element.appendChild(docLink);\n",
              "        }\n",
              "      </script>\n",
              "    </div>\n",
              "  </div>\n",
              "  "
            ]
          },
          "metadata": {},
          "execution_count": 29
        }
      ]
    },
    {
      "cell_type": "markdown",
      "metadata": {
        "id": "nGYe11biJ4Mf"
      },
      "source": [
        "Note que a nossa decisão de olhar apenas para pessoas que estão empregadas afeta como a gente deverá interpretar as nossas conclusões sobre a relação entre educação e trabalho. Como a gente está olhando apenas para pessoas que estão empregadas, e gente estará analisando a relação entre educação e remuneração para pessoas empregadas. Isso significa que se a educação aumenta as chances de alguém estar empregado, isso é algo que a gente não vai conseguir observar na nossa análise. (Economistas chamam isso de \"margem intensiva\", enquanto que a análise sobre se pessoas conseguem ou não arranjar um emprego se chama \"margem extensiva\")\n"
      ]
    },
    {
      "cell_type": "markdown",
      "metadata": {
        "id": "DlpHzfa1J4Mf"
      },
      "source": [
        "Agora, vamos abordar a questão da educação. A variável `educ` parece ter vários valores que são essencialmente categorias (chamamos de valores _discretos_, por oposição a valores _contínuos_). Vamos ver que valores existem e qual é a frequência de cada um deles usando o método `.value_counts()`. Esse método é muito útil e você vai usá-lo muito! \n",
        "\n",
        "#### Use o método `.value_counts()` na variável `educ` para ver quais os valores possiveis dessa variável e qual a frequência de cada um deles"
      ]
    },
    {
      "cell_type": "code",
      "execution_count": null,
      "metadata": {
        "id": "vW_lKbYDJ4Mf",
        "colab": {
          "base_uri": "https://localhost:8080/"
        },
        "outputId": "33b58492-d3b4-452e-9bf8-3df5fca29b51"
      },
      "outputs": [
        {
          "output_type": "execute_result",
          "data": {
            "text/plain": [
              "grade 12                     47815\n",
              "4 years of college           33174\n",
              "1 year of college            22899\n",
              "5+ years of college          20995\n",
              "2 years of college           14077\n",
              "grade 11                      2747\n",
              "grade 5, 6, 7, or 8           2092\n",
              "grade 10                      1910\n",
              "n/a or no schooling           1291\n",
              "grade 9                       1290\n",
              "nursery school to grade 4      468\n",
              "Name: educ, dtype: int64"
            ]
          },
          "metadata": {},
          "execution_count": 21
        }
      ],
      "source": [
        "data['educ'].value_counts()"
      ]
    },
    {
      "cell_type": "markdown",
      "metadata": {
        "id": "Hxe3_ddnJ4Mg"
      },
      "source": [
        "Existem vários valores possíveis e nem todos interessam.Vamos focar em apenas alguns.\n",
        "\n",
        "#### Qual é o valor médio de remuneração (`inctot`) para pessoas que têm o Ensino Médio completo?\n",
        "Obs.: Isso corresponde a ter uma escolaridade máxima (`educ`) igual a _grade 12_\n"
      ]
    },
    {
      "cell_type": "code",
      "source": [
        "from numpy import mean"
      ],
      "metadata": {
        "id": "vxkVJ1O1HROg"
      },
      "execution_count": null,
      "outputs": []
    },
    {
      "cell_type": "code",
      "execution_count": null,
      "metadata": {
        "id": "NJiuKP00J4Mg",
        "colab": {
          "base_uri": "https://localhost:8080/"
        },
        "outputId": "4dcc1363-4d1e-446f-f12e-60a1fac43f22"
      },
      "outputs": [
        {
          "output_type": "execute_result",
          "data": {
            "text/plain": [
              "38957.76068179442"
            ]
          },
          "metadata": {},
          "execution_count": 27
        }
      ],
      "source": [
        "data['inctot'][data.educ == 'grade 12'].mean()"
      ]
    },
    {
      "cell_type": "markdown",
      "metadata": {
        "id": "NuCdY83iJ4Mg"
      },
      "source": [
        "#### Qual é o valor médio de remuneração (`inctot`) para pessoas que concluíram a faculdade (`educ` igual a \"4 years of college\")?  O que isso sugere sobre o valor de se formar na faculdade, após concluir o Ensino Médio?"
      ]
    },
    {
      "cell_type": "code",
      "execution_count": null,
      "metadata": {
        "id": "NDB5fAbRJ4Mg",
        "colab": {
          "base_uri": "https://localhost:8080/"
        },
        "outputId": "eaec82b2-8b96-40fd-ffb1-63b714377fc8"
      },
      "outputs": [
        {
          "output_type": "execute_result",
          "data": {
            "text/plain": [
              "75485.05293301983"
            ]
          },
          "metadata": {},
          "execution_count": 28
        }
      ],
      "source": [
        "data['inctot'][data.educ == '4 years of college'].mean()"
      ]
    },
    {
      "cell_type": "code",
      "execution_count": null,
      "metadata": {
        "id": "NkCiO4vlJ4Mg"
      },
      "outputs": [],
      "source": [
        "# Sugere que o salário aumenta significativamente após o término da graduação"
      ]
    },
    {
      "cell_type": "markdown",
      "metadata": {
        "id": "cSyy7VuYJ4Mg"
      },
      "source": [
        "#### Qual é o valor médio de remuneração (`inctot`) para pessoas que não concluíram o Ensino Médio? O que isso sugere sobre o valor de um diploma de conclusão do Ensino Médio?"
      ]
    },
    {
      "cell_type": "code",
      "execution_count": null,
      "metadata": {
        "id": "A9_GiIL5J4Mg",
        "colab": {
          "base_uri": "https://localhost:8080/"
        },
        "outputId": "a05f42c8-387d-47db-c17a-bcb957c89518"
      },
      "outputs": [
        {
          "output_type": "execute_result",
          "data": {
            "text/plain": [
              "21541.68693119767"
            ]
          },
          "metadata": {},
          "execution_count": 29
        }
      ],
      "source": [
        "data['inctot'][data.educ == 'grade 11'].mean()"
      ]
    },
    {
      "cell_type": "markdown",
      "metadata": {
        "id": "zM_-DOSUJ4Mg"
      },
      "source": [
        "#### Calcule as seguintes quantidades:\n",
        "\n",
        "* Remuneração média para alguém que completou apenas a 9a série: ______________  \n",
        "* Remuneração média para alguém que completou apenas a 10a série: ______________  \n",
        "* Remuneração média para alguém que completou apenas a 11a série: ______________  \n",
        "* Remuneração média para alguém que completou o ensino médio (12a série): ______________  \n",
        "* Remuneração média para alguém que cursou 1 ano de faculdade mas largou (1 year of college): ____________\n",
        "* Remuneração média para alguém que cursou 2 anos de faculdade mas largou (2 years of college): ____________\n",
        "* Remuneração média para alguém que completou 4 anos de faculdade (que, para a maior parte dos cursos dos EUA, significa que a pessoa se formou na faculdade): ______________  \n",
        "\n",
        "Dica: Você pode usar suas respostas para os itens anteriores para fazer uma função. Depois, basta aplicar a função a cada caso.\n"
      ]
    },
    {
      "cell_type": "code",
      "execution_count": null,
      "metadata": {
        "colab": {
          "base_uri": "https://localhost:8080/"
        },
        "id": "RKk1I6aMZlUa",
        "outputId": "27c0b018-1694-407e-8b59-6e4e2d3722a5"
      },
      "outputs": [
        {
          "output_type": "execute_result",
          "data": {
            "text/plain": [
              "27171.907751937986"
            ]
          },
          "metadata": {},
          "execution_count": 41
        }
      ],
      "source": [
        "data['inctot'][data.educ == 'grade 9'].mean()"
      ]
    },
    {
      "cell_type": "code",
      "execution_count": null,
      "metadata": {
        "colab": {
          "base_uri": "https://localhost:8080/"
        },
        "id": "43_dcBRzZlAD",
        "outputId": "df64df73-5944-4e54-bab9-602f3463ebde"
      },
      "outputs": [
        {
          "output_type": "execute_result",
          "data": {
            "text/plain": [
              "23018.795811518325"
            ]
          },
          "metadata": {},
          "execution_count": 42
        }
      ],
      "source": [
        "data['inctot'][data.educ == 'grade 10'].mean()"
      ]
    },
    {
      "cell_type": "code",
      "execution_count": null,
      "metadata": {
        "colab": {
          "base_uri": "https://localhost:8080/"
        },
        "id": "oBYgQgL4Zkph",
        "outputId": "b5ce8722-5d18-4acd-9031-7bea772a7900"
      },
      "outputs": [
        {
          "output_type": "execute_result",
          "data": {
            "text/plain": [
              "21541.68693119767"
            ]
          },
          "metadata": {},
          "execution_count": 43
        }
      ],
      "source": [
        "data['inctot'][data.educ == 'grade 11'].mean()"
      ]
    },
    {
      "cell_type": "code",
      "source": [
        "data['inctot'][data.educ == 'grade 12'].mean()"
      ],
      "metadata": {
        "colab": {
          "base_uri": "https://localhost:8080/"
        },
        "id": "Fb_dFdtmZt0r",
        "outputId": "a8008d94-96c4-41bf-9ce6-f4fac4bbdb0a"
      },
      "execution_count": null,
      "outputs": [
        {
          "output_type": "execute_result",
          "data": {
            "text/plain": [
              "38957.76068179442"
            ]
          },
          "metadata": {},
          "execution_count": 44
        }
      ]
    },
    {
      "cell_type": "code",
      "source": [
        "data['inctot'][data.educ == '1 year of college'].mean()"
      ],
      "metadata": {
        "colab": {
          "base_uri": "https://localhost:8080/"
        },
        "id": "U2F23B9cZudY",
        "outputId": "1f7ecc05-be88-4af8-8cc1-2d00dff20ab4"
      },
      "execution_count": null,
      "outputs": [
        {
          "output_type": "execute_result",
          "data": {
            "text/plain": [
              "43123.87257085462"
            ]
          },
          "metadata": {},
          "execution_count": 45
        }
      ]
    },
    {
      "cell_type": "code",
      "source": [
        "data['inctot'][data.educ == '2 years of college'].mean()"
      ],
      "metadata": {
        "colab": {
          "base_uri": "https://localhost:8080/"
        },
        "id": "bBimH7mMZu8v",
        "outputId": "906a2dc0-ff89-451d-8ec7-05be00039a4d"
      },
      "execution_count": null,
      "outputs": [
        {
          "output_type": "execute_result",
          "data": {
            "text/plain": [
              "48679.305391773814"
            ]
          },
          "metadata": {},
          "execution_count": 47
        }
      ]
    },
    {
      "cell_type": "code",
      "source": [
        "data['inctot'][data.educ == '4 years of college'].mean()"
      ],
      "metadata": {
        "colab": {
          "base_uri": "https://localhost:8080/"
        },
        "id": "rKiNFFyYZvTx",
        "outputId": "da050f38-358e-4072-c45e-930dc18b5318"
      },
      "execution_count": null,
      "outputs": [
        {
          "output_type": "execute_result",
          "data": {
            "text/plain": [
              "75485.05293301983"
            ]
          },
          "metadata": {},
          "execution_count": 48
        }
      ]
    },
    {
      "cell_type": "code",
      "source": [
        "data['inctot'][data.educ == '5+ years of college'].mean()"
      ],
      "metadata": {
        "colab": {
          "base_uri": "https://localhost:8080/"
        },
        "id": "BHJqzoiPZr7W",
        "outputId": "53ebaa76-3f75-494c-d38e-48a4f786e35a"
      },
      "execution_count": null,
      "outputs": [
        {
          "output_type": "execute_result",
          "data": {
            "text/plain": [
              "110013.2213384139"
            ]
          },
          "metadata": {},
          "execution_count": 49
        }
      ]
    },
    {
      "cell_type": "markdown",
      "metadata": {
        "id": "K-6ia1TNJ4Mh"
      },
      "source": [
        "Você viu o que eu vi? Não faz muita diferença ir da $9^a$ série para a $10^a$, ou da $10^a$ para a $11^a$. Mas faz uma diferença _gigante_ sair da $11^a$ para efetivamente concluir o Ensino Médio ($12^a$ série).\n",
        "\n",
        "Na faculdade acontece a mesma coisa. Fazer 1 ano ou 2 anos não muda nada. Mas concluir a faculdade.... aí sim a diferença no salário fica expressiva!\n",
        "\n",
        "#### Por que você acha que isso acontece?"
      ]
    },
    {
      "cell_type": "code",
      "execution_count": null,
      "metadata": {
        "id": "MxFQyaP6J4Mh"
      },
      "outputs": [],
      "source": [
        "# As pessoas com diploma são mais valorizada e melhores remuneradas pelo mercado,\n",
        "# seja diploma de ensino médio ou superior, sempre agrega financeiramente mais."
      ]
    },
    {
      "cell_type": "markdown",
      "metadata": {
        "id": "PVfh_rJ8J4Mh"
      },
      "source": [
        "Parabéns! Você acaba de descobrir o _efeito da pele de cordeiro_ ([sheepskin effect](https://en.wikipedia.org/wiki/Sheepskin_effect#:~:text=The%20sheepskin%20effect%20is%20an%20applied%20economics%20theory,effect%20of%20possession%20of%20such%20an%20academic%20degree.)): pessoas com diplomas tendem a ganhar salários significativamente maiores do que pessoas que têm quase o mesmo nível de educação, mas não chegaram a efetivamente obter o diploma.\n",
        "\n",
        "Em Economia, isso é visto como evidência de que o motivo pelo qual empresas pagam mais a profissionais que têm faculdade do que a profissionais que não têm faculdade _não é_ porque elas acreditam que a faculdade lhes ensinou conteúdos importantes para o mercado de trabalho. Se esse fosse o caso, a gente esperaria que os salários crescessem progressivamente com cada ano de faculdade, já que a cada ano se aprende mais.\n",
        "\n",
        "Ao invés disso, esses resultados sugerem que empresas pagam mais para pessoas que têm um diploma universitário porque elas acreditam que esses profissionais são o tipo de pessoa que são mais prováveis de serem bem sucedidas nos seus trabalhos. Concluir uma faculdade, em outras palavras, não é apenas uma questão de acumular conhecimento. É também uma questão de sinalizar para o seu futuro empregador que você é o tipo de pessoa que consegue vencer o desafio de concluir uma faculdade, o que sugere que você também é o tipo de pessoa que vai conseguir vencer os desafios da vida profissional.\n",
        "\n",
        "(Obviamente, talvez os empregadores estejam completamente errados nessa conclusão. Pode ser. Não sabemos. Mas, estejam eles certos ou errados, aparentemente é assim que eles pensam).\n",
        "\n",
        "Em outras palavras, aos olhos dos empregadores, um diploma de faculdade é um _sinal_ sobre que tipo de pessoa você é, não um atestado de que você aprendeu determinados conteúdos acadêmicos. Essa idéia rendeu a [Michael Spence](https://en.wikipedia.org/wiki/Michael_Spence) o Prêmio Nobel de Economia."
      ]
    }
  ],
  "metadata": {
    "kernelspec": {
      "display_name": "Python 3 (ipykernel)",
      "language": "python",
      "name": "python3"
    },
    "language_info": {
      "codemirror_mode": {
        "name": "ipython",
        "version": 3
      },
      "file_extension": ".py",
      "mimetype": "text/x-python",
      "name": "python",
      "nbconvert_exporter": "python",
      "pygments_lexer": "ipython3",
      "version": "3.8.5"
    },
    "colab": {
      "provenance": [],
      "include_colab_link": true
    }
  },
  "nbformat": 4,
  "nbformat_minor": 0
}