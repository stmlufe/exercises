{
  "cells": [
    {
      "cell_type": "markdown",
      "metadata": {
        "id": "view-in-github",
        "colab_type": "text"
      },
      "source": [
        "<a href=\"https://colab.research.google.com/github/stmlufe/exercises/blob/master/L_30_Loops_Stella.ipynb\" target=\"_parent\"><img src=\"https://colab.research.google.com/assets/colab-badge.svg\" alt=\"Open In Colab\"/></a>"
      ]
    },
    {
      "cell_type": "markdown",
      "metadata": {
        "id": "oQNX12Ko8m6R"
      },
      "source": [
        "### For loops fora da função\n",
        "\n",
        "1. Liste o quadrado de todos os números, de 1 a 10, inclusive.  \n",
        "Eu vou dificultar isso um pouquinho: cuidado para não incluir o zero e não parar no 81."
      ]
    },
    {
      "cell_type": "code",
      "execution_count": null,
      "metadata": {
        "colab": {
          "base_uri": "https://localhost:8080/"
        },
        "id": "A8gt79io8m6W",
        "outputId": "147bc36e-6712-4230-c5f4-915c1eaf7766"
      },
      "outputs": [
        {
          "output_type": "stream",
          "name": "stdout",
          "text": [
            "1\n",
            "4\n",
            "9\n",
            "16\n",
            "25\n",
            "36\n",
            "49\n",
            "64\n",
            "81\n",
            "100\n"
          ]
        }
      ],
      "source": [
        "#Resposta\n",
        "def quadrado(i):\n",
        "    return(i**2)\n",
        "    \n",
        "for i in range(1,11):\n",
        "\n",
        "      print(quadrado(i))"
      ]
    },
    {
      "cell_type": "markdown",
      "metadata": {
        "id": "rgiR_ZUd8m6Y"
      },
      "source": [
        "2. Liste o quadrado de todos os números entre 1 a 10, saltando de 3 em 3"
      ]
    },
    {
      "cell_type": "code",
      "execution_count": null,
      "metadata": {
        "colab": {
          "base_uri": "https://localhost:8080/"
        },
        "id": "UTi490iq8m6Z",
        "outputId": "e9299c28-f814-4dce-eb2f-2c755b5f7980"
      },
      "outputs": [
        {
          "output_type": "stream",
          "name": "stdout",
          "text": [
            "1\n",
            "16\n",
            "49\n",
            "100\n"
          ]
        }
      ],
      "source": [
        "#Resposta\n",
        "\n",
        "for i in range(1,11,3): \n",
        "\n",
        "      print(quadrado(i))"
      ]
    },
    {
      "cell_type": "markdown",
      "metadata": {
        "id": "XuFxvSxF8m6a"
      },
      "source": [
        "3. A função a seguir dá o n-ésimo termo da série de Fibonacci. Use ela para listar os 10 primeiros termos da série de Fibonacci."
      ]
    },
    {
      "cell_type": "code",
      "execution_count": null,
      "metadata": {
        "id": "P1uhZBRZ8m6b"
      },
      "outputs": [],
      "source": [
        "def fib(n):\n",
        "    if (n == 0) | (n == 1):\n",
        "        return(1)\n",
        "    else:\n",
        "        return(fib(n-1) + fib(n-2))"
      ]
    },
    {
      "cell_type": "code",
      "execution_count": null,
      "metadata": {
        "colab": {
          "base_uri": "https://localhost:8080/"
        },
        "id": "nJ2x3Alm8m6c",
        "outputId": "b8bbfd05-7537-4ae1-997d-28ca8e08de60"
      },
      "outputs": [
        {
          "output_type": "stream",
          "name": "stdout",
          "text": [
            "1\n",
            "1\n",
            "2\n",
            "3\n",
            "5\n",
            "8\n",
            "13\n",
            "21\n",
            "34\n",
            "55\n"
          ]
        }
      ],
      "source": [
        "#Resposta\n",
        "for n in range(10):\n",
        "  print(fib(n))"
      ]
    },
    {
      "cell_type": "markdown",
      "metadata": {
        "id": "enOWrPoX8m6d"
      },
      "source": [
        "### For loops dentro da função\n",
        "\n",
        "1. Faça uma função que some os $n$ primeiros números ímpares. \n",
        "\n",
        "Note que essa função é diferente da que vimos em aula, onde somávamos todos os ímpares até $n$. \n",
        "\n",
        "Aqui, queremos uma função que, ao receber $n = 3$, some 1, 3 e 5, que são os 3 primeiros ímpares, e retorne 1 + 3 + 5 = 9.\n",
        "\n",
        "Dica: o n-ésimo número ímpar (começando a contar do zero) é $2n+1$"
      ]
    },
    {
      "cell_type": "code",
      "execution_count": null,
      "metadata": {
        "id": "KDVs5VuR8m6e"
      },
      "outputs": [],
      "source": [
        "#Resposta\n",
        "def soma_impares(i):\n",
        "    soma = 0\n",
        "    for i in range(1, 2*i+1, 2): #so galera ímpar!\n",
        "        soma = soma + i # outra forma de escrever seria \"soma+=i\"\n",
        "    return(soma)"
      ]
    },
    {
      "cell_type": "code",
      "source": [
        "soma_impares(5)"
      ],
      "metadata": {
        "colab": {
          "base_uri": "https://localhost:8080/"
        },
        "id": "tUrw7cpQKF6V",
        "outputId": "0fd62b93-b19e-4ea0-9aa5-460f80c2227a"
      },
      "execution_count": null,
      "outputs": [
        {
          "output_type": "execute_result",
          "data": {
            "text/plain": [
              "25"
            ]
          },
          "metadata": {},
          "execution_count": 15
        }
      ]
    },
    {
      "cell_type": "markdown",
      "metadata": {
        "id": "sKHyEd0x8m6f"
      },
      "source": [
        "O código abaixo lista o resultado da função acima para todos os valores de $n$, de 1 a 10, inclusive. Compare com a sua resposta para a primeira pergunta dessa lista, onde você listou o quadrado de todos os números de 1 a 10. Parece familiar?"
      ]
    },
    {
      "cell_type": "code",
      "execution_count": null,
      "metadata": {
        "colab": {
          "base_uri": "https://localhost:8080/"
        },
        "id": "cBk0ha1d8m6g",
        "outputId": "e5888151-1af1-4173-a42c-84d7c9686edc"
      },
      "outputs": [
        {
          "output_type": "stream",
          "name": "stdout",
          "text": [
            "1\n",
            "4\n",
            "9\n",
            "16\n",
            "25\n",
            "36\n",
            "49\n",
            "64\n",
            "81\n",
            "100\n"
          ]
        }
      ],
      "source": [
        "for i in range(1,11):\n",
        "    print(soma_impares(i))"
      ]
    },
    {
      "cell_type": "markdown",
      "metadata": {
        "id": "lPLPiilP8m6h"
      },
      "source": [
        "## Números primos\n",
        "\n",
        "Um número é primo caso ele não seja divisível por nenhum outro número menor que ele, exceto 1. \n",
        "\n",
        "Assim, 2, 3, 5, e 11 são primos.  \n",
        "8, 9 e 21 não são. \n",
        "\n",
        "Faça uma função para verificar se um número $n$ qualquer é primo.\n",
        "Sua função deve se chamar `primo` e retornar um booleano (True ou False)\n",
        "\n",
        "Para te ajudar, você pode usar a função abaixo, que verifica se um número é divisível por outro:"
      ]
    },
    {
      "cell_type": "code",
      "execution_count": null,
      "metadata": {
        "id": "V6p8h4W48m6i"
      },
      "outputs": [],
      "source": [
        "def divisivel(a,b):\n",
        "    return(a % b == 0)"
      ]
    },
    {
      "cell_type": "code",
      "source": [
        "divisivel(10,5)"
      ],
      "metadata": {
        "colab": {
          "base_uri": "https://localhost:8080/"
        },
        "id": "nZnFRTtdGzqq",
        "outputId": "17482efd-2c41-4724-9fd0-c2797c8bad83"
      },
      "execution_count": null,
      "outputs": [
        {
          "output_type": "execute_result",
          "data": {
            "text/plain": [
              "True"
            ]
          },
          "metadata": {},
          "execution_count": 17
        }
      ]
    },
    {
      "cell_type": "code",
      "execution_count": null,
      "metadata": {
        "id": "2RatEUHP8m6i"
      },
      "outputs": [],
      "source": [
        "#Resposta\n",
        "\n",
        "def primo(n):\n",
        "  for i in range (2,n):\n",
        "    if divisivel(n,i):\n",
        "      return False\n",
        "\n",
        "  return True"
      ]
    },
    {
      "cell_type": "code",
      "source": [
        "primo(45)"
      ],
      "metadata": {
        "colab": {
          "base_uri": "https://localhost:8080/"
        },
        "id": "QacsgPo-vACV",
        "outputId": "91d0a5aa-7ec3-4ef6-a08c-cb238768d539"
      },
      "execution_count": null,
      "outputs": [
        {
          "output_type": "execute_result",
          "data": {
            "text/plain": [
              "False"
            ]
          },
          "metadata": {},
          "execution_count": 26
        }
      ]
    },
    {
      "cell_type": "markdown",
      "metadata": {
        "id": "RGo77XKk8m6i"
      },
      "source": [
        "## Raiz quadrada pelo método babilônico\n",
        "\n",
        "Os babilônicos calculavam a raiz quadrada de um número assim...\n",
        "\n",
        "Digamos que a gente queira calcular a raiz de 50 e não saiba quanto é.\n",
        "A gente chuta: é 10!\n",
        "Bom, 50 dividido por 10 é uns 5.\n",
        "Então a raiz deve estar entre 10 e 5. Vamos na média: 7.5\n",
        "Esse é nosso novo chute, com o qual a gente repete o processo...\n",
        "\n",
        "Em suma, para calcular  raiz de um número $Q$:\n",
        "\n",
        "1. Chuta um valor $x$ (\"x\" de \"chute\")\n",
        "2. Divide $Q$ por $x$. Chama esse valor de $y$\n",
        "3. Tira a média entre $x$ e $y$. Esse vira o novo valor de $x$.\n",
        "4. Volta ao passo 2 e repete\n",
        "\n",
        "Quando é que a gente pára de repetir?\n",
        "Quando a diferença entre $x$ e $y$ fica pequena o suficiente para ser desprezada. Isso significa ser menor do que um valor pequeno, chamado tolerância.\n",
        "\n",
        "Faça uma função que calcule a raiz quadrada de um número $Q$ usando o método babilônico. Essa função deve receber 3 parâmetros:\n",
        "1. O número $Q$, cuja raiz quadrada queremos calcular\n",
        "2. O chute inicial, $x$. Por default, esse valor deve ser igual a 1.\n",
        "3. A tolerância, `tol`. Por default, esse valor deve ser igual a 0.01.\n",
        "\n",
        "A função deve se chamar `bsqrt`"
      ]
    },
    {
      "cell_type": "code",
      "execution_count": null,
      "metadata": {
        "id": "lB-ujAd_8m6j"
      },
      "outputs": [],
      "source": [
        "#Resposta\n",
        "\n",
        "def bsqrt (q, x = 1, tol = 0.01):\n",
        "  y = 0\n",
        "  while abs(x-y) > tol:\n",
        "    y = q/x\n",
        "    media = (x+y)/2\n",
        "    x = media\n",
        "\n",
        "  return x\n",
        " \n"
      ]
    },
    {
      "cell_type": "code",
      "source": [
        "bsqrt (50)"
      ],
      "metadata": {
        "colab": {
          "base_uri": "https://localhost:8080/"
        },
        "id": "aYxTVsHm6KRI",
        "outputId": "23d0c906-197a-4184-e631-95acfa6fa71b"
      },
      "execution_count": null,
      "outputs": [
        {
          "output_type": "execute_result",
          "data": {
            "text/plain": [
              "7.071067984011346"
            ]
          },
          "metadata": {},
          "execution_count": 14
        }
      ]
    }
  ],
  "metadata": {
    "kernelspec": {
      "display_name": "Python 3",
      "language": "python",
      "name": "python3"
    },
    "language_info": {
      "codemirror_mode": {
        "name": "ipython",
        "version": 3
      },
      "file_extension": ".py",
      "mimetype": "text/x-python",
      "name": "python",
      "nbconvert_exporter": "python",
      "pygments_lexer": "ipython3",
      "version": "3.8.3"
    },
    "colab": {
      "provenance": [],
      "include_colab_link": true
    }
  },
  "nbformat": 4,
  "nbformat_minor": 0
}